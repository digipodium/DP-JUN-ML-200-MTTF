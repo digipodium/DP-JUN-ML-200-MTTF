{
 "cells": [
  {
   "cell_type": "code",
   "execution_count": 127,
   "metadata": {},
   "outputs": [],
   "source": [
    "import pandas as pd\n",
    "import numpy as np\n",
    "import matplotlib.pyplot as plt\n",
    "import plotly.express as px\n",
    "\n",
    "from sklearn.model_selection import train_test_split\n",
    "from sklearn.tree import DecisionTreeClassifier\n",
    "from sklearn.neighbors import KNeighborsClassifier\n",
    "from sklearn.preprocessing import StandardScaler\n",
    "from sklearn.metrics import classification_report, confusion_matrix\n",
    "from sklearn.model_selection import GridSearchCV"
   ]
  },
  {
   "cell_type": "code",
   "execution_count": 128,
   "metadata": {},
   "outputs": [
    {
     "data": {
      "text/html": [
       "<div>\n",
       "<style scoped>\n",
       "    .dataframe tbody tr th:only-of-type {\n",
       "        vertical-align: middle;\n",
       "    }\n",
       "\n",
       "    .dataframe tbody tr th {\n",
       "        vertical-align: top;\n",
       "    }\n",
       "\n",
       "    .dataframe thead th {\n",
       "        text-align: right;\n",
       "    }\n",
       "</style>\n",
       "<table border=\"1\" class=\"dataframe\">\n",
       "  <thead>\n",
       "    <tr style=\"text-align: right;\">\n",
       "      <th></th>\n",
       "      <th>age</th>\n",
       "      <th>sex</th>\n",
       "      <th>cp</th>\n",
       "      <th>trestbps</th>\n",
       "      <th>chol</th>\n",
       "      <th>fbs</th>\n",
       "      <th>restecg</th>\n",
       "      <th>thalach</th>\n",
       "      <th>exang</th>\n",
       "      <th>oldpeak</th>\n",
       "      <th>slope</th>\n",
       "      <th>ca</th>\n",
       "      <th>thal</th>\n",
       "      <th>target</th>\n",
       "    </tr>\n",
       "  </thead>\n",
       "  <tbody>\n",
       "    <tr>\n",
       "      <th>0</th>\n",
       "      <td>63</td>\n",
       "      <td>1</td>\n",
       "      <td>3</td>\n",
       "      <td>145</td>\n",
       "      <td>233</td>\n",
       "      <td>1</td>\n",
       "      <td>0</td>\n",
       "      <td>150</td>\n",
       "      <td>0</td>\n",
       "      <td>2.3</td>\n",
       "      <td>0</td>\n",
       "      <td>0</td>\n",
       "      <td>1</td>\n",
       "      <td>1</td>\n",
       "    </tr>\n",
       "    <tr>\n",
       "      <th>1</th>\n",
       "      <td>37</td>\n",
       "      <td>1</td>\n",
       "      <td>2</td>\n",
       "      <td>130</td>\n",
       "      <td>250</td>\n",
       "      <td>0</td>\n",
       "      <td>1</td>\n",
       "      <td>187</td>\n",
       "      <td>0</td>\n",
       "      <td>3.5</td>\n",
       "      <td>0</td>\n",
       "      <td>0</td>\n",
       "      <td>2</td>\n",
       "      <td>1</td>\n",
       "    </tr>\n",
       "    <tr>\n",
       "      <th>2</th>\n",
       "      <td>41</td>\n",
       "      <td>0</td>\n",
       "      <td>1</td>\n",
       "      <td>130</td>\n",
       "      <td>204</td>\n",
       "      <td>0</td>\n",
       "      <td>0</td>\n",
       "      <td>172</td>\n",
       "      <td>0</td>\n",
       "      <td>1.4</td>\n",
       "      <td>2</td>\n",
       "      <td>0</td>\n",
       "      <td>2</td>\n",
       "      <td>1</td>\n",
       "    </tr>\n",
       "    <tr>\n",
       "      <th>3</th>\n",
       "      <td>56</td>\n",
       "      <td>1</td>\n",
       "      <td>1</td>\n",
       "      <td>120</td>\n",
       "      <td>236</td>\n",
       "      <td>0</td>\n",
       "      <td>1</td>\n",
       "      <td>178</td>\n",
       "      <td>0</td>\n",
       "      <td>0.8</td>\n",
       "      <td>2</td>\n",
       "      <td>0</td>\n",
       "      <td>2</td>\n",
       "      <td>1</td>\n",
       "    </tr>\n",
       "    <tr>\n",
       "      <th>4</th>\n",
       "      <td>57</td>\n",
       "      <td>0</td>\n",
       "      <td>0</td>\n",
       "      <td>120</td>\n",
       "      <td>354</td>\n",
       "      <td>0</td>\n",
       "      <td>1</td>\n",
       "      <td>163</td>\n",
       "      <td>1</td>\n",
       "      <td>0.6</td>\n",
       "      <td>2</td>\n",
       "      <td>0</td>\n",
       "      <td>2</td>\n",
       "      <td>1</td>\n",
       "    </tr>\n",
       "  </tbody>\n",
       "</table>\n",
       "</div>"
      ],
      "text/plain": [
       "   age  sex  cp  trestbps  chol  fbs  restecg  thalach  exang  oldpeak  slope  \\\n",
       "0   63    1   3       145   233    1        0      150      0      2.3      0   \n",
       "1   37    1   2       130   250    0        1      187      0      3.5      0   \n",
       "2   41    0   1       130   204    0        0      172      0      1.4      2   \n",
       "3   56    1   1       120   236    0        1      178      0      0.8      2   \n",
       "4   57    0   0       120   354    0        1      163      1      0.6      2   \n",
       "\n",
       "   ca  thal  target  \n",
       "0   0     1       1  \n",
       "1   0     2       1  \n",
       "2   0     2       1  \n",
       "3   0     2       1  \n",
       "4   0     2       1  "
      ]
     },
     "execution_count": 128,
     "metadata": {},
     "output_type": "execute_result"
    }
   ],
   "source": [
    "url = \"https://raw.githubusercontent.com/digipodium/Datasets/main/classfication/heart.csv\"\n",
    "df = pd.read_csv(url)\n",
    "df.head()"
   ]
  },
  {
   "cell_type": "code",
   "execution_count": 129,
   "metadata": {},
   "outputs": [],
   "source": [
    "scaler = StandardScaler()\n",
    "X = df.drop(columns=[\"target\"])\n",
    "X = scaler.fit_transform(X)\n",
    "y = df[\"target\"]\n"
   ]
  },
  {
   "cell_type": "code",
   "execution_count": 130,
   "metadata": {},
   "outputs": [],
   "source": [
    "clf = DecisionTreeClassifier(random_state=42)\n",
    "params = {\n",
    "    'criterion': [\"gini\", \"entropy\", \"log_loss\"],\n",
    "    'splitter' : [\"best\", \"random\"],\n",
    "    'max_depth': [5,10,15,20,50,100,150,200,250,300,350,400,450,500],\n",
    "    'min_samples_split': [2,3,4,5,6,7,8,9,10],\n",
    "}"
   ]
  },
  {
   "cell_type": "code",
   "execution_count": 131,
   "metadata": {},
   "outputs": [],
   "source": [
    "grid = GridSearchCV(\n",
    "    estimator=clf,\n",
    "    param_grid=params,\n",
    "    cv = 3,\n",
    "    n_jobs = -1,\n",
    "    verbose =3,\n",
    "    return_train_score=True\n",
    ")"
   ]
  },
  {
   "cell_type": "code",
   "execution_count": 132,
   "metadata": {},
   "outputs": [
    {
     "name": "stdout",
     "output_type": "stream",
     "text": [
      "Fitting 3 folds for each of 756 candidates, totalling 2268 fits\n"
     ]
    },
    {
     "data": {
      "text/html": [
       "<style>#sk-container-id-24 {color: black;background-color: white;}#sk-container-id-24 pre{padding: 0;}#sk-container-id-24 div.sk-toggleable {background-color: white;}#sk-container-id-24 label.sk-toggleable__label {cursor: pointer;display: block;width: 100%;margin-bottom: 0;padding: 0.3em;box-sizing: border-box;text-align: center;}#sk-container-id-24 label.sk-toggleable__label-arrow:before {content: \"▸\";float: left;margin-right: 0.25em;color: #696969;}#sk-container-id-24 label.sk-toggleable__label-arrow:hover:before {color: black;}#sk-container-id-24 div.sk-estimator:hover label.sk-toggleable__label-arrow:before {color: black;}#sk-container-id-24 div.sk-toggleable__content {max-height: 0;max-width: 0;overflow: hidden;text-align: left;background-color: #f0f8ff;}#sk-container-id-24 div.sk-toggleable__content pre {margin: 0.2em;color: black;border-radius: 0.25em;background-color: #f0f8ff;}#sk-container-id-24 input.sk-toggleable__control:checked~div.sk-toggleable__content {max-height: 200px;max-width: 100%;overflow: auto;}#sk-container-id-24 input.sk-toggleable__control:checked~label.sk-toggleable__label-arrow:before {content: \"▾\";}#sk-container-id-24 div.sk-estimator input.sk-toggleable__control:checked~label.sk-toggleable__label {background-color: #d4ebff;}#sk-container-id-24 div.sk-label input.sk-toggleable__control:checked~label.sk-toggleable__label {background-color: #d4ebff;}#sk-container-id-24 input.sk-hidden--visually {border: 0;clip: rect(1px 1px 1px 1px);clip: rect(1px, 1px, 1px, 1px);height: 1px;margin: -1px;overflow: hidden;padding: 0;position: absolute;width: 1px;}#sk-container-id-24 div.sk-estimator {font-family: monospace;background-color: #f0f8ff;border: 1px dotted black;border-radius: 0.25em;box-sizing: border-box;margin-bottom: 0.5em;}#sk-container-id-24 div.sk-estimator:hover {background-color: #d4ebff;}#sk-container-id-24 div.sk-parallel-item::after {content: \"\";width: 100%;border-bottom: 1px solid gray;flex-grow: 1;}#sk-container-id-24 div.sk-label:hover label.sk-toggleable__label {background-color: #d4ebff;}#sk-container-id-24 div.sk-serial::before {content: \"\";position: absolute;border-left: 1px solid gray;box-sizing: border-box;top: 0;bottom: 0;left: 50%;z-index: 0;}#sk-container-id-24 div.sk-serial {display: flex;flex-direction: column;align-items: center;background-color: white;padding-right: 0.2em;padding-left: 0.2em;position: relative;}#sk-container-id-24 div.sk-item {position: relative;z-index: 1;}#sk-container-id-24 div.sk-parallel {display: flex;align-items: stretch;justify-content: center;background-color: white;position: relative;}#sk-container-id-24 div.sk-item::before, #sk-container-id-24 div.sk-parallel-item::before {content: \"\";position: absolute;border-left: 1px solid gray;box-sizing: border-box;top: 0;bottom: 0;left: 50%;z-index: -1;}#sk-container-id-24 div.sk-parallel-item {display: flex;flex-direction: column;z-index: 1;position: relative;background-color: white;}#sk-container-id-24 div.sk-parallel-item:first-child::after {align-self: flex-end;width: 50%;}#sk-container-id-24 div.sk-parallel-item:last-child::after {align-self: flex-start;width: 50%;}#sk-container-id-24 div.sk-parallel-item:only-child::after {width: 0;}#sk-container-id-24 div.sk-dashed-wrapped {border: 1px dashed gray;margin: 0 0.4em 0.5em 0.4em;box-sizing: border-box;padding-bottom: 0.4em;background-color: white;}#sk-container-id-24 div.sk-label label {font-family: monospace;font-weight: bold;display: inline-block;line-height: 1.2em;}#sk-container-id-24 div.sk-label-container {text-align: center;}#sk-container-id-24 div.sk-container {/* jupyter's `normalize.less` sets `[hidden] { display: none; }` but bootstrap.min.css set `[hidden] { display: none !important; }` so we also need the `!important` here to be able to override the default hidden behavior on the sphinx rendered scikit-learn.org. See: https://github.com/scikit-learn/scikit-learn/issues/21755 */display: inline-block !important;position: relative;}#sk-container-id-24 div.sk-text-repr-fallback {display: none;}</style><div id=\"sk-container-id-24\" class=\"sk-top-container\"><div class=\"sk-text-repr-fallback\"><pre>GridSearchCV(cv=3, estimator=DecisionTreeClassifier(random_state=42), n_jobs=-1,\n",
       "             param_grid={&#x27;criterion&#x27;: [&#x27;gini&#x27;, &#x27;entropy&#x27;, &#x27;log_loss&#x27;],\n",
       "                         &#x27;max_depth&#x27;: [5, 10, 15, 20, 50, 100, 150, 200, 250,\n",
       "                                       300, 350, 400, 450, 500],\n",
       "                         &#x27;min_samples_split&#x27;: [2, 3, 4, 5, 6, 7, 8, 9, 10],\n",
       "                         &#x27;splitter&#x27;: [&#x27;best&#x27;, &#x27;random&#x27;]},\n",
       "             return_train_score=True, verbose=3)</pre><b>In a Jupyter environment, please rerun this cell to show the HTML representation or trust the notebook. <br />On GitHub, the HTML representation is unable to render, please try loading this page with nbviewer.org.</b></div><div class=\"sk-container\" hidden><div class=\"sk-item sk-dashed-wrapped\"><div class=\"sk-label-container\"><div class=\"sk-label sk-toggleable\"><input class=\"sk-toggleable__control sk-hidden--visually\" id=\"sk-estimator-id-60\" type=\"checkbox\" ><label for=\"sk-estimator-id-60\" class=\"sk-toggleable__label sk-toggleable__label-arrow\">GridSearchCV</label><div class=\"sk-toggleable__content\"><pre>GridSearchCV(cv=3, estimator=DecisionTreeClassifier(random_state=42), n_jobs=-1,\n",
       "             param_grid={&#x27;criterion&#x27;: [&#x27;gini&#x27;, &#x27;entropy&#x27;, &#x27;log_loss&#x27;],\n",
       "                         &#x27;max_depth&#x27;: [5, 10, 15, 20, 50, 100, 150, 200, 250,\n",
       "                                       300, 350, 400, 450, 500],\n",
       "                         &#x27;min_samples_split&#x27;: [2, 3, 4, 5, 6, 7, 8, 9, 10],\n",
       "                         &#x27;splitter&#x27;: [&#x27;best&#x27;, &#x27;random&#x27;]},\n",
       "             return_train_score=True, verbose=3)</pre></div></div></div><div class=\"sk-parallel\"><div class=\"sk-parallel-item\"><div class=\"sk-item\"><div class=\"sk-label-container\"><div class=\"sk-label sk-toggleable\"><input class=\"sk-toggleable__control sk-hidden--visually\" id=\"sk-estimator-id-61\" type=\"checkbox\" ><label for=\"sk-estimator-id-61\" class=\"sk-toggleable__label sk-toggleable__label-arrow\">estimator: DecisionTreeClassifier</label><div class=\"sk-toggleable__content\"><pre>DecisionTreeClassifier(random_state=42)</pre></div></div></div><div class=\"sk-serial\"><div class=\"sk-item\"><div class=\"sk-estimator sk-toggleable\"><input class=\"sk-toggleable__control sk-hidden--visually\" id=\"sk-estimator-id-62\" type=\"checkbox\" ><label for=\"sk-estimator-id-62\" class=\"sk-toggleable__label sk-toggleable__label-arrow\">DecisionTreeClassifier</label><div class=\"sk-toggleable__content\"><pre>DecisionTreeClassifier(random_state=42)</pre></div></div></div></div></div></div></div></div></div></div>"
      ],
      "text/plain": [
       "GridSearchCV(cv=3, estimator=DecisionTreeClassifier(random_state=42), n_jobs=-1,\n",
       "             param_grid={'criterion': ['gini', 'entropy', 'log_loss'],\n",
       "                         'max_depth': [5, 10, 15, 20, 50, 100, 150, 200, 250,\n",
       "                                       300, 350, 400, 450, 500],\n",
       "                         'min_samples_split': [2, 3, 4, 5, 6, 7, 8, 9, 10],\n",
       "                         'splitter': ['best', 'random']},\n",
       "             return_train_score=True, verbose=3)"
      ]
     },
     "execution_count": 132,
     "metadata": {},
     "output_type": "execute_result"
    }
   ],
   "source": [
    "grid.fit(X,y)"
   ]
  },
  {
   "cell_type": "code",
   "execution_count": 133,
   "metadata": {},
   "outputs": [
    {
     "data": {
      "text/html": [
       "<div>\n",
       "<style scoped>\n",
       "    .dataframe tbody tr th:only-of-type {\n",
       "        vertical-align: middle;\n",
       "    }\n",
       "\n",
       "    .dataframe tbody tr th {\n",
       "        vertical-align: top;\n",
       "    }\n",
       "\n",
       "    .dataframe thead th {\n",
       "        text-align: right;\n",
       "    }\n",
       "</style>\n",
       "<table border=\"1\" class=\"dataframe\">\n",
       "  <thead>\n",
       "    <tr style=\"text-align: right;\">\n",
       "      <th></th>\n",
       "      <th>mean_fit_time</th>\n",
       "      <th>std_fit_time</th>\n",
       "      <th>mean_score_time</th>\n",
       "      <th>std_score_time</th>\n",
       "      <th>param_criterion</th>\n",
       "      <th>param_max_depth</th>\n",
       "      <th>param_min_samples_split</th>\n",
       "      <th>param_splitter</th>\n",
       "      <th>params</th>\n",
       "      <th>split0_test_score</th>\n",
       "      <th>split1_test_score</th>\n",
       "      <th>split2_test_score</th>\n",
       "      <th>mean_test_score</th>\n",
       "      <th>std_test_score</th>\n",
       "      <th>rank_test_score</th>\n",
       "      <th>split0_train_score</th>\n",
       "      <th>split1_train_score</th>\n",
       "      <th>split2_train_score</th>\n",
       "      <th>mean_train_score</th>\n",
       "      <th>std_train_score</th>\n",
       "    </tr>\n",
       "  </thead>\n",
       "  <tbody>\n",
       "    <tr>\n",
       "      <th>0</th>\n",
       "      <td>0.001666</td>\n",
       "      <td>0.000471</td>\n",
       "      <td>0.000333</td>\n",
       "      <td>4.714827e-04</td>\n",
       "      <td>gini</td>\n",
       "      <td>5</td>\n",
       "      <td>2</td>\n",
       "      <td>best</td>\n",
       "      <td>{'criterion': 'gini', 'max_depth': 5, 'min_sam...</td>\n",
       "      <td>0.801980</td>\n",
       "      <td>0.712871</td>\n",
       "      <td>0.673267</td>\n",
       "      <td>0.729373</td>\n",
       "      <td>0.053827</td>\n",
       "      <td>538</td>\n",
       "      <td>0.960396</td>\n",
       "      <td>0.920792</td>\n",
       "      <td>0.940594</td>\n",
       "      <td>0.940594</td>\n",
       "      <td>0.016168</td>\n",
       "    </tr>\n",
       "    <tr>\n",
       "      <th>1</th>\n",
       "      <td>0.001333</td>\n",
       "      <td>0.000471</td>\n",
       "      <td>0.000333</td>\n",
       "      <td>4.715951e-04</td>\n",
       "      <td>gini</td>\n",
       "      <td>5</td>\n",
       "      <td>2</td>\n",
       "      <td>random</td>\n",
       "      <td>{'criterion': 'gini', 'max_depth': 5, 'min_sam...</td>\n",
       "      <td>0.841584</td>\n",
       "      <td>0.792079</td>\n",
       "      <td>0.752475</td>\n",
       "      <td>0.795380</td>\n",
       "      <td>0.036453</td>\n",
       "      <td>25</td>\n",
       "      <td>0.915842</td>\n",
       "      <td>0.900990</td>\n",
       "      <td>0.935644</td>\n",
       "      <td>0.917492</td>\n",
       "      <td>0.014195</td>\n",
       "    </tr>\n",
       "    <tr>\n",
       "      <th>2</th>\n",
       "      <td>0.002373</td>\n",
       "      <td>0.000930</td>\n",
       "      <td>0.000333</td>\n",
       "      <td>4.715951e-04</td>\n",
       "      <td>gini</td>\n",
       "      <td>5</td>\n",
       "      <td>3</td>\n",
       "      <td>best</td>\n",
       "      <td>{'criterion': 'gini', 'max_depth': 5, 'min_sam...</td>\n",
       "      <td>0.801980</td>\n",
       "      <td>0.712871</td>\n",
       "      <td>0.673267</td>\n",
       "      <td>0.729373</td>\n",
       "      <td>0.053827</td>\n",
       "      <td>538</td>\n",
       "      <td>0.960396</td>\n",
       "      <td>0.915842</td>\n",
       "      <td>0.940594</td>\n",
       "      <td>0.938944</td>\n",
       "      <td>0.018227</td>\n",
       "    </tr>\n",
       "    <tr>\n",
       "      <th>3</th>\n",
       "      <td>0.001775</td>\n",
       "      <td>0.000189</td>\n",
       "      <td>0.000334</td>\n",
       "      <td>4.729438e-04</td>\n",
       "      <td>gini</td>\n",
       "      <td>5</td>\n",
       "      <td>3</td>\n",
       "      <td>random</td>\n",
       "      <td>{'criterion': 'gini', 'max_depth': 5, 'min_sam...</td>\n",
       "      <td>0.831683</td>\n",
       "      <td>0.792079</td>\n",
       "      <td>0.752475</td>\n",
       "      <td>0.792079</td>\n",
       "      <td>0.032336</td>\n",
       "      <td>30</td>\n",
       "      <td>0.900990</td>\n",
       "      <td>0.900990</td>\n",
       "      <td>0.935644</td>\n",
       "      <td>0.912541</td>\n",
       "      <td>0.016336</td>\n",
       "    </tr>\n",
       "    <tr>\n",
       "      <th>4</th>\n",
       "      <td>0.001868</td>\n",
       "      <td>0.000234</td>\n",
       "      <td>0.000000</td>\n",
       "      <td>0.000000e+00</td>\n",
       "      <td>gini</td>\n",
       "      <td>5</td>\n",
       "      <td>4</td>\n",
       "      <td>best</td>\n",
       "      <td>{'criterion': 'gini', 'max_depth': 5, 'min_sam...</td>\n",
       "      <td>0.792079</td>\n",
       "      <td>0.712871</td>\n",
       "      <td>0.673267</td>\n",
       "      <td>0.726073</td>\n",
       "      <td>0.049395</td>\n",
       "      <td>607</td>\n",
       "      <td>0.955446</td>\n",
       "      <td>0.915842</td>\n",
       "      <td>0.935644</td>\n",
       "      <td>0.935644</td>\n",
       "      <td>0.016168</td>\n",
       "    </tr>\n",
       "    <tr>\n",
       "      <th>...</th>\n",
       "      <td>...</td>\n",
       "      <td>...</td>\n",
       "      <td>...</td>\n",
       "      <td>...</td>\n",
       "      <td>...</td>\n",
       "      <td>...</td>\n",
       "      <td>...</td>\n",
       "      <td>...</td>\n",
       "      <td>...</td>\n",
       "      <td>...</td>\n",
       "      <td>...</td>\n",
       "      <td>...</td>\n",
       "      <td>...</td>\n",
       "      <td>...</td>\n",
       "      <td>...</td>\n",
       "      <td>...</td>\n",
       "      <td>...</td>\n",
       "      <td>...</td>\n",
       "      <td>...</td>\n",
       "      <td>...</td>\n",
       "    </tr>\n",
       "    <tr>\n",
       "      <th>751</th>\n",
       "      <td>0.002043</td>\n",
       "      <td>0.000030</td>\n",
       "      <td>0.000335</td>\n",
       "      <td>4.736182e-04</td>\n",
       "      <td>log_loss</td>\n",
       "      <td>500</td>\n",
       "      <td>8</td>\n",
       "      <td>random</td>\n",
       "      <td>{'criterion': 'log_loss', 'max_depth': 500, 'm...</td>\n",
       "      <td>0.762376</td>\n",
       "      <td>0.881188</td>\n",
       "      <td>0.712871</td>\n",
       "      <td>0.785479</td>\n",
       "      <td>0.070630</td>\n",
       "      <td>87</td>\n",
       "      <td>0.905941</td>\n",
       "      <td>0.930693</td>\n",
       "      <td>0.940594</td>\n",
       "      <td>0.925743</td>\n",
       "      <td>0.014574</td>\n",
       "    </tr>\n",
       "    <tr>\n",
       "      <th>752</th>\n",
       "      <td>0.002042</td>\n",
       "      <td>0.000817</td>\n",
       "      <td>0.001038</td>\n",
       "      <td>8.631691e-04</td>\n",
       "      <td>log_loss</td>\n",
       "      <td>500</td>\n",
       "      <td>9</td>\n",
       "      <td>best</td>\n",
       "      <td>{'criterion': 'log_loss', 'max_depth': 500, 'm...</td>\n",
       "      <td>0.742574</td>\n",
       "      <td>0.732673</td>\n",
       "      <td>0.712871</td>\n",
       "      <td>0.729373</td>\n",
       "      <td>0.012349</td>\n",
       "      <td>538</td>\n",
       "      <td>0.950495</td>\n",
       "      <td>0.930693</td>\n",
       "      <td>0.935644</td>\n",
       "      <td>0.938944</td>\n",
       "      <td>0.008414</td>\n",
       "    </tr>\n",
       "    <tr>\n",
       "      <th>753</th>\n",
       "      <td>0.001704</td>\n",
       "      <td>0.000500</td>\n",
       "      <td>0.000333</td>\n",
       "      <td>4.711456e-04</td>\n",
       "      <td>log_loss</td>\n",
       "      <td>500</td>\n",
       "      <td>9</td>\n",
       "      <td>random</td>\n",
       "      <td>{'criterion': 'log_loss', 'max_depth': 500, 'm...</td>\n",
       "      <td>0.792079</td>\n",
       "      <td>0.831683</td>\n",
       "      <td>0.732673</td>\n",
       "      <td>0.785479</td>\n",
       "      <td>0.040689</td>\n",
       "      <td>87</td>\n",
       "      <td>0.896040</td>\n",
       "      <td>0.925743</td>\n",
       "      <td>0.910891</td>\n",
       "      <td>0.910891</td>\n",
       "      <td>0.012126</td>\n",
       "    </tr>\n",
       "    <tr>\n",
       "      <th>754</th>\n",
       "      <td>0.001790</td>\n",
       "      <td>0.000522</td>\n",
       "      <td>0.001083</td>\n",
       "      <td>9.209063e-04</td>\n",
       "      <td>log_loss</td>\n",
       "      <td>500</td>\n",
       "      <td>10</td>\n",
       "      <td>best</td>\n",
       "      <td>{'criterion': 'log_loss', 'max_depth': 500, 'm...</td>\n",
       "      <td>0.742574</td>\n",
       "      <td>0.732673</td>\n",
       "      <td>0.693069</td>\n",
       "      <td>0.722772</td>\n",
       "      <td>0.021389</td>\n",
       "      <td>637</td>\n",
       "      <td>0.935644</td>\n",
       "      <td>0.930693</td>\n",
       "      <td>0.920792</td>\n",
       "      <td>0.929043</td>\n",
       "      <td>0.006174</td>\n",
       "    </tr>\n",
       "    <tr>\n",
       "      <th>755</th>\n",
       "      <td>0.001750</td>\n",
       "      <td>0.001060</td>\n",
       "      <td>0.001000</td>\n",
       "      <td>5.947204e-07</td>\n",
       "      <td>log_loss</td>\n",
       "      <td>500</td>\n",
       "      <td>10</td>\n",
       "      <td>random</td>\n",
       "      <td>{'criterion': 'log_loss', 'max_depth': 500, 'm...</td>\n",
       "      <td>0.801980</td>\n",
       "      <td>0.782178</td>\n",
       "      <td>0.722772</td>\n",
       "      <td>0.768977</td>\n",
       "      <td>0.033657</td>\n",
       "      <td>223</td>\n",
       "      <td>0.896040</td>\n",
       "      <td>0.876238</td>\n",
       "      <td>0.905941</td>\n",
       "      <td>0.892739</td>\n",
       "      <td>0.012349</td>\n",
       "    </tr>\n",
       "  </tbody>\n",
       "</table>\n",
       "<p>756 rows × 20 columns</p>\n",
       "</div>"
      ],
      "text/plain": [
       "     mean_fit_time  std_fit_time  mean_score_time  std_score_time  \\\n",
       "0         0.001666      0.000471         0.000333    4.714827e-04   \n",
       "1         0.001333      0.000471         0.000333    4.715951e-04   \n",
       "2         0.002373      0.000930         0.000333    4.715951e-04   \n",
       "3         0.001775      0.000189         0.000334    4.729438e-04   \n",
       "4         0.001868      0.000234         0.000000    0.000000e+00   \n",
       "..             ...           ...              ...             ...   \n",
       "751       0.002043      0.000030         0.000335    4.736182e-04   \n",
       "752       0.002042      0.000817         0.001038    8.631691e-04   \n",
       "753       0.001704      0.000500         0.000333    4.711456e-04   \n",
       "754       0.001790      0.000522         0.001083    9.209063e-04   \n",
       "755       0.001750      0.001060         0.001000    5.947204e-07   \n",
       "\n",
       "    param_criterion param_max_depth param_min_samples_split param_splitter  \\\n",
       "0              gini               5                       2           best   \n",
       "1              gini               5                       2         random   \n",
       "2              gini               5                       3           best   \n",
       "3              gini               5                       3         random   \n",
       "4              gini               5                       4           best   \n",
       "..              ...             ...                     ...            ...   \n",
       "751        log_loss             500                       8         random   \n",
       "752        log_loss             500                       9           best   \n",
       "753        log_loss             500                       9         random   \n",
       "754        log_loss             500                      10           best   \n",
       "755        log_loss             500                      10         random   \n",
       "\n",
       "                                                params  split0_test_score  \\\n",
       "0    {'criterion': 'gini', 'max_depth': 5, 'min_sam...           0.801980   \n",
       "1    {'criterion': 'gini', 'max_depth': 5, 'min_sam...           0.841584   \n",
       "2    {'criterion': 'gini', 'max_depth': 5, 'min_sam...           0.801980   \n",
       "3    {'criterion': 'gini', 'max_depth': 5, 'min_sam...           0.831683   \n",
       "4    {'criterion': 'gini', 'max_depth': 5, 'min_sam...           0.792079   \n",
       "..                                                 ...                ...   \n",
       "751  {'criterion': 'log_loss', 'max_depth': 500, 'm...           0.762376   \n",
       "752  {'criterion': 'log_loss', 'max_depth': 500, 'm...           0.742574   \n",
       "753  {'criterion': 'log_loss', 'max_depth': 500, 'm...           0.792079   \n",
       "754  {'criterion': 'log_loss', 'max_depth': 500, 'm...           0.742574   \n",
       "755  {'criterion': 'log_loss', 'max_depth': 500, 'm...           0.801980   \n",
       "\n",
       "     split1_test_score  split2_test_score  mean_test_score  std_test_score  \\\n",
       "0             0.712871           0.673267         0.729373        0.053827   \n",
       "1             0.792079           0.752475         0.795380        0.036453   \n",
       "2             0.712871           0.673267         0.729373        0.053827   \n",
       "3             0.792079           0.752475         0.792079        0.032336   \n",
       "4             0.712871           0.673267         0.726073        0.049395   \n",
       "..                 ...                ...              ...             ...   \n",
       "751           0.881188           0.712871         0.785479        0.070630   \n",
       "752           0.732673           0.712871         0.729373        0.012349   \n",
       "753           0.831683           0.732673         0.785479        0.040689   \n",
       "754           0.732673           0.693069         0.722772        0.021389   \n",
       "755           0.782178           0.722772         0.768977        0.033657   \n",
       "\n",
       "     rank_test_score  split0_train_score  split1_train_score  \\\n",
       "0                538            0.960396            0.920792   \n",
       "1                 25            0.915842            0.900990   \n",
       "2                538            0.960396            0.915842   \n",
       "3                 30            0.900990            0.900990   \n",
       "4                607            0.955446            0.915842   \n",
       "..               ...                 ...                 ...   \n",
       "751               87            0.905941            0.930693   \n",
       "752              538            0.950495            0.930693   \n",
       "753               87            0.896040            0.925743   \n",
       "754              637            0.935644            0.930693   \n",
       "755              223            0.896040            0.876238   \n",
       "\n",
       "     split2_train_score  mean_train_score  std_train_score  \n",
       "0              0.940594          0.940594         0.016168  \n",
       "1              0.935644          0.917492         0.014195  \n",
       "2              0.940594          0.938944         0.018227  \n",
       "3              0.935644          0.912541         0.016336  \n",
       "4              0.935644          0.935644         0.016168  \n",
       "..                  ...               ...              ...  \n",
       "751            0.940594          0.925743         0.014574  \n",
       "752            0.935644          0.938944         0.008414  \n",
       "753            0.910891          0.910891         0.012126  \n",
       "754            0.920792          0.929043         0.006174  \n",
       "755            0.905941          0.892739         0.012349  \n",
       "\n",
       "[756 rows x 20 columns]"
      ]
     },
     "execution_count": 133,
     "metadata": {},
     "output_type": "execute_result"
    }
   ],
   "source": [
    "grid_tree_results = pd.DataFrame(grid.cv_results_)\n",
    "grid_tree_results"
   ]
  },
  {
   "cell_type": "code",
   "execution_count": 134,
   "metadata": {},
   "outputs": [
    {
     "data": {
      "text/html": [
       "<div>\n",
       "<style scoped>\n",
       "    .dataframe tbody tr th:only-of-type {\n",
       "        vertical-align: middle;\n",
       "    }\n",
       "\n",
       "    .dataframe tbody tr th {\n",
       "        vertical-align: top;\n",
       "    }\n",
       "\n",
       "    .dataframe thead th {\n",
       "        text-align: right;\n",
       "    }\n",
       "</style>\n",
       "<table border=\"1\" class=\"dataframe\">\n",
       "  <thead>\n",
       "    <tr style=\"text-align: right;\">\n",
       "      <th></th>\n",
       "      <th>index</th>\n",
       "      <th>mean_fit_time</th>\n",
       "      <th>std_fit_time</th>\n",
       "      <th>mean_score_time</th>\n",
       "      <th>std_score_time</th>\n",
       "      <th>param_criterion</th>\n",
       "      <th>param_max_depth</th>\n",
       "      <th>param_min_samples_split</th>\n",
       "      <th>param_splitter</th>\n",
       "      <th>params</th>\n",
       "      <th>...</th>\n",
       "      <th>split1_test_score</th>\n",
       "      <th>split2_test_score</th>\n",
       "      <th>mean_test_score</th>\n",
       "      <th>std_test_score</th>\n",
       "      <th>rank_test_score</th>\n",
       "      <th>split0_train_score</th>\n",
       "      <th>split1_train_score</th>\n",
       "      <th>split2_train_score</th>\n",
       "      <th>mean_train_score</th>\n",
       "      <th>std_train_score</th>\n",
       "    </tr>\n",
       "  </thead>\n",
       "  <tbody>\n",
       "    <tr>\n",
       "      <th>0</th>\n",
       "      <td>15</td>\n",
       "      <td>0.001001</td>\n",
       "      <td>1.123916e-07</td>\n",
       "      <td>0.001001</td>\n",
       "      <td>2.247832e-07</td>\n",
       "      <td>gini</td>\n",
       "      <td>5</td>\n",
       "      <td>9</td>\n",
       "      <td>random</td>\n",
       "      <td>{'criterion': 'gini', 'max_depth': 5, 'min_sam...</td>\n",
       "      <td>...</td>\n",
       "      <td>0.841584</td>\n",
       "      <td>0.772277</td>\n",
       "      <td>0.818482</td>\n",
       "      <td>0.032672</td>\n",
       "      <td>1</td>\n",
       "      <td>0.905941</td>\n",
       "      <td>0.871287</td>\n",
       "      <td>0.891089</td>\n",
       "      <td>0.889439</td>\n",
       "      <td>0.014195</td>\n",
       "    </tr>\n",
       "    <tr>\n",
       "      <th>1</th>\n",
       "      <td>177</td>\n",
       "      <td>0.001334</td>\n",
       "      <td>4.705856e-04</td>\n",
       "      <td>0.000333</td>\n",
       "      <td>4.709208e-04</td>\n",
       "      <td>gini</td>\n",
       "      <td>300</td>\n",
       "      <td>9</td>\n",
       "      <td>random</td>\n",
       "      <td>{'criterion': 'gini', 'max_depth': 300, 'min_s...</td>\n",
       "      <td>...</td>\n",
       "      <td>0.861386</td>\n",
       "      <td>0.752475</td>\n",
       "      <td>0.815182</td>\n",
       "      <td>0.045968</td>\n",
       "      <td>2</td>\n",
       "      <td>0.896040</td>\n",
       "      <td>0.915842</td>\n",
       "      <td>0.905941</td>\n",
       "      <td>0.905941</td>\n",
       "      <td>0.008084</td>\n",
       "    </tr>\n",
       "    <tr>\n",
       "      <th>2</th>\n",
       "      <td>231</td>\n",
       "      <td>0.002001</td>\n",
       "      <td>8.151725e-04</td>\n",
       "      <td>0.000000</td>\n",
       "      <td>0.000000e+00</td>\n",
       "      <td>gini</td>\n",
       "      <td>450</td>\n",
       "      <td>9</td>\n",
       "      <td>random</td>\n",
       "      <td>{'criterion': 'gini', 'max_depth': 450, 'min_s...</td>\n",
       "      <td>...</td>\n",
       "      <td>0.861386</td>\n",
       "      <td>0.752475</td>\n",
       "      <td>0.815182</td>\n",
       "      <td>0.045968</td>\n",
       "      <td>2</td>\n",
       "      <td>0.896040</td>\n",
       "      <td>0.915842</td>\n",
       "      <td>0.905941</td>\n",
       "      <td>0.905941</td>\n",
       "      <td>0.008084</td>\n",
       "    </tr>\n",
       "    <tr>\n",
       "      <th>3</th>\n",
       "      <td>69</td>\n",
       "      <td>0.001666</td>\n",
       "      <td>4.721032e-04</td>\n",
       "      <td>0.000000</td>\n",
       "      <td>0.000000e+00</td>\n",
       "      <td>gini</td>\n",
       "      <td>20</td>\n",
       "      <td>9</td>\n",
       "      <td>random</td>\n",
       "      <td>{'criterion': 'gini', 'max_depth': 20, 'min_sa...</td>\n",
       "      <td>...</td>\n",
       "      <td>0.861386</td>\n",
       "      <td>0.752475</td>\n",
       "      <td>0.815182</td>\n",
       "      <td>0.045968</td>\n",
       "      <td>2</td>\n",
       "      <td>0.896040</td>\n",
       "      <td>0.915842</td>\n",
       "      <td>0.905941</td>\n",
       "      <td>0.905941</td>\n",
       "      <td>0.008084</td>\n",
       "    </tr>\n",
       "    <tr>\n",
       "      <th>4</th>\n",
       "      <td>33</td>\n",
       "      <td>0.001667</td>\n",
       "      <td>4.709778e-04</td>\n",
       "      <td>0.000667</td>\n",
       "      <td>4.714829e-04</td>\n",
       "      <td>gini</td>\n",
       "      <td>10</td>\n",
       "      <td>9</td>\n",
       "      <td>random</td>\n",
       "      <td>{'criterion': 'gini', 'max_depth': 10, 'min_sa...</td>\n",
       "      <td>...</td>\n",
       "      <td>0.861386</td>\n",
       "      <td>0.752475</td>\n",
       "      <td>0.815182</td>\n",
       "      <td>0.045968</td>\n",
       "      <td>2</td>\n",
       "      <td>0.896040</td>\n",
       "      <td>0.915842</td>\n",
       "      <td>0.905941</td>\n",
       "      <td>0.905941</td>\n",
       "      <td>0.008084</td>\n",
       "    </tr>\n",
       "    <tr>\n",
       "      <th>...</th>\n",
       "      <td>...</td>\n",
       "      <td>...</td>\n",
       "      <td>...</td>\n",
       "      <td>...</td>\n",
       "      <td>...</td>\n",
       "      <td>...</td>\n",
       "      <td>...</td>\n",
       "      <td>...</td>\n",
       "      <td>...</td>\n",
       "      <td>...</td>\n",
       "      <td>...</td>\n",
       "      <td>...</td>\n",
       "      <td>...</td>\n",
       "      <td>...</td>\n",
       "      <td>...</td>\n",
       "      <td>...</td>\n",
       "      <td>...</td>\n",
       "      <td>...</td>\n",
       "      <td>...</td>\n",
       "      <td>...</td>\n",
       "      <td>...</td>\n",
       "    </tr>\n",
       "    <tr>\n",
       "      <th>751</th>\n",
       "      <td>56</td>\n",
       "      <td>0.002334</td>\n",
       "      <td>4.714828e-04</td>\n",
       "      <td>0.000000</td>\n",
       "      <td>0.000000e+00</td>\n",
       "      <td>gini</td>\n",
       "      <td>20</td>\n",
       "      <td>3</td>\n",
       "      <td>best</td>\n",
       "      <td>{'criterion': 'gini', 'max_depth': 20, 'min_sa...</td>\n",
       "      <td>...</td>\n",
       "      <td>0.712871</td>\n",
       "      <td>0.683168</td>\n",
       "      <td>0.706271</td>\n",
       "      <td>0.016828</td>\n",
       "      <td>744</td>\n",
       "      <td>0.985149</td>\n",
       "      <td>0.985149</td>\n",
       "      <td>0.995050</td>\n",
       "      <td>0.988449</td>\n",
       "      <td>0.004667</td>\n",
       "    </tr>\n",
       "    <tr>\n",
       "      <th>752</th>\n",
       "      <td>182</td>\n",
       "      <td>0.001668</td>\n",
       "      <td>4.725506e-04</td>\n",
       "      <td>0.000667</td>\n",
       "      <td>4.717079e-04</td>\n",
       "      <td>gini</td>\n",
       "      <td>350</td>\n",
       "      <td>3</td>\n",
       "      <td>best</td>\n",
       "      <td>{'criterion': 'gini', 'max_depth': 350, 'min_s...</td>\n",
       "      <td>...</td>\n",
       "      <td>0.712871</td>\n",
       "      <td>0.683168</td>\n",
       "      <td>0.706271</td>\n",
       "      <td>0.016828</td>\n",
       "      <td>744</td>\n",
       "      <td>0.985149</td>\n",
       "      <td>0.985149</td>\n",
       "      <td>0.995050</td>\n",
       "      <td>0.988449</td>\n",
       "      <td>0.004667</td>\n",
       "    </tr>\n",
       "    <tr>\n",
       "      <th>753</th>\n",
       "      <td>146</td>\n",
       "      <td>0.002000</td>\n",
       "      <td>6.836514e-07</td>\n",
       "      <td>0.000333</td>\n",
       "      <td>4.713704e-04</td>\n",
       "      <td>gini</td>\n",
       "      <td>250</td>\n",
       "      <td>3</td>\n",
       "      <td>best</td>\n",
       "      <td>{'criterion': 'gini', 'max_depth': 250, 'min_s...</td>\n",
       "      <td>...</td>\n",
       "      <td>0.712871</td>\n",
       "      <td>0.683168</td>\n",
       "      <td>0.706271</td>\n",
       "      <td>0.016828</td>\n",
       "      <td>744</td>\n",
       "      <td>0.985149</td>\n",
       "      <td>0.985149</td>\n",
       "      <td>0.995050</td>\n",
       "      <td>0.988449</td>\n",
       "      <td>0.004667</td>\n",
       "    </tr>\n",
       "    <tr>\n",
       "      <th>754</th>\n",
       "      <td>110</td>\n",
       "      <td>0.002000</td>\n",
       "      <td>8.104673e-07</td>\n",
       "      <td>0.000667</td>\n",
       "      <td>4.715390e-04</td>\n",
       "      <td>gini</td>\n",
       "      <td>150</td>\n",
       "      <td>3</td>\n",
       "      <td>best</td>\n",
       "      <td>{'criterion': 'gini', 'max_depth': 150, 'min_s...</td>\n",
       "      <td>...</td>\n",
       "      <td>0.712871</td>\n",
       "      <td>0.683168</td>\n",
       "      <td>0.706271</td>\n",
       "      <td>0.016828</td>\n",
       "      <td>744</td>\n",
       "      <td>0.985149</td>\n",
       "      <td>0.985149</td>\n",
       "      <td>0.995050</td>\n",
       "      <td>0.988449</td>\n",
       "      <td>0.004667</td>\n",
       "    </tr>\n",
       "    <tr>\n",
       "      <th>755</th>\n",
       "      <td>20</td>\n",
       "      <td>0.002000</td>\n",
       "      <td>8.104673e-07</td>\n",
       "      <td>0.001001</td>\n",
       "      <td>1.520405e-06</td>\n",
       "      <td>gini</td>\n",
       "      <td>10</td>\n",
       "      <td>3</td>\n",
       "      <td>best</td>\n",
       "      <td>{'criterion': 'gini', 'max_depth': 10, 'min_sa...</td>\n",
       "      <td>...</td>\n",
       "      <td>0.712871</td>\n",
       "      <td>0.683168</td>\n",
       "      <td>0.706271</td>\n",
       "      <td>0.016828</td>\n",
       "      <td>744</td>\n",
       "      <td>0.985149</td>\n",
       "      <td>0.985149</td>\n",
       "      <td>0.995050</td>\n",
       "      <td>0.988449</td>\n",
       "      <td>0.004667</td>\n",
       "    </tr>\n",
       "  </tbody>\n",
       "</table>\n",
       "<p>756 rows × 21 columns</p>\n",
       "</div>"
      ],
      "text/plain": [
       "     index  mean_fit_time  std_fit_time  mean_score_time  std_score_time  \\\n",
       "0       15       0.001001  1.123916e-07         0.001001    2.247832e-07   \n",
       "1      177       0.001334  4.705856e-04         0.000333    4.709208e-04   \n",
       "2      231       0.002001  8.151725e-04         0.000000    0.000000e+00   \n",
       "3       69       0.001666  4.721032e-04         0.000000    0.000000e+00   \n",
       "4       33       0.001667  4.709778e-04         0.000667    4.714829e-04   \n",
       "..     ...            ...           ...              ...             ...   \n",
       "751     56       0.002334  4.714828e-04         0.000000    0.000000e+00   \n",
       "752    182       0.001668  4.725506e-04         0.000667    4.717079e-04   \n",
       "753    146       0.002000  6.836514e-07         0.000333    4.713704e-04   \n",
       "754    110       0.002000  8.104673e-07         0.000667    4.715390e-04   \n",
       "755     20       0.002000  8.104673e-07         0.001001    1.520405e-06   \n",
       "\n",
       "    param_criterion param_max_depth param_min_samples_split param_splitter  \\\n",
       "0              gini               5                       9         random   \n",
       "1              gini             300                       9         random   \n",
       "2              gini             450                       9         random   \n",
       "3              gini              20                       9         random   \n",
       "4              gini              10                       9         random   \n",
       "..              ...             ...                     ...            ...   \n",
       "751            gini              20                       3           best   \n",
       "752            gini             350                       3           best   \n",
       "753            gini             250                       3           best   \n",
       "754            gini             150                       3           best   \n",
       "755            gini              10                       3           best   \n",
       "\n",
       "                                                params  ...  \\\n",
       "0    {'criterion': 'gini', 'max_depth': 5, 'min_sam...  ...   \n",
       "1    {'criterion': 'gini', 'max_depth': 300, 'min_s...  ...   \n",
       "2    {'criterion': 'gini', 'max_depth': 450, 'min_s...  ...   \n",
       "3    {'criterion': 'gini', 'max_depth': 20, 'min_sa...  ...   \n",
       "4    {'criterion': 'gini', 'max_depth': 10, 'min_sa...  ...   \n",
       "..                                                 ...  ...   \n",
       "751  {'criterion': 'gini', 'max_depth': 20, 'min_sa...  ...   \n",
       "752  {'criterion': 'gini', 'max_depth': 350, 'min_s...  ...   \n",
       "753  {'criterion': 'gini', 'max_depth': 250, 'min_s...  ...   \n",
       "754  {'criterion': 'gini', 'max_depth': 150, 'min_s...  ...   \n",
       "755  {'criterion': 'gini', 'max_depth': 10, 'min_sa...  ...   \n",
       "\n",
       "     split1_test_score  split2_test_score  mean_test_score  std_test_score  \\\n",
       "0             0.841584           0.772277         0.818482        0.032672   \n",
       "1             0.861386           0.752475         0.815182        0.045968   \n",
       "2             0.861386           0.752475         0.815182        0.045968   \n",
       "3             0.861386           0.752475         0.815182        0.045968   \n",
       "4             0.861386           0.752475         0.815182        0.045968   \n",
       "..                 ...                ...              ...             ...   \n",
       "751           0.712871           0.683168         0.706271        0.016828   \n",
       "752           0.712871           0.683168         0.706271        0.016828   \n",
       "753           0.712871           0.683168         0.706271        0.016828   \n",
       "754           0.712871           0.683168         0.706271        0.016828   \n",
       "755           0.712871           0.683168         0.706271        0.016828   \n",
       "\n",
       "     rank_test_score  split0_train_score  split1_train_score  \\\n",
       "0                  1            0.905941            0.871287   \n",
       "1                  2            0.896040            0.915842   \n",
       "2                  2            0.896040            0.915842   \n",
       "3                  2            0.896040            0.915842   \n",
       "4                  2            0.896040            0.915842   \n",
       "..               ...                 ...                 ...   \n",
       "751              744            0.985149            0.985149   \n",
       "752              744            0.985149            0.985149   \n",
       "753              744            0.985149            0.985149   \n",
       "754              744            0.985149            0.985149   \n",
       "755              744            0.985149            0.985149   \n",
       "\n",
       "     split2_train_score  mean_train_score  std_train_score  \n",
       "0              0.891089          0.889439         0.014195  \n",
       "1              0.905941          0.905941         0.008084  \n",
       "2              0.905941          0.905941         0.008084  \n",
       "3              0.905941          0.905941         0.008084  \n",
       "4              0.905941          0.905941         0.008084  \n",
       "..                  ...               ...              ...  \n",
       "751            0.995050          0.988449         0.004667  \n",
       "752            0.995050          0.988449         0.004667  \n",
       "753            0.995050          0.988449         0.004667  \n",
       "754            0.995050          0.988449         0.004667  \n",
       "755            0.995050          0.988449         0.004667  \n",
       "\n",
       "[756 rows x 21 columns]"
      ]
     },
     "execution_count": 134,
     "metadata": {},
     "output_type": "execute_result"
    }
   ],
   "source": [
    "grid_tree_results.sort_values(by='rank_test_score', inplace=True)\n",
    "grid_tree_results.reset_index(inplace=True)\n",
    "grid_tree_results"
   ]
  },
  {
   "cell_type": "code",
   "execution_count": 135,
   "metadata": {},
   "outputs": [
    {
     "data": {
      "text/plain": [
       "Index(['index', 'mean_fit_time', 'std_fit_time', 'mean_score_time',\n",
       "       'std_score_time', 'param_criterion', 'param_max_depth',\n",
       "       'param_min_samples_split', 'param_splitter', 'params',\n",
       "       'split0_test_score', 'split1_test_score', 'split2_test_score',\n",
       "       'mean_test_score', 'std_test_score', 'rank_test_score',\n",
       "       'split0_train_score', 'split1_train_score', 'split2_train_score',\n",
       "       'mean_train_score', 'std_train_score'],\n",
       "      dtype='object')"
      ]
     },
     "execution_count": 135,
     "metadata": {},
     "output_type": "execute_result"
    }
   ],
   "source": [
    "grid_tree_results.columns"
   ]
  },
  {
   "cell_type": "code",
   "execution_count": 136,
   "metadata": {},
   "outputs": [
    {
     "data": {
      "application/vnd.plotly.v1+json": {
       "config": {
        "plotlyServerURL": "https://plot.ly"
       },
       "data": [
        {
         "customdata": [
          [
           "gini",
           "random",
           5,
           9
          ],
          [
           "gini",
           "random",
           300,
           9
          ],
          [
           "gini",
           "random",
           450,
           9
          ],
          [
           "gini",
           "random",
           20,
           9
          ],
          [
           "gini",
           "random",
           10,
           9
          ],
          [
           "gini",
           "random",
           250,
           9
          ],
          [
           "gini",
           "random",
           5,
           8
          ],
          [
           "gini",
           "random",
           200,
           9
          ],
          [
           "gini",
           "random",
           350,
           9
          ],
          [
           "gini",
           "random",
           500,
           9
          ],
          [
           "gini",
           "random",
           150,
           9
          ],
          [
           "gini",
           "random",
           100,
           9
          ],
          [
           "gini",
           "random",
           15,
           9
          ],
          [
           "gini",
           "random",
           50,
           9
          ],
          [
           "gini",
           "random",
           400,
           9
          ],
          [
           "log_loss",
           "random",
           5,
           9
          ],
          [
           "entropy",
           "random",
           5,
           9
          ],
          [
           "log_loss",
           "random",
           5,
           6
          ],
          [
           "entropy",
           "random",
           5,
           6
          ],
          [
           "entropy",
           "random",
           5,
           8
          ],
          [
           "log_loss",
           "random",
           5,
           8
          ],
          [
           "log_loss",
           "random",
           5,
           7
          ],
          [
           "entropy",
           "random",
           5,
           7
          ],
          [
           "gini",
           "random",
           5,
           10
          ],
          [
           "gini",
           "random",
           5,
           7
          ],
          [
           "log_loss",
           "random",
           5,
           5
          ],
          [
           "gini",
           "random",
           5,
           6
          ],
          [
           "gini",
           "random",
           5,
           2
          ],
          [
           "entropy",
           "random",
           5,
           5
          ],
          [
           "log_loss",
           "random",
           100,
           4
          ],
          [
           "gini",
           "random",
           100,
           4
          ],
          [
           "log_loss",
           "random",
           50,
           4
          ],
          [
           "log_loss",
           "random",
           150,
           4
          ],
          [
           "entropy",
           "random",
           5,
           10
          ],
          [
           "log_loss",
           "random",
           5,
           10
          ],
          [
           "log_loss",
           "random",
           20,
           4
          ],
          [
           "gini",
           "random",
           150,
           4
          ],
          [
           "log_loss",
           "random",
           15,
           4
          ],
          [
           "entropy",
           "random",
           15,
           4
          ],
          [
           "log_loss",
           "random",
           10,
           4
          ],
          [
           "gini",
           "random",
           200,
           4
          ],
          [
           "gini",
           "random",
           50,
           4
          ],
          [
           "log_loss",
           "random",
           200,
           4
          ],
          [
           "gini",
           "random",
           450,
           4
          ],
          [
           "entropy",
           "random",
           20,
           4
          ],
          [
           "entropy",
           "random",
           200,
           4
          ],
          [
           "gini",
           "random",
           400,
           4
          ],
          [
           "entropy",
           "random",
           250,
           4
          ],
          [
           "entropy",
           "random",
           100,
           4
          ],
          [
           "entropy",
           "random",
           300,
           4
          ],
          [
           "gini",
           "random",
           350,
           4
          ],
          [
           "entropy",
           "random",
           150,
           4
          ],
          [
           "entropy",
           "random",
           350,
           4
          ],
          [
           "gini",
           "random",
           300,
           4
          ],
          [
           "entropy",
           "random",
           50,
           4
          ],
          [
           "entropy",
           "random",
           450,
           4
          ],
          [
           "gini",
           "random",
           500,
           4
          ],
          [
           "entropy",
           "random",
           500,
           4
          ],
          [
           "gini",
           "random",
           250,
           4
          ],
          [
           "entropy",
           "random",
           400,
           4
          ],
          [
           "log_loss",
           "random",
           250,
           4
          ],
          [
           "entropy",
           "random",
           10,
           4
          ],
          [
           "gini",
           "random",
           5,
           4
          ],
          [
           "log_loss",
           "random",
           300,
           4
          ],
          [
           "gini",
           "random",
           5,
           3
          ],
          [
           "gini",
           "random",
           5,
           5
          ],
          [
           "log_loss",
           "random",
           400,
           4
          ],
          [
           "gini",
           "random",
           10,
           4
          ],
          [
           "log_loss",
           "random",
           350,
           4
          ],
          [
           "log_loss",
           "random",
           450,
           4
          ],
          [
           "gini",
           "random",
           15,
           4
          ],
          [
           "log_loss",
           "random",
           500,
           4
          ],
          [
           "gini",
           "random",
           20,
           4
          ],
          [
           "gini",
           "random",
           20,
           10
          ],
          [
           "gini",
           "random",
           450,
           10
          ],
          [
           "gini",
           "random",
           50,
           10
          ],
          [
           "gini",
           "random",
           100,
           10
          ],
          [
           "gini",
           "random",
           10,
           10
          ],
          [
           "gini",
           "random",
           150,
           10
          ],
          [
           "gini",
           "random",
           250,
           10
          ],
          [
           "gini",
           "random",
           350,
           10
          ],
          [
           "gini",
           "random",
           500,
           10
          ],
          [
           "gini",
           "random",
           15,
           10
          ],
          [
           "gini",
           "random",
           400,
           10
          ],
          [
           "gini",
           "random",
           200,
           10
          ],
          [
           "gini",
           "random",
           300,
           10
          ],
          [
           "log_loss",
           "random",
           350,
           8
          ],
          [
           "log_loss",
           "random",
           350,
           9
          ],
          [
           "entropy",
           "random",
           500,
           9
          ],
          [
           "entropy",
           "random",
           50,
           9
          ],
          [
           "entropy",
           "random",
           15,
           9
          ],
          [
           "entropy",
           "random",
           450,
           9
          ],
          [
           "log_loss",
           "random",
           5,
           3
          ],
          [
           "log_loss",
           "random",
           5,
           4
          ],
          [
           "entropy",
           "random",
           5,
           2
          ],
          [
           "entropy",
           "random",
           15,
           8
          ],
          [
           "entropy",
           "random",
           5,
           3
          ],
          [
           "log_loss",
           "random",
           300,
           9
          ],
          [
           "entropy",
           "random",
           500,
           8
          ],
          [
           "log_loss",
           "random",
           5,
           2
          ],
          [
           "entropy",
           "random",
           350,
           9
          ],
          [
           "entropy",
           "random",
           400,
           9
          ],
          [
           "entropy",
           "random",
           100,
           8
          ],
          [
           "entropy",
           "random",
           100,
           9
          ],
          [
           "entropy",
           "random",
           50,
           8
          ],
          [
           "entropy",
           "random",
           150,
           8
          ],
          [
           "entropy",
           "random",
           150,
           9
          ],
          [
           "entropy",
           "random",
           200,
           8
          ],
          [
           "entropy",
           "random",
           200,
           9
          ],
          [
           "log_loss",
           "random",
           450,
           9
          ],
          [
           "entropy",
           "random",
           450,
           8
          ],
          [
           "entropy",
           "random",
           250,
           8
          ],
          [
           "entropy",
           "random",
           250,
           9
          ],
          [
           "entropy",
           "random",
           20,
           9
          ],
          [
           "log_loss",
           "random",
           400,
           8
          ],
          [
           "entropy",
           "random",
           300,
           8
          ],
          [
           "entropy",
           "random",
           300,
           9
          ],
          [
           "entropy",
           "random",
           20,
           8
          ],
          [
           "entropy",
           "random",
           350,
           8
          ],
          [
           "entropy",
           "random",
           400,
           8
          ],
          [
           "log_loss",
           "random",
           400,
           9
          ],
          [
           "log_loss",
           "random",
           300,
           8
          ],
          [
           "log_loss",
           "random",
           450,
           8
          ],
          [
           "log_loss",
           "random",
           20,
           8
          ],
          [
           "entropy",
           "random",
           10,
           9
          ],
          [
           "log_loss",
           "random",
           10,
           9
          ],
          [
           "log_loss",
           "random",
           250,
           9
          ],
          [
           "log_loss",
           "random",
           50,
           9
          ],
          [
           "log_loss",
           "random",
           50,
           8
          ],
          [
           "log_loss",
           "random",
           100,
           8
          ],
          [
           "log_loss",
           "random",
           100,
           9
          ],
          [
           "log_loss",
           "random",
           250,
           8
          ],
          [
           "log_loss",
           "random",
           20,
           9
          ],
          [
           "log_loss",
           "random",
           150,
           8
          ],
          [
           "log_loss",
           "random",
           150,
           9
          ],
          [
           "log_loss",
           "random",
           500,
           9
          ],
          [
           "log_loss",
           "random",
           500,
           8
          ],
          [
           "log_loss",
           "random",
           200,
           8
          ],
          [
           "entropy",
           "random",
           5,
           4
          ],
          [
           "log_loss",
           "random",
           200,
           9
          ],
          [
           "log_loss",
           "random",
           15,
           9
          ],
          [
           "log_loss",
           "random",
           15,
           8
          ],
          [
           "entropy",
           "random",
           300,
           7
          ],
          [
           "entropy",
           "random",
           100,
           7
          ],
          [
           "entropy",
           "random",
           100,
           5
          ],
          [
           "gini",
           "random",
           50,
           8
          ],
          [
           "log_loss",
           "random",
           400,
           7
          ],
          [
           "entropy",
           "random",
           150,
           7
          ],
          [
           "entropy",
           "random",
           20,
           7
          ],
          [
           "log_loss",
           "random",
           400,
           5
          ],
          [
           "entropy",
           "random",
           350,
           5
          ],
          [
           "log_loss",
           "random",
           450,
           7
          ],
          [
           "entropy",
           "random",
           350,
           7
          ],
          [
           "gini",
           "random",
           450,
           8
          ],
          [
           "entropy",
           "random",
           300,
           5
          ],
          [
           "log_loss",
           "random",
           100,
           7
          ],
          [
           "log_loss",
           "random",
           200,
           7
          ],
          [
           "entropy",
           "random",
           150,
           5
          ],
          [
           "gini",
           "random",
           20,
           8
          ],
          [
           "log_loss",
           "random",
           200,
           5
          ],
          [
           "log_loss",
           "random",
           250,
           7
          ],
          [
           "entropy",
           "random",
           10,
           7
          ],
          [
           "gini",
           "random",
           400,
           8
          ],
          [
           "entropy",
           "random",
           50,
           5
          ],
          [
           "entropy",
           "random",
           200,
           5
          ],
          [
           "entropy",
           "random",
           200,
           7
          ],
          [
           "gini",
           "random",
           300,
           8
          ],
          [
           "entropy",
           "random",
           50,
           7
          ],
          [
           "entropy",
           "random",
           250,
           5
          ],
          [
           "entropy",
           "random",
           250,
           7
          ],
          [
           "log_loss",
           "random",
           450,
           5
          ],
          [
           "log_loss",
           "random",
           150,
           7
          ],
          [
           "log_loss",
           "random",
           150,
           5
          ],
          [
           "gini",
           "random",
           350,
           8
          ],
          [
           "gini",
           "random",
           150,
           8
          ],
          [
           "log_loss",
           "random",
           100,
           5
          ],
          [
           "gini",
           "random",
           100,
           8
          ],
          [
           "log_loss",
           "random",
           15,
           7
          ],
          [
           "entropy",
           "random",
           500,
           7
          ],
          [
           "log_loss",
           "random",
           300,
           7
          ],
          [
           "log_loss",
           "random",
           15,
           5
          ],
          [
           "entropy",
           "random",
           20,
           5
          ],
          [
           "log_loss",
           "random",
           20,
           7
          ],
          [
           "log_loss",
           "random",
           500,
           7
          ],
          [
           "log_loss",
           "random",
           20,
           5
          ],
          [
           "log_loss",
           "random",
           500,
           5
          ],
          [
           "log_loss",
           "random",
           350,
           7
          ],
          [
           "log_loss",
           "random",
           300,
           5
          ],
          [
           "gini",
           "random",
           200,
           8
          ],
          [
           "log_loss",
           "random",
           350,
           5
          ],
          [
           "entropy",
           "random",
           10,
           5
          ],
          [
           "gini",
           "random",
           15,
           8
          ],
          [
           "entropy",
           "random",
           15,
           5
          ],
          [
           "entropy",
           "random",
           500,
           5
          ],
          [
           "log_loss",
           "random",
           10,
           5
          ],
          [
           "gini",
           "random",
           10,
           8
          ],
          [
           "entropy",
           "random",
           400,
           5
          ],
          [
           "entropy",
           "random",
           400,
           7
          ],
          [
           "entropy",
           "random",
           15,
           7
          ],
          [
           "log_loss",
           "random",
           250,
           5
          ],
          [
           "log_loss",
           "random",
           50,
           5
          ],
          [
           "entropy",
           "random",
           450,
           5
          ],
          [
           "gini",
           "random",
           500,
           8
          ],
          [
           "entropy",
           "random",
           450,
           7
          ],
          [
           "log_loss",
           "random",
           10,
           7
          ],
          [
           "log_loss",
           "random",
           50,
           7
          ],
          [
           "gini",
           "random",
           250,
           8
          ],
          [
           "gini",
           "random",
           200,
           3
          ],
          [
           "gini",
           "random",
           15,
           3
          ],
          [
           "gini",
           "random",
           20,
           3
          ],
          [
           "gini",
           "random",
           400,
           3
          ],
          [
           "gini",
           "random",
           100,
           3
          ],
          [
           "gini",
           "random",
           150,
           3
          ],
          [
           "gini",
           "random",
           350,
           3
          ],
          [
           "gini",
           "random",
           300,
           3
          ],
          [
           "gini",
           "random",
           250,
           3
          ],
          [
           "gini",
           "random",
           50,
           3
          ],
          [
           "gini",
           "random",
           500,
           3
          ],
          [
           "gini",
           "random",
           10,
           3
          ],
          [
           "gini",
           "random",
           450,
           3
          ],
          [
           "entropy",
           "random",
           10,
           2
          ],
          [
           "log_loss",
           "random",
           10,
           2
          ],
          [
           "log_loss",
           "random",
           500,
           2
          ],
          [
           "entropy",
           "random",
           50,
           2
          ],
          [
           "entropy",
           "random",
           15,
           10
          ],
          [
           "entropy",
           "random",
           15,
           2
          ],
          [
           "entropy",
           "random",
           20,
           10
          ],
          [
           "entropy",
           "random",
           10,
           8
          ],
          [
           "entropy",
           "random",
           20,
           2
          ],
          [
           "entropy",
           "random",
           10,
           10
          ],
          [
           "log_loss",
           "random",
           450,
           10
          ],
          [
           "log_loss",
           "random",
           250,
           2
          ],
          [
           "log_loss",
           "random",
           400,
           2
          ],
          [
           "entropy",
           "random",
           100,
           2
          ],
          [
           "log_loss",
           "random",
           10,
           3
          ],
          [
           "log_loss",
           "random",
           10,
           8
          ],
          [
           "log_loss",
           "random",
           10,
           10
          ],
          [
           "log_loss",
           "random",
           15,
           2
          ],
          [
           "log_loss",
           "random",
           15,
           10
          ],
          [
           "log_loss",
           "random",
           20,
           2
          ],
          [
           "log_loss",
           "random",
           20,
           10
          ],
          [
           "log_loss",
           "random",
           50,
           2
          ],
          [
           "log_loss",
           "random",
           300,
           2
          ],
          [
           "log_loss",
           "random",
           50,
           10
          ],
          [
           "log_loss",
           "random",
           100,
           2
          ],
          [
           "log_loss",
           "random",
           250,
           10
          ],
          [
           "log_loss",
           "random",
           100,
           10
          ],
          [
           "log_loss",
           "random",
           150,
           2
          ],
          [
           "log_loss",
           "random",
           150,
           10
          ],
          [
           "log_loss",
           "random",
           200,
           2
          ],
          [
           "log_loss",
           "random",
           200,
           10
          ],
          [
           "log_loss",
           "random",
           300,
           10
          ],
          [
           "entropy",
           "random",
           50,
           10
          ],
          [
           "log_loss",
           "random",
           350,
           2
          ],
          [
           "entropy",
           "random",
           500,
           2
          ],
          [
           "entropy",
           "random",
           100,
           10
          ],
          [
           "entropy",
           "random",
           150,
           2
          ],
          [
           "entropy",
           "random",
           200,
           2
          ],
          [
           "entropy",
           "random",
           200,
           10
          ],
          [
           "log_loss",
           "random",
           450,
           2
          ],
          [
           "entropy",
           "random",
           250,
           2
          ],
          [
           "log_loss",
           "random",
           400,
           10
          ],
          [
           "entropy",
           "random",
           250,
           10
          ],
          [
           "entropy",
           "random",
           300,
           2
          ],
          [
           "entropy",
           "random",
           300,
           10
          ],
          [
           "entropy",
           "random",
           350,
           2
          ],
          [
           "entropy",
           "random",
           350,
           10
          ],
          [
           "entropy",
           "random",
           400,
           2
          ],
          [
           "entropy",
           "random",
           400,
           10
          ],
          [
           "entropy",
           "random",
           450,
           2
          ],
          [
           "log_loss",
           "random",
           350,
           10
          ],
          [
           "entropy",
           "random",
           450,
           10
          ],
          [
           "entropy",
           "random",
           500,
           10
          ],
          [
           "entropy",
           "random",
           150,
           10
          ],
          [
           "log_loss",
           "random",
           500,
           10
          ],
          [
           "entropy",
           "random",
           10,
           3
          ],
          [
           "entropy",
           "random",
           250,
           6
          ],
          [
           "log_loss",
           "random",
           10,
           6
          ],
          [
           "entropy",
           "random",
           200,
           6
          ],
          [
           "log_loss",
           "random",
           15,
           6
          ],
          [
           "log_loss",
           "random",
           300,
           6
          ],
          [
           "log_loss",
           "random",
           20,
           6
          ],
          [
           "log_loss",
           "random",
           350,
           6
          ],
          [
           "entropy",
           "random",
           150,
           6
          ],
          [
           "log_loss",
           "random",
           50,
           6
          ],
          [
           "log_loss",
           "random",
           250,
           6
          ],
          [
           "log_loss",
           "random",
           100,
           6
          ],
          [
           "entropy",
           "random",
           100,
           6
          ],
          [
           "log_loss",
           "random",
           150,
           6
          ],
          [
           "log_loss",
           "random",
           200,
           6
          ],
          [
           "entropy",
           "random",
           20,
           6
          ],
          [
           "entropy",
           "random",
           15,
           6
          ],
          [
           "entropy",
           "random",
           50,
           6
          ],
          [
           "entropy",
           "random",
           350,
           6
          ],
          [
           "log_loss",
           "random",
           500,
           6
          ],
          [
           "entropy",
           "random",
           400,
           6
          ],
          [
           "entropy",
           "random",
           500,
           6
          ],
          [
           "entropy",
           "random",
           450,
           6
          ],
          [
           "log_loss",
           "random",
           450,
           6
          ],
          [
           "log_loss",
           "random",
           400,
           6
          ],
          [
           "entropy",
           "random",
           300,
           6
          ],
          [
           "entropy",
           "random",
           10,
           6
          ],
          [
           "log_loss",
           "random",
           50,
           3
          ],
          [
           "gini",
           "best",
           300,
           9
          ],
          [
           "gini",
           "random",
           100,
           5
          ],
          [
           "entropy",
           "random",
           400,
           3
          ],
          [
           "entropy",
           "random",
           300,
           3
          ],
          [
           "gini",
           "random",
           450,
           5
          ],
          [
           "gini",
           "random",
           300,
           5
          ],
          [
           "entropy",
           "random",
           100,
           3
          ],
          [
           "log_loss",
           "random",
           150,
           3
          ],
          [
           "gini",
           "random",
           50,
           5
          ],
          [
           "gini",
           "best",
           450,
           9
          ],
          [
           "log_loss",
           "random",
           100,
           3
          ],
          [
           "gini",
           "best",
           50,
           9
          ],
          [
           "gini",
           "best",
           400,
           9
          ],
          [
           "gini",
           "best",
           100,
           9
          ],
          [
           "gini",
           "best",
           200,
           9
          ],
          [
           "gini",
           "best",
           350,
           9
          ],
          [
           "gini",
           "random",
           200,
           5
          ],
          [
           "gini",
           "random",
           250,
           5
          ],
          [
           "entropy",
           "random",
           500,
           3
          ],
          [
           "entropy",
           "random",
           250,
           3
          ],
          [
           "gini",
           "best",
           150,
           9
          ],
          [
           "gini",
           "random",
           400,
           5
          ],
          [
           "log_loss",
           "random",
           200,
           3
          ],
          [
           "gini",
           "random",
           350,
           5
          ],
          [
           "gini",
           "best",
           250,
           9
          ],
          [
           "gini",
           "random",
           150,
           5
          ],
          [
           "entropy",
           "random",
           350,
           3
          ],
          [
           "entropy",
           "random",
           200,
           3
          ],
          [
           "log_loss",
           "random",
           20,
           3
          ],
          [
           "entropy",
           "random",
           450,
           3
          ],
          [
           "log_loss",
           "random",
           15,
           3
          ],
          [
           "entropy",
           "random",
           150,
           3
          ],
          [
           "entropy",
           "random",
           50,
           3
          ],
          [
           "gini",
           "random",
           15,
           5
          ],
          [
           "log_loss",
           "random",
           250,
           3
          ],
          [
           "log_loss",
           "random",
           300,
           3
          ],
          [
           "gini",
           "best",
           10,
           9
          ],
          [
           "gini",
           "random",
           20,
           5
          ],
          [
           "log_loss",
           "random",
           400,
           3
          ],
          [
           "entropy",
           "random",
           15,
           3
          ],
          [
           "gini",
           "random",
           500,
           5
          ],
          [
           "log_loss",
           "random",
           350,
           3
          ],
          [
           "gini",
           "best",
           500,
           9
          ],
          [
           "entropy",
           "random",
           20,
           3
          ],
          [
           "log_loss",
           "random",
           450,
           3
          ],
          [
           "log_loss",
           "random",
           500,
           3
          ],
          [
           "gini",
           "best",
           15,
           9
          ],
          [
           "gini",
           "best",
           20,
           9
          ],
          [
           "gini",
           "random",
           400,
           6
          ],
          [
           "gini",
           "random",
           150,
           2
          ],
          [
           "gini",
           "random",
           150,
           6
          ],
          [
           "gini",
           "random",
           500,
           2
          ],
          [
           "gini",
           "random",
           200,
           6
          ],
          [
           "gini",
           "random",
           400,
           2
          ],
          [
           "gini",
           "random",
           15,
           2
          ],
          [
           "gini",
           "random",
           250,
           2
          ],
          [
           "gini",
           "random",
           350,
           6
          ],
          [
           "gini",
           "random",
           250,
           6
          ],
          [
           "gini",
           "random",
           10,
           6
          ],
          [
           "gini",
           "random",
           350,
           2
          ],
          [
           "gini",
           "random",
           300,
           2
          ],
          [
           "gini",
           "random",
           300,
           6
          ],
          [
           "gini",
           "random",
           200,
           2
          ],
          [
           "gini",
           "random",
           450,
           2
          ],
          [
           "gini",
           "random",
           15,
           6
          ],
          [
           "gini",
           "random",
           20,
           6
          ],
          [
           "gini",
           "random",
           50,
           2
          ],
          [
           "gini",
           "random",
           450,
           6
          ],
          [
           "gini",
           "random",
           100,
           6
          ],
          [
           "gini",
           "random",
           20,
           2
          ],
          [
           "gini",
           "random",
           100,
           2
          ],
          [
           "gini",
           "random",
           500,
           6
          ],
          [
           "gini",
           "random",
           50,
           6
          ],
          [
           "gini",
           "best",
           150,
           10
          ],
          [
           "gini",
           "best",
           200,
           5
          ],
          [
           "gini",
           "best",
           15,
           5
          ],
          [
           "gini",
           "best",
           500,
           5
          ],
          [
           "gini",
           "best",
           10,
           10
          ],
          [
           "gini",
           "best",
           200,
           10
          ],
          [
           "gini",
           "best",
           15,
           10
          ],
          [
           "gini",
           "best",
           50,
           10
          ],
          [
           "gini",
           "best",
           350,
           5
          ],
          [
           "gini",
           "random",
           10,
           5
          ],
          [
           "gini",
           "best",
           10,
           5
          ],
          [
           "gini",
           "best",
           250,
           10
          ],
          [
           "gini",
           "best",
           50,
           5
          ],
          [
           "gini",
           "best",
           450,
           10
          ],
          [
           "gini",
           "best",
           300,
           10
          ],
          [
           "gini",
           "best",
           300,
           5
          ],
          [
           "gini",
           "best",
           250,
           5
          ],
          [
           "gini",
           "best",
           400,
           5
          ],
          [
           "gini",
           "best",
           350,
           10
          ],
          [
           "gini",
           "best",
           20,
           10
          ],
          [
           "gini",
           "best",
           100,
           5
          ],
          [
           "gini",
           "best",
           100,
           10
          ],
          [
           "gini",
           "best",
           500,
           10
          ],
          [
           "gini",
           "best",
           400,
           10
          ],
          [
           "gini",
           "best",
           450,
           5
          ],
          [
           "gini",
           "best",
           150,
           5
          ],
          [
           "gini",
           "best",
           20,
           5
          ],
          [
           "gini",
           "random",
           10,
           7
          ],
          [
           "gini",
           "random",
           250,
           7
          ],
          [
           "gini",
           "random",
           150,
           7
          ],
          [
           "gini",
           "random",
           300,
           7
          ],
          [
           "gini",
           "random",
           450,
           7
          ],
          [
           "gini",
           "random",
           20,
           7
          ],
          [
           "gini",
           "random",
           500,
           7
          ],
          [
           "gini",
           "random",
           400,
           7
          ],
          [
           "gini",
           "random",
           350,
           7
          ],
          [
           "gini",
           "random",
           100,
           7
          ],
          [
           "gini",
           "random",
           10,
           2
          ],
          [
           "gini",
           "random",
           15,
           7
          ],
          [
           "gini",
           "random",
           200,
           7
          ],
          [
           "gini",
           "random",
           50,
           7
          ],
          [
           "log_loss",
           "best",
           450,
           3
          ],
          [
           "gini",
           "best",
           250,
           7
          ],
          [
           "log_loss",
           "best",
           500,
           3
          ],
          [
           "log_loss",
           "best",
           300,
           3
          ],
          [
           "gini",
           "best",
           250,
           8
          ],
          [
           "log_loss",
           "best",
           200,
           3
          ],
          [
           "entropy",
           "best",
           450,
           3
          ],
          [
           "log_loss",
           "best",
           50,
           3
          ],
          [
           "gini",
           "best",
           20,
           8
          ],
          [
           "gini",
           "best",
           100,
           8
          ],
          [
           "gini",
           "best",
           20,
           7
          ],
          [
           "gini",
           "best",
           100,
           7
          ],
          [
           "log_loss",
           "best",
           150,
           3
          ],
          [
           "gini",
           "best",
           10,
           7
          ],
          [
           "gini",
           "best",
           150,
           8
          ],
          [
           "log_loss",
           "best",
           15,
           3
          ],
          [
           "gini",
           "best",
           15,
           7
          ],
          [
           "log_loss",
           "best",
           350,
           3
          ],
          [
           "log_loss",
           "best",
           250,
           3
          ],
          [
           "gini",
           "best",
           150,
           7
          ],
          [
           "log_loss",
           "best",
           10,
           3
          ],
          [
           "gini",
           "best",
           50,
           8
          ],
          [
           "log_loss",
           "best",
           100,
           3
          ],
          [
           "gini",
           "best",
           200,
           8
          ],
          [
           "log_loss",
           "best",
           5,
           5
          ],
          [
           "gini",
           "best",
           50,
           7
          ],
          [
           "log_loss",
           "best",
           5,
           4
          ],
          [
           "log_loss",
           "best",
           400,
           3
          ],
          [
           "log_loss",
           "best",
           5,
           3
          ],
          [
           "log_loss",
           "best",
           5,
           2
          ],
          [
           "log_loss",
           "best",
           20,
           3
          ],
          [
           "gini",
           "best",
           15,
           8
          ],
          [
           "gini",
           "best",
           10,
           8
          ],
          [
           "entropy",
           "best",
           500,
           3
          ],
          [
           "entropy",
           "best",
           400,
           3
          ],
          [
           "gini",
           "best",
           200,
           7
          ],
          [
           "entropy",
           "best",
           15,
           3
          ],
          [
           "entropy",
           "best",
           250,
           3
          ],
          [
           "entropy",
           "best",
           5,
           4
          ],
          [
           "entropy",
           "best",
           350,
           3
          ],
          [
           "entropy",
           "best",
           5,
           3
          ],
          [
           "gini",
           "best",
           450,
           8
          ],
          [
           "entropy",
           "best",
           100,
           3
          ],
          [
           "entropy",
           "best",
           50,
           3
          ],
          [
           "gini",
           "best",
           450,
           7
          ],
          [
           "gini",
           "best",
           400,
           7
          ],
          [
           "entropy",
           "best",
           5,
           5
          ],
          [
           "gini",
           "best",
           350,
           7
          ],
          [
           "entropy",
           "best",
           5,
           2
          ],
          [
           "gini",
           "best",
           350,
           8
          ],
          [
           "entropy",
           "best",
           200,
           3
          ],
          [
           "gini",
           "best",
           400,
           8
          ],
          [
           "entropy",
           "best",
           300,
           3
          ],
          [
           "gini",
           "best",
           500,
           7
          ],
          [
           "gini",
           "best",
           500,
           8
          ],
          [
           "entropy",
           "best",
           150,
           3
          ],
          [
           "gini",
           "best",
           300,
           7
          ],
          [
           "gini",
           "best",
           300,
           8
          ],
          [
           "entropy",
           "best",
           10,
           3
          ],
          [
           "entropy",
           "best",
           20,
           3
          ],
          [
           "entropy",
           "best",
           250,
           2
          ],
          [
           "log_loss",
           "best",
           200,
           2
          ],
          [
           "entropy",
           "best",
           20,
           2
          ],
          [
           "log_loss",
           "best",
           250,
           2
          ],
          [
           "log_loss",
           "best",
           350,
           2
          ],
          [
           "entropy",
           "best",
           50,
           2
          ],
          [
           "log_loss",
           "best",
           10,
           2
          ],
          [
           "entropy",
           "best",
           300,
           2
          ],
          [
           "log_loss",
           "best",
           400,
           2
          ],
          [
           "entropy",
           "best",
           400,
           2
          ],
          [
           "log_loss",
           "best",
           15,
           2
          ],
          [
           "entropy",
           "best",
           200,
           2
          ],
          [
           "log_loss",
           "best",
           500,
           2
          ],
          [
           "log_loss",
           "best",
           100,
           2
          ],
          [
           "entropy",
           "best",
           150,
           2
          ],
          [
           "log_loss",
           "best",
           20,
           2
          ],
          [
           "entropy",
           "best",
           10,
           2
          ],
          [
           "entropy",
           "best",
           450,
           2
          ],
          [
           "entropy",
           "best",
           500,
           2
          ],
          [
           "log_loss",
           "best",
           450,
           2
          ],
          [
           "log_loss",
           "best",
           300,
           2
          ],
          [
           "entropy",
           "best",
           100,
           2
          ],
          [
           "log_loss",
           "best",
           50,
           2
          ],
          [
           "entropy",
           "best",
           350,
           2
          ],
          [
           "entropy",
           "best",
           15,
           2
          ],
          [
           "log_loss",
           "best",
           150,
           2
          ],
          [
           "log_loss",
           "best",
           15,
           8
          ],
          [
           "log_loss",
           "best",
           5,
           9
          ],
          [
           "log_loss",
           "best",
           20,
           8
          ],
          [
           "log_loss",
           "best",
           50,
           8
          ],
          [
           "log_loss",
           "best",
           150,
           8
          ],
          [
           "log_loss",
           "best",
           250,
           8
          ],
          [
           "log_loss",
           "best",
           10,
           8
          ],
          [
           "entropy",
           "best",
           200,
           8
          ],
          [
           "entropy",
           "best",
           20,
           8
          ],
          [
           "log_loss",
           "best",
           200,
           8
          ],
          [
           "log_loss",
           "best",
           100,
           8
          ],
          [
           "entropy",
           "best",
           50,
           8
          ],
          [
           "entropy",
           "best",
           100,
           8
          ],
          [
           "log_loss",
           "best",
           5,
           7
          ],
          [
           "entropy",
           "best",
           150,
           8
          ],
          [
           "log_loss",
           "best",
           400,
           8
          ],
          [
           "entropy",
           "best",
           5,
           8
          ],
          [
           "log_loss",
           "best",
           5,
           8
          ],
          [
           "entropy",
           "best",
           450,
           8
          ],
          [
           "entropy",
           "best",
           5,
           7
          ],
          [
           "entropy",
           "best",
           10,
           8
          ],
          [
           "entropy",
           "best",
           5,
           6
          ],
          [
           "entropy",
           "best",
           300,
           8
          ],
          [
           "log_loss",
           "best",
           350,
           8
          ],
          [
           "log_loss",
           "best",
           450,
           8
          ],
          [
           "entropy",
           "best",
           350,
           8
          ],
          [
           "entropy",
           "best",
           15,
           8
          ],
          [
           "entropy",
           "best",
           400,
           8
          ],
          [
           "entropy",
           "best",
           5,
           9
          ],
          [
           "entropy",
           "best",
           500,
           8
          ],
          [
           "entropy",
           "best",
           250,
           8
          ],
          [
           "log_loss",
           "best",
           5,
           6
          ],
          [
           "log_loss",
           "best",
           500,
           8
          ],
          [
           "log_loss",
           "best",
           300,
           8
          ],
          [
           "log_loss",
           "best",
           100,
           9
          ],
          [
           "entropy",
           "best",
           100,
           7
          ],
          [
           "entropy",
           "best",
           150,
           7
          ],
          [
           "gini",
           "best",
           100,
           6
          ],
          [
           "entropy",
           "best",
           5,
           10
          ],
          [
           "log_loss",
           "best",
           50,
           7
          ],
          [
           "log_loss",
           "best",
           450,
           7
          ],
          [
           "gini",
           "best",
           5,
           3
          ],
          [
           "log_loss",
           "best",
           500,
           9
          ],
          [
           "entropy",
           "best",
           10,
           7
          ],
          [
           "gini",
           "best",
           450,
           6
          ],
          [
           "log_loss",
           "best",
           500,
           7
          ],
          [
           "entropy",
           "best",
           10,
           9
          ],
          [
           "log_loss",
           "best",
           50,
           9
          ],
          [
           "log_loss",
           "best",
           450,
           9
          ],
          [
           "entropy",
           "best",
           100,
           9
          ],
          [
           "entropy",
           "best",
           20,
           7
          ],
          [
           "log_loss",
           "best",
           400,
           9
          ],
          [
           "log_loss",
           "best",
           250,
           9
          ],
          [
           "log_loss",
           "best",
           300,
           7
          ],
          [
           "log_loss",
           "best",
           250,
           7
          ],
          [
           "log_loss",
           "best",
           300,
           9
          ],
          [
           "entropy",
           "best",
           20,
           9
          ],
          [
           "gini",
           "best",
           500,
           6
          ],
          [
           "gini",
           "best",
           15,
           6
          ],
          [
           "gini",
           "best",
           20,
           6
          ],
          [
           "entropy",
           "best",
           15,
           9
          ],
          [
           "log_loss",
           "best",
           200,
           9
          ],
          [
           "log_loss",
           "best",
           200,
           7
          ],
          [
           "entropy",
           "best",
           15,
           7
          ],
          [
           "log_loss",
           "best",
           350,
           7
          ],
          [
           "entropy",
           "best",
           50,
           7
          ],
          [
           "log_loss",
           "best",
           350,
           9
          ],
          [
           "entropy",
           "best",
           50,
           9
          ],
          [
           "log_loss",
           "best",
           150,
           9
          ],
          [
           "log_loss",
           "best",
           150,
           7
          ],
          [
           "gini",
           "best",
           50,
           6
          ],
          [
           "gini",
           "best",
           10,
           6
          ],
          [
           "log_loss",
           "best",
           400,
           7
          ],
          [
           "log_loss",
           "best",
           100,
           7
          ],
          [
           "gini",
           "best",
           5,
           2
          ],
          [
           "log_loss",
           "best",
           5,
           10
          ],
          [
           "entropy",
           "best",
           200,
           7
          ],
          [
           "entropy",
           "best",
           250,
           7
          ],
          [
           "log_loss",
           "best",
           10,
           7
          ],
          [
           "entropy",
           "best",
           350,
           7
          ],
          [
           "log_loss",
           "best",
           15,
           9
          ],
          [
           "entropy",
           "best",
           400,
           7
          ],
          [
           "gini",
           "best",
           250,
           6
          ],
          [
           "gini",
           "best",
           150,
           6
          ],
          [
           "log_loss",
           "best",
           15,
           7
          ],
          [
           "log_loss",
           "best",
           10,
           9
          ],
          [
           "entropy",
           "best",
           400,
           9
          ],
          [
           "entropy",
           "best",
           200,
           9
          ],
          [
           "entropy",
           "best",
           350,
           9
          ],
          [
           "gini",
           "best",
           400,
           6
          ],
          [
           "gini",
           "best",
           200,
           6
          ],
          [
           "entropy",
           "best",
           450,
           9
          ],
          [
           "entropy",
           "best",
           450,
           7
          ],
          [
           "gini",
           "best",
           300,
           6
          ],
          [
           "entropy",
           "best",
           150,
           9
          ],
          [
           "gini",
           "best",
           350,
           6
          ],
          [
           "entropy",
           "best",
           300,
           9
          ],
          [
           "log_loss",
           "best",
           20,
           9
          ],
          [
           "entropy",
           "best",
           300,
           7
          ],
          [
           "entropy",
           "best",
           500,
           7
          ],
          [
           "log_loss",
           "best",
           20,
           7
          ],
          [
           "entropy",
           "best",
           500,
           9
          ],
          [
           "entropy",
           "best",
           250,
           9
          ],
          [
           "log_loss",
           "best",
           250,
           5
          ],
          [
           "entropy",
           "best",
           50,
           5
          ],
          [
           "entropy",
           "best",
           300,
           5
          ],
          [
           "log_loss",
           "best",
           400,
           5
          ],
          [
           "entropy",
           "best",
           15,
           5
          ],
          [
           "entropy",
           "best",
           450,
           5
          ],
          [
           "entropy",
           "best",
           350,
           5
          ],
          [
           "entropy",
           "best",
           250,
           5
          ],
          [
           "log_loss",
           "best",
           200,
           5
          ],
          [
           "log_loss",
           "best",
           350,
           5
          ],
          [
           "log_loss",
           "best",
           300,
           5
          ],
          [
           "entropy",
           "best",
           500,
           5
          ],
          [
           "entropy",
           "best",
           20,
           5
          ],
          [
           "log_loss",
           "best",
           10,
           5
          ],
          [
           "log_loss",
           "best",
           15,
           5
          ],
          [
           "log_loss",
           "best",
           450,
           5
          ],
          [
           "log_loss",
           "best",
           500,
           5
          ],
          [
           "gini",
           "best",
           5,
           10
          ],
          [
           "entropy",
           "best",
           200,
           5
          ],
          [
           "entropy",
           "best",
           400,
           5
          ],
          [
           "gini",
           "best",
           5,
           5
          ],
          [
           "entropy",
           "best",
           100,
           5
          ],
          [
           "entropy",
           "best",
           10,
           5
          ],
          [
           "gini",
           "best",
           5,
           9
          ],
          [
           "gini",
           "best",
           5,
           4
          ],
          [
           "log_loss",
           "best",
           50,
           5
          ],
          [
           "entropy",
           "best",
           150,
           5
          ],
          [
           "log_loss",
           "best",
           20,
           5
          ],
          [
           "log_loss",
           "best",
           100,
           5
          ],
          [
           "log_loss",
           "best",
           150,
           5
          ],
          [
           "log_loss",
           "best",
           250,
           10
          ],
          [
           "entropy",
           "best",
           10,
           4
          ],
          [
           "entropy",
           "best",
           450,
           10
          ],
          [
           "log_loss",
           "best",
           50,
           10
          ],
          [
           "log_loss",
           "best",
           300,
           4
          ],
          [
           "entropy",
           "best",
           100,
           10
          ],
          [
           "entropy",
           "best",
           20,
           4
          ],
          [
           "log_loss",
           "best",
           20,
           10
          ],
          [
           "entropy",
           "best",
           250,
           10
          ],
          [
           "log_loss",
           "best",
           15,
           4
          ],
          [
           "log_loss",
           "best",
           400,
           4
          ],
          [
           "log_loss",
           "best",
           500,
           10
          ],
          [
           "entropy",
           "best",
           500,
           10
          ],
          [
           "entropy",
           "best",
           15,
           4
          ],
          [
           "log_loss",
           "best",
           300,
           10
          ],
          [
           "entropy",
           "best",
           150,
           4
          ],
          [
           "entropy",
           "best",
           150,
           10
          ],
          [
           "entropy",
           "best",
           350,
           10
          ],
          [
           "log_loss",
           "best",
           350,
           4
          ],
          [
           "entropy",
           "best",
           300,
           10
          ],
          [
           "log_loss",
           "best",
           350,
           10
          ],
          [
           "log_loss",
           "best",
           50,
           4
          ],
          [
           "entropy",
           "best",
           400,
           4
          ],
          [
           "entropy",
           "best",
           300,
           4
          ],
          [
           "entropy",
           "best",
           15,
           10
          ],
          [
           "entropy",
           "best",
           350,
           4
          ],
          [
           "entropy",
           "best",
           10,
           10
          ],
          [
           "entropy",
           "best",
           50,
           10
          ],
          [
           "log_loss",
           "best",
           450,
           10
          ],
          [
           "log_loss",
           "best",
           150,
           4
          ],
          [
           "log_loss",
           "best",
           150,
           10
          ],
          [
           "entropy",
           "best",
           200,
           10
          ],
          [
           "log_loss",
           "best",
           10,
           10
          ],
          [
           "entropy",
           "best",
           400,
           10
          ],
          [
           "log_loss",
           "best",
           200,
           4
          ],
          [
           "entropy",
           "best",
           100,
           4
          ],
          [
           "log_loss",
           "best",
           100,
           10
          ],
          [
           "log_loss",
           "best",
           450,
           4
          ],
          [
           "log_loss",
           "best",
           100,
           4
          ],
          [
           "gini",
           "best",
           5,
           8
          ],
          [
           "log_loss",
           "best",
           15,
           10
          ],
          [
           "entropy",
           "best",
           500,
           4
          ],
          [
           "entropy",
           "best",
           50,
           4
          ],
          [
           "log_loss",
           "best",
           200,
           10
          ],
          [
           "entropy",
           "best",
           450,
           4
          ],
          [
           "log_loss",
           "best",
           20,
           4
          ],
          [
           "log_loss",
           "best",
           500,
           4
          ],
          [
           "gini",
           "best",
           5,
           7
          ],
          [
           "log_loss",
           "best",
           400,
           10
          ],
          [
           "entropy",
           "best",
           20,
           10
          ],
          [
           "entropy",
           "best",
           250,
           4
          ],
          [
           "log_loss",
           "best",
           250,
           4
          ],
          [
           "log_loss",
           "best",
           10,
           4
          ],
          [
           "entropy",
           "best",
           200,
           4
          ],
          [
           "gini",
           "best",
           15,
           2
          ],
          [
           "gini",
           "best",
           5,
           6
          ],
          [
           "gini",
           "best",
           350,
           2
          ],
          [
           "gini",
           "best",
           350,
           4
          ],
          [
           "gini",
           "best",
           300,
           2
          ],
          [
           "gini",
           "best",
           10,
           4
          ],
          [
           "gini",
           "best",
           10,
           2
          ],
          [
           "gini",
           "best",
           300,
           4
          ],
          [
           "gini",
           "best",
           450,
           2
          ],
          [
           "gini",
           "best",
           400,
           2
          ],
          [
           "gini",
           "best",
           450,
           4
          ],
          [
           "gini",
           "best",
           150,
           4
          ],
          [
           "gini",
           "best",
           50,
           4
          ],
          [
           "gini",
           "best",
           50,
           2
          ],
          [
           "gini",
           "best",
           500,
           2
          ],
          [
           "gini",
           "best",
           400,
           4
          ],
          [
           "gini",
           "best",
           150,
           2
          ],
          [
           "gini",
           "best",
           200,
           2
          ],
          [
           "gini",
           "best",
           100,
           4
          ],
          [
           "gini",
           "best",
           200,
           4
          ],
          [
           "gini",
           "best",
           20,
           4
          ],
          [
           "gini",
           "best",
           500,
           4
          ],
          [
           "gini",
           "best",
           100,
           2
          ],
          [
           "gini",
           "best",
           15,
           4
          ],
          [
           "gini",
           "best",
           20,
           2
          ],
          [
           "gini",
           "best",
           250,
           4
          ],
          [
           "gini",
           "best",
           250,
           2
          ],
          [
           "log_loss",
           "best",
           350,
           6
          ],
          [
           "entropy",
           "best",
           400,
           6
          ],
          [
           "entropy",
           "best",
           10,
           6
          ],
          [
           "entropy",
           "best",
           100,
           6
          ],
          [
           "entropy",
           "best",
           200,
           6
          ],
          [
           "log_loss",
           "best",
           15,
           6
          ],
          [
           "log_loss",
           "best",
           150,
           6
          ],
          [
           "entropy",
           "best",
           500,
           6
          ],
          [
           "log_loss",
           "best",
           500,
           6
          ],
          [
           "entropy",
           "best",
           300,
           6
          ],
          [
           "entropy",
           "best",
           150,
           6
          ],
          [
           "log_loss",
           "best",
           450,
           6
          ],
          [
           "entropy",
           "best",
           15,
           6
          ],
          [
           "entropy",
           "best",
           50,
           6
          ],
          [
           "log_loss",
           "best",
           200,
           6
          ],
          [
           "log_loss",
           "best",
           300,
           6
          ],
          [
           "entropy",
           "best",
           350,
           6
          ],
          [
           "log_loss",
           "best",
           100,
           6
          ],
          [
           "log_loss",
           "best",
           10,
           6
          ],
          [
           "entropy",
           "best",
           20,
           6
          ],
          [
           "log_loss",
           "best",
           20,
           6
          ],
          [
           "log_loss",
           "best",
           250,
           6
          ],
          [
           "entropy",
           "best",
           250,
           6
          ],
          [
           "entropy",
           "best",
           450,
           6
          ],
          [
           "log_loss",
           "best",
           400,
           6
          ],
          [
           "log_loss",
           "best",
           50,
           6
          ],
          [
           "gini",
           "best",
           100,
           3
          ],
          [
           "gini",
           "best",
           450,
           3
          ],
          [
           "gini",
           "best",
           15,
           3
          ],
          [
           "gini",
           "best",
           50,
           3
          ],
          [
           "gini",
           "best",
           300,
           3
          ],
          [
           "gini",
           "best",
           500,
           3
          ],
          [
           "gini",
           "best",
           400,
           3
          ],
          [
           "gini",
           "best",
           200,
           3
          ],
          [
           "gini",
           "best",
           20,
           3
          ],
          [
           "gini",
           "best",
           350,
           3
          ],
          [
           "gini",
           "best",
           250,
           3
          ],
          [
           "gini",
           "best",
           150,
           3
          ],
          [
           "gini",
           "best",
           10,
           3
          ]
         ],
         "hovertemplate": "variable=mean_test_score<br>_index=%{x}<br>value=%{y}<br>param_criterion=%{customdata[0]}<br>param_splitter=%{customdata[1]}<br>param_max_depth=%{customdata[2]}<br>param_min_samples_split=%{customdata[3]}<extra></extra>",
         "legendgroup": "mean_test_score",
         "line": {
          "color": "#636efa",
          "dash": "solid"
         },
         "marker": {
          "symbol": "circle"
         },
         "mode": "lines",
         "name": "mean_test_score",
         "showlegend": true,
         "type": "scattergl",
         "x": [
          0,
          1,
          2,
          3,
          4,
          5,
          6,
          7,
          8,
          9,
          10,
          11,
          12,
          13,
          14,
          15,
          16,
          17,
          18,
          19,
          20,
          21,
          22,
          23,
          24,
          25,
          26,
          27,
          28,
          29,
          30,
          31,
          32,
          33,
          34,
          35,
          36,
          37,
          38,
          39,
          40,
          41,
          42,
          43,
          44,
          45,
          46,
          47,
          48,
          49,
          50,
          51,
          52,
          53,
          54,
          55,
          56,
          57,
          58,
          59,
          60,
          61,
          62,
          63,
          64,
          65,
          66,
          67,
          68,
          69,
          70,
          71,
          72,
          73,
          74,
          75,
          76,
          77,
          78,
          79,
          80,
          81,
          82,
          83,
          84,
          85,
          86,
          87,
          88,
          89,
          90,
          91,
          92,
          93,
          94,
          95,
          96,
          97,
          98,
          99,
          100,
          101,
          102,
          103,
          104,
          105,
          106,
          107,
          108,
          109,
          110,
          111,
          112,
          113,
          114,
          115,
          116,
          117,
          118,
          119,
          120,
          121,
          122,
          123,
          124,
          125,
          126,
          127,
          128,
          129,
          130,
          131,
          132,
          133,
          134,
          135,
          136,
          137,
          138,
          139,
          140,
          141,
          142,
          143,
          144,
          145,
          146,
          147,
          148,
          149,
          150,
          151,
          152,
          153,
          154,
          155,
          156,
          157,
          158,
          159,
          160,
          161,
          162,
          163,
          164,
          165,
          166,
          167,
          168,
          169,
          170,
          171,
          172,
          173,
          174,
          175,
          176,
          177,
          178,
          179,
          180,
          181,
          182,
          183,
          184,
          185,
          186,
          187,
          188,
          189,
          190,
          191,
          192,
          193,
          194,
          195,
          196,
          197,
          198,
          199,
          200,
          201,
          202,
          203,
          204,
          205,
          206,
          207,
          208,
          209,
          210,
          211,
          212,
          213,
          214,
          215,
          216,
          217,
          218,
          219,
          220,
          221,
          222,
          223,
          224,
          225,
          226,
          227,
          228,
          229,
          230,
          231,
          232,
          233,
          234,
          235,
          236,
          237,
          238,
          239,
          240,
          241,
          242,
          243,
          244,
          245,
          246,
          247,
          248,
          249,
          250,
          251,
          252,
          253,
          254,
          255,
          256,
          257,
          258,
          259,
          260,
          261,
          262,
          263,
          264,
          265,
          266,
          267,
          268,
          269,
          270,
          271,
          272,
          273,
          274,
          275,
          276,
          277,
          278,
          279,
          280,
          281,
          282,
          283,
          284,
          285,
          286,
          287,
          288,
          289,
          290,
          291,
          292,
          293,
          294,
          295,
          296,
          297,
          298,
          299,
          300,
          301,
          302,
          303,
          304,
          305,
          306,
          307,
          308,
          309,
          310,
          311,
          312,
          313,
          314,
          315,
          316,
          317,
          318,
          319,
          320,
          321,
          322,
          323,
          324,
          325,
          326,
          327,
          328,
          329,
          330,
          331,
          332,
          333,
          334,
          335,
          336,
          337,
          338,
          339,
          340,
          341,
          342,
          343,
          344,
          345,
          346,
          347,
          348,
          349,
          350,
          351,
          352,
          353,
          354,
          355,
          356,
          357,
          358,
          359,
          360,
          361,
          362,
          363,
          364,
          365,
          366,
          367,
          368,
          369,
          370,
          371,
          372,
          373,
          374,
          375,
          376,
          377,
          378,
          379,
          380,
          381,
          382,
          383,
          384,
          385,
          386,
          387,
          388,
          389,
          390,
          391,
          392,
          393,
          394,
          395,
          396,
          397,
          398,
          399,
          400,
          401,
          402,
          403,
          404,
          405,
          406,
          407,
          408,
          409,
          410,
          411,
          412,
          413,
          414,
          415,
          416,
          417,
          418,
          419,
          420,
          421,
          422,
          423,
          424,
          425,
          426,
          427,
          428,
          429,
          430,
          431,
          432,
          433,
          434,
          435,
          436,
          437,
          438,
          439,
          440,
          441,
          442,
          443,
          444,
          445,
          446,
          447,
          448,
          449,
          450,
          451,
          452,
          453,
          454,
          455,
          456,
          457,
          458,
          459,
          460,
          461,
          462,
          463,
          464,
          465,
          466,
          467,
          468,
          469,
          470,
          471,
          472,
          473,
          474,
          475,
          476,
          477,
          478,
          479,
          480,
          481,
          482,
          483,
          484,
          485,
          486,
          487,
          488,
          489,
          490,
          491,
          492,
          493,
          494,
          495,
          496,
          497,
          498,
          499,
          500,
          501,
          502,
          503,
          504,
          505,
          506,
          507,
          508,
          509,
          510,
          511,
          512,
          513,
          514,
          515,
          516,
          517,
          518,
          519,
          520,
          521,
          522,
          523,
          524,
          525,
          526,
          527,
          528,
          529,
          530,
          531,
          532,
          533,
          534,
          535,
          536,
          537,
          538,
          539,
          540,
          541,
          542,
          543,
          544,
          545,
          546,
          547,
          548,
          549,
          550,
          551,
          552,
          553,
          554,
          555,
          556,
          557,
          558,
          559,
          560,
          561,
          562,
          563,
          564,
          565,
          566,
          567,
          568,
          569,
          570,
          571,
          572,
          573,
          574,
          575,
          576,
          577,
          578,
          579,
          580,
          581,
          582,
          583,
          584,
          585,
          586,
          587,
          588,
          589,
          590,
          591,
          592,
          593,
          594,
          595,
          596,
          597,
          598,
          599,
          600,
          601,
          602,
          603,
          604,
          605,
          606,
          607,
          608,
          609,
          610,
          611,
          612,
          613,
          614,
          615,
          616,
          617,
          618,
          619,
          620,
          621,
          622,
          623,
          624,
          625,
          626,
          627,
          628,
          629,
          630,
          631,
          632,
          633,
          634,
          635,
          636,
          637,
          638,
          639,
          640,
          641,
          642,
          643,
          644,
          645,
          646,
          647,
          648,
          649,
          650,
          651,
          652,
          653,
          654,
          655,
          656,
          657,
          658,
          659,
          660,
          661,
          662,
          663,
          664,
          665,
          666,
          667,
          668,
          669,
          670,
          671,
          672,
          673,
          674,
          675,
          676,
          677,
          678,
          679,
          680,
          681,
          682,
          683,
          684,
          685,
          686,
          687,
          688,
          689,
          690,
          691,
          692,
          693,
          694,
          695,
          696,
          697,
          698,
          699,
          700,
          701,
          702,
          703,
          704,
          705,
          706,
          707,
          708,
          709,
          710,
          711,
          712,
          713,
          714,
          715,
          716,
          717,
          718,
          719,
          720,
          721,
          722,
          723,
          724,
          725,
          726,
          727,
          728,
          729,
          730,
          731,
          732,
          733,
          734,
          735,
          736,
          737,
          738,
          739,
          740,
          741,
          742,
          743,
          744,
          745,
          746,
          747,
          748,
          749,
          750,
          751,
          752,
          753,
          754,
          755
         ],
         "xaxis": "x",
         "y": [
          0.8184818481848185,
          0.8151815181518152,
          0.8151815181518152,
          0.8151815181518152,
          0.8151815181518152,
          0.8151815181518152,
          0.8151815181518152,
          0.8151815181518152,
          0.8151815181518152,
          0.8151815181518152,
          0.8151815181518152,
          0.8151815181518152,
          0.8151815181518152,
          0.8151815181518152,
          0.8151815181518152,
          0.8118811881188118,
          0.8118811881188118,
          0.8052805280528054,
          0.8052805280528054,
          0.8052805280528053,
          0.8052805280528053,
          0.8019801980198021,
          0.8019801980198021,
          0.8019801980198021,
          0.7953795379537955,
          0.7953795379537955,
          0.7953795379537955,
          0.7953795379537955,
          0.7953795379537955,
          0.7920792079207922,
          0.7920792079207922,
          0.7920792079207922,
          0.7920792079207922,
          0.7920792079207922,
          0.7920792079207922,
          0.7920792079207922,
          0.7920792079207922,
          0.7920792079207922,
          0.7920792079207922,
          0.7920792079207922,
          0.7920792079207922,
          0.7920792079207922,
          0.7920792079207922,
          0.7920792079207922,
          0.7920792079207922,
          0.7920792079207922,
          0.7920792079207922,
          0.7920792079207922,
          0.7920792079207922,
          0.7920792079207922,
          0.7920792079207922,
          0.7920792079207922,
          0.7920792079207922,
          0.7920792079207922,
          0.7920792079207922,
          0.7920792079207922,
          0.7920792079207922,
          0.7920792079207922,
          0.7920792079207922,
          0.7920792079207922,
          0.7920792079207922,
          0.7920792079207922,
          0.7920792079207922,
          0.7920792079207922,
          0.7920792079207922,
          0.7920792079207922,
          0.7920792079207922,
          0.7920792079207922,
          0.7920792079207922,
          0.7920792079207922,
          0.7920792079207922,
          0.7920792079207922,
          0.7920792079207922,
          0.7887788778877889,
          0.7887788778877889,
          0.7887788778877889,
          0.7887788778877889,
          0.7887788778877889,
          0.7887788778877889,
          0.7887788778877889,
          0.7887788778877889,
          0.7887788778877889,
          0.7887788778877889,
          0.7887788778877889,
          0.7887788778877889,
          0.7887788778877889,
          0.7854785478547855,
          0.7854785478547855,
          0.7854785478547855,
          0.7854785478547855,
          0.7854785478547855,
          0.7854785478547855,
          0.7854785478547855,
          0.7854785478547855,
          0.7854785478547855,
          0.7854785478547855,
          0.7854785478547855,
          0.7854785478547855,
          0.7854785478547855,
          0.7854785478547855,
          0.7854785478547855,
          0.7854785478547855,
          0.7854785478547855,
          0.7854785478547855,
          0.7854785478547855,
          0.7854785478547855,
          0.7854785478547855,
          0.7854785478547855,
          0.7854785478547855,
          0.7854785478547855,
          0.7854785478547855,
          0.7854785478547855,
          0.7854785478547855,
          0.7854785478547855,
          0.7854785478547855,
          0.7854785478547855,
          0.7854785478547855,
          0.7854785478547855,
          0.7854785478547855,
          0.7854785478547855,
          0.7854785478547855,
          0.7854785478547855,
          0.7854785478547855,
          0.7854785478547855,
          0.7854785478547855,
          0.7854785478547855,
          0.7854785478547855,
          0.7854785478547855,
          0.7854785478547855,
          0.7854785478547855,
          0.7854785478547855,
          0.7854785478547855,
          0.7854785478547855,
          0.7854785478547855,
          0.7854785478547855,
          0.7854785478547855,
          0.7854785478547855,
          0.7854785478547855,
          0.7854785478547855,
          0.7854785478547855,
          0.7854785478547855,
          0.7854785478547855,
          0.7821782178217823,
          0.7821782178217823,
          0.7821782178217823,
          0.7821782178217823,
          0.7821782178217823,
          0.7821782178217823,
          0.7821782178217823,
          0.7821782178217823,
          0.7821782178217823,
          0.7821782178217823,
          0.7821782178217823,
          0.7821782178217823,
          0.7821782178217823,
          0.7821782178217823,
          0.7821782178217823,
          0.7821782178217823,
          0.7821782178217823,
          0.7821782178217823,
          0.7821782178217823,
          0.7821782178217823,
          0.7821782178217823,
          0.7821782178217823,
          0.7821782178217823,
          0.7821782178217823,
          0.7821782178217823,
          0.7821782178217823,
          0.7821782178217823,
          0.7821782178217823,
          0.7821782178217823,
          0.7821782178217823,
          0.7821782178217823,
          0.7821782178217823,
          0.7821782178217823,
          0.7821782178217823,
          0.7821782178217823,
          0.7821782178217823,
          0.7821782178217823,
          0.7821782178217823,
          0.7821782178217823,
          0.7821782178217823,
          0.7821782178217823,
          0.7821782178217823,
          0.7821782178217823,
          0.7821782178217823,
          0.7821782178217823,
          0.7821782178217823,
          0.7821782178217823,
          0.7821782178217823,
          0.7821782178217823,
          0.7821782178217823,
          0.7821782178217823,
          0.7821782178217823,
          0.7821782178217823,
          0.7821782178217823,
          0.7821782178217823,
          0.7821782178217823,
          0.7821782178217823,
          0.7821782178217823,
          0.7821782178217823,
          0.7821782178217823,
          0.7821782178217823,
          0.7821782178217823,
          0.7821782178217823,
          0.7821782178217823,
          0.7821782178217823,
          0.778877887788779,
          0.778877887788779,
          0.778877887788779,
          0.778877887788779,
          0.778877887788779,
          0.778877887788779,
          0.778877887788779,
          0.778877887788779,
          0.778877887788779,
          0.778877887788779,
          0.778877887788779,
          0.778877887788779,
          0.778877887788779,
          0.7755775577557756,
          0.7755775577557756,
          0.7689768976897691,
          0.7689768976897691,
          0.7689768976897691,
          0.7689768976897691,
          0.7689768976897691,
          0.7689768976897691,
          0.7689768976897691,
          0.7689768976897691,
          0.7689768976897691,
          0.7689768976897691,
          0.7689768976897691,
          0.7689768976897691,
          0.7689768976897691,
          0.7689768976897691,
          0.7689768976897691,
          0.7689768976897691,
          0.7689768976897691,
          0.7689768976897691,
          0.7689768976897691,
          0.7689768976897691,
          0.7689768976897691,
          0.7689768976897691,
          0.7689768976897691,
          0.7689768976897691,
          0.7689768976897691,
          0.7689768976897691,
          0.7689768976897691,
          0.7689768976897691,
          0.7689768976897691,
          0.7689768976897691,
          0.7689768976897691,
          0.7689768976897691,
          0.7689768976897691,
          0.7689768976897691,
          0.7689768976897691,
          0.7689768976897691,
          0.7689768976897691,
          0.7689768976897691,
          0.7689768976897691,
          0.7689768976897691,
          0.7689768976897691,
          0.7689768976897691,
          0.7689768976897691,
          0.7689768976897691,
          0.7689768976897691,
          0.7689768976897691,
          0.7689768976897691,
          0.7689768976897691,
          0.7689768976897691,
          0.7689768976897691,
          0.7689768976897691,
          0.7689768976897691,
          0.7689768976897691,
          0.7689768976897691,
          0.7623762376237625,
          0.7623762376237625,
          0.7623762376237625,
          0.7623762376237625,
          0.7623762376237625,
          0.7623762376237625,
          0.7623762376237625,
          0.7623762376237625,
          0.7623762376237625,
          0.7623762376237625,
          0.7623762376237625,
          0.7623762376237625,
          0.7623762376237625,
          0.7623762376237625,
          0.7623762376237625,
          0.7623762376237625,
          0.7623762376237625,
          0.7623762376237625,
          0.7623762376237625,
          0.7623762376237625,
          0.7623762376237625,
          0.7623762376237625,
          0.7623762376237625,
          0.7623762376237625,
          0.7623762376237625,
          0.7623762376237625,
          0.7524752475247526,
          0.7524752475247526,
          0.7524752475247526,
          0.7524752475247526,
          0.7524752475247526,
          0.7524752475247526,
          0.7524752475247526,
          0.7524752475247526,
          0.7524752475247526,
          0.7524752475247526,
          0.7524752475247526,
          0.7524752475247526,
          0.7524752475247526,
          0.7524752475247526,
          0.7524752475247526,
          0.7524752475247526,
          0.7524752475247526,
          0.7524752475247526,
          0.7524752475247526,
          0.7524752475247526,
          0.7524752475247526,
          0.7524752475247526,
          0.7524752475247526,
          0.7524752475247526,
          0.7524752475247526,
          0.7524752475247526,
          0.7524752475247526,
          0.7524752475247526,
          0.7524752475247526,
          0.7524752475247526,
          0.7524752475247526,
          0.7524752475247526,
          0.7524752475247526,
          0.7524752475247526,
          0.7524752475247526,
          0.7524752475247526,
          0.7524752475247526,
          0.7524752475247526,
          0.7524752475247526,
          0.7524752475247526,
          0.7524752475247526,
          0.7524752475247526,
          0.7524752475247526,
          0.7524752475247526,
          0.7524752475247526,
          0.7524752475247526,
          0.7524752475247526,
          0.7524752475247526,
          0.7524752475247526,
          0.7491749174917492,
          0.7491749174917492,
          0.7491749174917492,
          0.7491749174917492,
          0.7491749174917492,
          0.7491749174917492,
          0.7491749174917492,
          0.7491749174917492,
          0.7491749174917492,
          0.7491749174917492,
          0.7491749174917492,
          0.7491749174917492,
          0.7491749174917492,
          0.7491749174917492,
          0.7491749174917492,
          0.7491749174917492,
          0.7491749174917492,
          0.7491749174917492,
          0.7491749174917492,
          0.7491749174917492,
          0.7491749174917492,
          0.7491749174917492,
          0.7491749174917492,
          0.7491749174917492,
          0.7491749174917492,
          0.7458745874587459,
          0.7458745874587459,
          0.7458745874587459,
          0.7458745874587459,
          0.7458745874587459,
          0.7458745874587459,
          0.7458745874587459,
          0.7458745874587459,
          0.7458745874587459,
          0.7458745874587459,
          0.7458745874587459,
          0.7458745874587459,
          0.7458745874587459,
          0.7458745874587459,
          0.7458745874587459,
          0.7458745874587459,
          0.7458745874587459,
          0.7458745874587459,
          0.7458745874587459,
          0.7458745874587459,
          0.7458745874587459,
          0.7458745874587459,
          0.7458745874587459,
          0.7458745874587459,
          0.7458745874587459,
          0.7458745874587459,
          0.7458745874587459,
          0.7425742574257427,
          0.7425742574257427,
          0.7425742574257427,
          0.7425742574257427,
          0.7425742574257427,
          0.7425742574257427,
          0.7425742574257427,
          0.7425742574257427,
          0.7425742574257427,
          0.7425742574257427,
          0.7425742574257427,
          0.7425742574257427,
          0.7425742574257427,
          0.7425742574257427,
          0.7392739273927393,
          0.7392739273927393,
          0.7392739273927393,
          0.7392739273927393,
          0.7392739273927393,
          0.7392739273927393,
          0.7392739273927393,
          0.7392739273927393,
          0.7392739273927393,
          0.7392739273927393,
          0.7392739273927393,
          0.7392739273927393,
          0.7392739273927393,
          0.7392739273927393,
          0.7392739273927393,
          0.7392739273927393,
          0.7392739273927393,
          0.7392739273927393,
          0.7392739273927393,
          0.7392739273927393,
          0.7392739273927393,
          0.7392739273927393,
          0.7392739273927393,
          0.7392739273927393,
          0.7392739273927393,
          0.7392739273927393,
          0.7392739273927393,
          0.7392739273927393,
          0.7392739273927393,
          0.7392739273927393,
          0.7392739273927393,
          0.7392739273927393,
          0.7392739273927393,
          0.7392739273927393,
          0.7392739273927393,
          0.7392739273927393,
          0.7392739273927393,
          0.7392739273927393,
          0.7392739273927393,
          0.7392739273927393,
          0.7392739273927393,
          0.7392739273927393,
          0.7392739273927393,
          0.7392739273927393,
          0.7392739273927393,
          0.7392739273927393,
          0.7392739273927393,
          0.7392739273927393,
          0.7392739273927393,
          0.7392739273927393,
          0.7392739273927393,
          0.7392739273927393,
          0.7392739273927393,
          0.7392739273927393,
          0.7392739273927393,
          0.7392739273927393,
          0.7392739273927393,
          0.7392739273927393,
          0.7392739273927393,
          0.7392739273927393,
          0.735973597359736,
          0.735973597359736,
          0.735973597359736,
          0.735973597359736,
          0.735973597359736,
          0.735973597359736,
          0.735973597359736,
          0.735973597359736,
          0.735973597359736,
          0.735973597359736,
          0.735973597359736,
          0.735973597359736,
          0.735973597359736,
          0.735973597359736,
          0.735973597359736,
          0.735973597359736,
          0.735973597359736,
          0.735973597359736,
          0.735973597359736,
          0.735973597359736,
          0.735973597359736,
          0.735973597359736,
          0.735973597359736,
          0.735973597359736,
          0.735973597359736,
          0.735973597359736,
          0.7326732673267328,
          0.7326732673267328,
          0.7326732673267328,
          0.7326732673267328,
          0.7326732673267328,
          0.7326732673267328,
          0.7326732673267328,
          0.7326732673267328,
          0.7326732673267328,
          0.7326732673267328,
          0.7326732673267328,
          0.7326732673267328,
          0.7326732673267328,
          0.7326732673267328,
          0.7326732673267328,
          0.7326732673267328,
          0.7326732673267328,
          0.7326732673267328,
          0.7326732673267328,
          0.7326732673267328,
          0.7326732673267328,
          0.7326732673267328,
          0.7326732673267328,
          0.7326732673267328,
          0.7326732673267328,
          0.7326732673267328,
          0.7326732673267328,
          0.7326732673267328,
          0.7326732673267328,
          0.7326732673267328,
          0.7326732673267328,
          0.7326732673267328,
          0.7326732673267328,
          0.7326732673267328,
          0.7293729372937294,
          0.7293729372937294,
          0.7293729372937294,
          0.7293729372937294,
          0.7293729372937294,
          0.7293729372937294,
          0.7293729372937294,
          0.7293729372937294,
          0.7293729372937294,
          0.7293729372937294,
          0.7293729372937294,
          0.7293729372937294,
          0.7293729372937294,
          0.7293729372937294,
          0.7293729372937294,
          0.7293729372937294,
          0.7293729372937294,
          0.7293729372937294,
          0.7293729372937294,
          0.7293729372937294,
          0.7293729372937294,
          0.7293729372937294,
          0.7293729372937294,
          0.7293729372937294,
          0.7293729372937294,
          0.7293729372937294,
          0.7293729372937294,
          0.7293729372937294,
          0.7293729372937294,
          0.7293729372937294,
          0.7293729372937294,
          0.7293729372937294,
          0.7293729372937294,
          0.7293729372937294,
          0.7293729372937294,
          0.7293729372937294,
          0.7293729372937294,
          0.7293729372937294,
          0.7293729372937294,
          0.7293729372937294,
          0.7293729372937294,
          0.7293729372937294,
          0.7293729372937294,
          0.7293729372937294,
          0.7293729372937294,
          0.7293729372937294,
          0.7293729372937294,
          0.7293729372937294,
          0.7293729372937294,
          0.7293729372937294,
          0.7293729372937294,
          0.7293729372937294,
          0.7293729372937294,
          0.7293729372937294,
          0.7293729372937294,
          0.7293729372937294,
          0.7293729372937294,
          0.7293729372937294,
          0.7293729372937294,
          0.7293729372937294,
          0.7293729372937294,
          0.7293729372937294,
          0.7293729372937294,
          0.7293729372937294,
          0.7293729372937294,
          0.7293729372937294,
          0.7293729372937294,
          0.7293729372937294,
          0.7293729372937294,
          0.7260726072607261,
          0.7260726072607261,
          0.7260726072607261,
          0.7260726072607261,
          0.7260726072607261,
          0.7260726072607261,
          0.7260726072607261,
          0.7260726072607261,
          0.7260726072607261,
          0.7260726072607261,
          0.7260726072607261,
          0.7260726072607261,
          0.7260726072607261,
          0.7260726072607261,
          0.7260726072607261,
          0.7260726072607261,
          0.7260726072607261,
          0.7260726072607261,
          0.7260726072607261,
          0.7260726072607261,
          0.7260726072607261,
          0.7260726072607261,
          0.7260726072607261,
          0.7260726072607261,
          0.7260726072607261,
          0.7260726072607261,
          0.7260726072607261,
          0.7260726072607261,
          0.7260726072607261,
          0.7260726072607261,
          0.7227722772277229,
          0.7227722772277229,
          0.7227722772277229,
          0.7227722772277229,
          0.7227722772277229,
          0.7227722772277229,
          0.7227722772277229,
          0.7227722772277229,
          0.7227722772277229,
          0.7227722772277229,
          0.7227722772277229,
          0.7227722772277229,
          0.7227722772277229,
          0.7227722772277229,
          0.7227722772277229,
          0.7227722772277229,
          0.7227722772277229,
          0.7227722772277229,
          0.7227722772277229,
          0.7227722772277229,
          0.7227722772277229,
          0.7227722772277229,
          0.7227722772277229,
          0.7227722772277229,
          0.7227722772277229,
          0.7227722772277229,
          0.7227722772277229,
          0.7227722772277229,
          0.7227722772277229,
          0.7227722772277229,
          0.7227722772277229,
          0.7227722772277229,
          0.7227722772277229,
          0.7227722772277229,
          0.7227722772277229,
          0.7227722772277229,
          0.7227722772277229,
          0.7227722772277229,
          0.7227722772277229,
          0.7227722772277229,
          0.7227722772277229,
          0.7227722772277229,
          0.7227722772277229,
          0.7227722772277229,
          0.7227722772277229,
          0.7227722772277229,
          0.7227722772277229,
          0.7227722772277229,
          0.7227722772277229,
          0.7227722772277229,
          0.7227722772277229,
          0.7227722772277229,
          0.7227722772277229,
          0.7227722772277229,
          0.7194719471947195,
          0.7194719471947195,
          0.7194719471947195,
          0.7194719471947195,
          0.7194719471947195,
          0.7194719471947195,
          0.7194719471947195,
          0.7194719471947195,
          0.7194719471947195,
          0.7194719471947195,
          0.7194719471947195,
          0.7194719471947195,
          0.7194719471947195,
          0.7194719471947195,
          0.7194719471947195,
          0.7194719471947195,
          0.7194719471947195,
          0.7194719471947195,
          0.7194719471947195,
          0.7194719471947195,
          0.7194719471947195,
          0.7194719471947195,
          0.7194719471947195,
          0.7194719471947195,
          0.7194719471947195,
          0.7194719471947195,
          0.7194719471947195,
          0.7161716171617162,
          0.7161716171617162,
          0.7161716171617162,
          0.7161716171617162,
          0.7161716171617162,
          0.7161716171617162,
          0.7161716171617162,
          0.7161716171617162,
          0.7161716171617162,
          0.7161716171617162,
          0.7161716171617162,
          0.7161716171617162,
          0.7161716171617162,
          0.7161716171617162,
          0.7161716171617162,
          0.7161716171617162,
          0.7161716171617162,
          0.7161716171617162,
          0.7161716171617162,
          0.7161716171617162,
          0.7161716171617162,
          0.7161716171617162,
          0.7161716171617162,
          0.7161716171617162,
          0.7161716171617162,
          0.7161716171617162,
          0.7062706270627063,
          0.7062706270627063,
          0.7062706270627063,
          0.7062706270627063,
          0.7062706270627063,
          0.7062706270627063,
          0.7062706270627063,
          0.7062706270627063,
          0.7062706270627063,
          0.7062706270627063,
          0.7062706270627063,
          0.7062706270627063,
          0.7062706270627063
         ],
         "yaxis": "y"
        },
        {
         "customdata": [
          [
           "gini",
           "random",
           5,
           9
          ],
          [
           "gini",
           "random",
           300,
           9
          ],
          [
           "gini",
           "random",
           450,
           9
          ],
          [
           "gini",
           "random",
           20,
           9
          ],
          [
           "gini",
           "random",
           10,
           9
          ],
          [
           "gini",
           "random",
           250,
           9
          ],
          [
           "gini",
           "random",
           5,
           8
          ],
          [
           "gini",
           "random",
           200,
           9
          ],
          [
           "gini",
           "random",
           350,
           9
          ],
          [
           "gini",
           "random",
           500,
           9
          ],
          [
           "gini",
           "random",
           150,
           9
          ],
          [
           "gini",
           "random",
           100,
           9
          ],
          [
           "gini",
           "random",
           15,
           9
          ],
          [
           "gini",
           "random",
           50,
           9
          ],
          [
           "gini",
           "random",
           400,
           9
          ],
          [
           "log_loss",
           "random",
           5,
           9
          ],
          [
           "entropy",
           "random",
           5,
           9
          ],
          [
           "log_loss",
           "random",
           5,
           6
          ],
          [
           "entropy",
           "random",
           5,
           6
          ],
          [
           "entropy",
           "random",
           5,
           8
          ],
          [
           "log_loss",
           "random",
           5,
           8
          ],
          [
           "log_loss",
           "random",
           5,
           7
          ],
          [
           "entropy",
           "random",
           5,
           7
          ],
          [
           "gini",
           "random",
           5,
           10
          ],
          [
           "gini",
           "random",
           5,
           7
          ],
          [
           "log_loss",
           "random",
           5,
           5
          ],
          [
           "gini",
           "random",
           5,
           6
          ],
          [
           "gini",
           "random",
           5,
           2
          ],
          [
           "entropy",
           "random",
           5,
           5
          ],
          [
           "log_loss",
           "random",
           100,
           4
          ],
          [
           "gini",
           "random",
           100,
           4
          ],
          [
           "log_loss",
           "random",
           50,
           4
          ],
          [
           "log_loss",
           "random",
           150,
           4
          ],
          [
           "entropy",
           "random",
           5,
           10
          ],
          [
           "log_loss",
           "random",
           5,
           10
          ],
          [
           "log_loss",
           "random",
           20,
           4
          ],
          [
           "gini",
           "random",
           150,
           4
          ],
          [
           "log_loss",
           "random",
           15,
           4
          ],
          [
           "entropy",
           "random",
           15,
           4
          ],
          [
           "log_loss",
           "random",
           10,
           4
          ],
          [
           "gini",
           "random",
           200,
           4
          ],
          [
           "gini",
           "random",
           50,
           4
          ],
          [
           "log_loss",
           "random",
           200,
           4
          ],
          [
           "gini",
           "random",
           450,
           4
          ],
          [
           "entropy",
           "random",
           20,
           4
          ],
          [
           "entropy",
           "random",
           200,
           4
          ],
          [
           "gini",
           "random",
           400,
           4
          ],
          [
           "entropy",
           "random",
           250,
           4
          ],
          [
           "entropy",
           "random",
           100,
           4
          ],
          [
           "entropy",
           "random",
           300,
           4
          ],
          [
           "gini",
           "random",
           350,
           4
          ],
          [
           "entropy",
           "random",
           150,
           4
          ],
          [
           "entropy",
           "random",
           350,
           4
          ],
          [
           "gini",
           "random",
           300,
           4
          ],
          [
           "entropy",
           "random",
           50,
           4
          ],
          [
           "entropy",
           "random",
           450,
           4
          ],
          [
           "gini",
           "random",
           500,
           4
          ],
          [
           "entropy",
           "random",
           500,
           4
          ],
          [
           "gini",
           "random",
           250,
           4
          ],
          [
           "entropy",
           "random",
           400,
           4
          ],
          [
           "log_loss",
           "random",
           250,
           4
          ],
          [
           "entropy",
           "random",
           10,
           4
          ],
          [
           "gini",
           "random",
           5,
           4
          ],
          [
           "log_loss",
           "random",
           300,
           4
          ],
          [
           "gini",
           "random",
           5,
           3
          ],
          [
           "gini",
           "random",
           5,
           5
          ],
          [
           "log_loss",
           "random",
           400,
           4
          ],
          [
           "gini",
           "random",
           10,
           4
          ],
          [
           "log_loss",
           "random",
           350,
           4
          ],
          [
           "log_loss",
           "random",
           450,
           4
          ],
          [
           "gini",
           "random",
           15,
           4
          ],
          [
           "log_loss",
           "random",
           500,
           4
          ],
          [
           "gini",
           "random",
           20,
           4
          ],
          [
           "gini",
           "random",
           20,
           10
          ],
          [
           "gini",
           "random",
           450,
           10
          ],
          [
           "gini",
           "random",
           50,
           10
          ],
          [
           "gini",
           "random",
           100,
           10
          ],
          [
           "gini",
           "random",
           10,
           10
          ],
          [
           "gini",
           "random",
           150,
           10
          ],
          [
           "gini",
           "random",
           250,
           10
          ],
          [
           "gini",
           "random",
           350,
           10
          ],
          [
           "gini",
           "random",
           500,
           10
          ],
          [
           "gini",
           "random",
           15,
           10
          ],
          [
           "gini",
           "random",
           400,
           10
          ],
          [
           "gini",
           "random",
           200,
           10
          ],
          [
           "gini",
           "random",
           300,
           10
          ],
          [
           "log_loss",
           "random",
           350,
           8
          ],
          [
           "log_loss",
           "random",
           350,
           9
          ],
          [
           "entropy",
           "random",
           500,
           9
          ],
          [
           "entropy",
           "random",
           50,
           9
          ],
          [
           "entropy",
           "random",
           15,
           9
          ],
          [
           "entropy",
           "random",
           450,
           9
          ],
          [
           "log_loss",
           "random",
           5,
           3
          ],
          [
           "log_loss",
           "random",
           5,
           4
          ],
          [
           "entropy",
           "random",
           5,
           2
          ],
          [
           "entropy",
           "random",
           15,
           8
          ],
          [
           "entropy",
           "random",
           5,
           3
          ],
          [
           "log_loss",
           "random",
           300,
           9
          ],
          [
           "entropy",
           "random",
           500,
           8
          ],
          [
           "log_loss",
           "random",
           5,
           2
          ],
          [
           "entropy",
           "random",
           350,
           9
          ],
          [
           "entropy",
           "random",
           400,
           9
          ],
          [
           "entropy",
           "random",
           100,
           8
          ],
          [
           "entropy",
           "random",
           100,
           9
          ],
          [
           "entropy",
           "random",
           50,
           8
          ],
          [
           "entropy",
           "random",
           150,
           8
          ],
          [
           "entropy",
           "random",
           150,
           9
          ],
          [
           "entropy",
           "random",
           200,
           8
          ],
          [
           "entropy",
           "random",
           200,
           9
          ],
          [
           "log_loss",
           "random",
           450,
           9
          ],
          [
           "entropy",
           "random",
           450,
           8
          ],
          [
           "entropy",
           "random",
           250,
           8
          ],
          [
           "entropy",
           "random",
           250,
           9
          ],
          [
           "entropy",
           "random",
           20,
           9
          ],
          [
           "log_loss",
           "random",
           400,
           8
          ],
          [
           "entropy",
           "random",
           300,
           8
          ],
          [
           "entropy",
           "random",
           300,
           9
          ],
          [
           "entropy",
           "random",
           20,
           8
          ],
          [
           "entropy",
           "random",
           350,
           8
          ],
          [
           "entropy",
           "random",
           400,
           8
          ],
          [
           "log_loss",
           "random",
           400,
           9
          ],
          [
           "log_loss",
           "random",
           300,
           8
          ],
          [
           "log_loss",
           "random",
           450,
           8
          ],
          [
           "log_loss",
           "random",
           20,
           8
          ],
          [
           "entropy",
           "random",
           10,
           9
          ],
          [
           "log_loss",
           "random",
           10,
           9
          ],
          [
           "log_loss",
           "random",
           250,
           9
          ],
          [
           "log_loss",
           "random",
           50,
           9
          ],
          [
           "log_loss",
           "random",
           50,
           8
          ],
          [
           "log_loss",
           "random",
           100,
           8
          ],
          [
           "log_loss",
           "random",
           100,
           9
          ],
          [
           "log_loss",
           "random",
           250,
           8
          ],
          [
           "log_loss",
           "random",
           20,
           9
          ],
          [
           "log_loss",
           "random",
           150,
           8
          ],
          [
           "log_loss",
           "random",
           150,
           9
          ],
          [
           "log_loss",
           "random",
           500,
           9
          ],
          [
           "log_loss",
           "random",
           500,
           8
          ],
          [
           "log_loss",
           "random",
           200,
           8
          ],
          [
           "entropy",
           "random",
           5,
           4
          ],
          [
           "log_loss",
           "random",
           200,
           9
          ],
          [
           "log_loss",
           "random",
           15,
           9
          ],
          [
           "log_loss",
           "random",
           15,
           8
          ],
          [
           "entropy",
           "random",
           300,
           7
          ],
          [
           "entropy",
           "random",
           100,
           7
          ],
          [
           "entropy",
           "random",
           100,
           5
          ],
          [
           "gini",
           "random",
           50,
           8
          ],
          [
           "log_loss",
           "random",
           400,
           7
          ],
          [
           "entropy",
           "random",
           150,
           7
          ],
          [
           "entropy",
           "random",
           20,
           7
          ],
          [
           "log_loss",
           "random",
           400,
           5
          ],
          [
           "entropy",
           "random",
           350,
           5
          ],
          [
           "log_loss",
           "random",
           450,
           7
          ],
          [
           "entropy",
           "random",
           350,
           7
          ],
          [
           "gini",
           "random",
           450,
           8
          ],
          [
           "entropy",
           "random",
           300,
           5
          ],
          [
           "log_loss",
           "random",
           100,
           7
          ],
          [
           "log_loss",
           "random",
           200,
           7
          ],
          [
           "entropy",
           "random",
           150,
           5
          ],
          [
           "gini",
           "random",
           20,
           8
          ],
          [
           "log_loss",
           "random",
           200,
           5
          ],
          [
           "log_loss",
           "random",
           250,
           7
          ],
          [
           "entropy",
           "random",
           10,
           7
          ],
          [
           "gini",
           "random",
           400,
           8
          ],
          [
           "entropy",
           "random",
           50,
           5
          ],
          [
           "entropy",
           "random",
           200,
           5
          ],
          [
           "entropy",
           "random",
           200,
           7
          ],
          [
           "gini",
           "random",
           300,
           8
          ],
          [
           "entropy",
           "random",
           50,
           7
          ],
          [
           "entropy",
           "random",
           250,
           5
          ],
          [
           "entropy",
           "random",
           250,
           7
          ],
          [
           "log_loss",
           "random",
           450,
           5
          ],
          [
           "log_loss",
           "random",
           150,
           7
          ],
          [
           "log_loss",
           "random",
           150,
           5
          ],
          [
           "gini",
           "random",
           350,
           8
          ],
          [
           "gini",
           "random",
           150,
           8
          ],
          [
           "log_loss",
           "random",
           100,
           5
          ],
          [
           "gini",
           "random",
           100,
           8
          ],
          [
           "log_loss",
           "random",
           15,
           7
          ],
          [
           "entropy",
           "random",
           500,
           7
          ],
          [
           "log_loss",
           "random",
           300,
           7
          ],
          [
           "log_loss",
           "random",
           15,
           5
          ],
          [
           "entropy",
           "random",
           20,
           5
          ],
          [
           "log_loss",
           "random",
           20,
           7
          ],
          [
           "log_loss",
           "random",
           500,
           7
          ],
          [
           "log_loss",
           "random",
           20,
           5
          ],
          [
           "log_loss",
           "random",
           500,
           5
          ],
          [
           "log_loss",
           "random",
           350,
           7
          ],
          [
           "log_loss",
           "random",
           300,
           5
          ],
          [
           "gini",
           "random",
           200,
           8
          ],
          [
           "log_loss",
           "random",
           350,
           5
          ],
          [
           "entropy",
           "random",
           10,
           5
          ],
          [
           "gini",
           "random",
           15,
           8
          ],
          [
           "entropy",
           "random",
           15,
           5
          ],
          [
           "entropy",
           "random",
           500,
           5
          ],
          [
           "log_loss",
           "random",
           10,
           5
          ],
          [
           "gini",
           "random",
           10,
           8
          ],
          [
           "entropy",
           "random",
           400,
           5
          ],
          [
           "entropy",
           "random",
           400,
           7
          ],
          [
           "entropy",
           "random",
           15,
           7
          ],
          [
           "log_loss",
           "random",
           250,
           5
          ],
          [
           "log_loss",
           "random",
           50,
           5
          ],
          [
           "entropy",
           "random",
           450,
           5
          ],
          [
           "gini",
           "random",
           500,
           8
          ],
          [
           "entropy",
           "random",
           450,
           7
          ],
          [
           "log_loss",
           "random",
           10,
           7
          ],
          [
           "log_loss",
           "random",
           50,
           7
          ],
          [
           "gini",
           "random",
           250,
           8
          ],
          [
           "gini",
           "random",
           200,
           3
          ],
          [
           "gini",
           "random",
           15,
           3
          ],
          [
           "gini",
           "random",
           20,
           3
          ],
          [
           "gini",
           "random",
           400,
           3
          ],
          [
           "gini",
           "random",
           100,
           3
          ],
          [
           "gini",
           "random",
           150,
           3
          ],
          [
           "gini",
           "random",
           350,
           3
          ],
          [
           "gini",
           "random",
           300,
           3
          ],
          [
           "gini",
           "random",
           250,
           3
          ],
          [
           "gini",
           "random",
           50,
           3
          ],
          [
           "gini",
           "random",
           500,
           3
          ],
          [
           "gini",
           "random",
           10,
           3
          ],
          [
           "gini",
           "random",
           450,
           3
          ],
          [
           "entropy",
           "random",
           10,
           2
          ],
          [
           "log_loss",
           "random",
           10,
           2
          ],
          [
           "log_loss",
           "random",
           500,
           2
          ],
          [
           "entropy",
           "random",
           50,
           2
          ],
          [
           "entropy",
           "random",
           15,
           10
          ],
          [
           "entropy",
           "random",
           15,
           2
          ],
          [
           "entropy",
           "random",
           20,
           10
          ],
          [
           "entropy",
           "random",
           10,
           8
          ],
          [
           "entropy",
           "random",
           20,
           2
          ],
          [
           "entropy",
           "random",
           10,
           10
          ],
          [
           "log_loss",
           "random",
           450,
           10
          ],
          [
           "log_loss",
           "random",
           250,
           2
          ],
          [
           "log_loss",
           "random",
           400,
           2
          ],
          [
           "entropy",
           "random",
           100,
           2
          ],
          [
           "log_loss",
           "random",
           10,
           3
          ],
          [
           "log_loss",
           "random",
           10,
           8
          ],
          [
           "log_loss",
           "random",
           10,
           10
          ],
          [
           "log_loss",
           "random",
           15,
           2
          ],
          [
           "log_loss",
           "random",
           15,
           10
          ],
          [
           "log_loss",
           "random",
           20,
           2
          ],
          [
           "log_loss",
           "random",
           20,
           10
          ],
          [
           "log_loss",
           "random",
           50,
           2
          ],
          [
           "log_loss",
           "random",
           300,
           2
          ],
          [
           "log_loss",
           "random",
           50,
           10
          ],
          [
           "log_loss",
           "random",
           100,
           2
          ],
          [
           "log_loss",
           "random",
           250,
           10
          ],
          [
           "log_loss",
           "random",
           100,
           10
          ],
          [
           "log_loss",
           "random",
           150,
           2
          ],
          [
           "log_loss",
           "random",
           150,
           10
          ],
          [
           "log_loss",
           "random",
           200,
           2
          ],
          [
           "log_loss",
           "random",
           200,
           10
          ],
          [
           "log_loss",
           "random",
           300,
           10
          ],
          [
           "entropy",
           "random",
           50,
           10
          ],
          [
           "log_loss",
           "random",
           350,
           2
          ],
          [
           "entropy",
           "random",
           500,
           2
          ],
          [
           "entropy",
           "random",
           100,
           10
          ],
          [
           "entropy",
           "random",
           150,
           2
          ],
          [
           "entropy",
           "random",
           200,
           2
          ],
          [
           "entropy",
           "random",
           200,
           10
          ],
          [
           "log_loss",
           "random",
           450,
           2
          ],
          [
           "entropy",
           "random",
           250,
           2
          ],
          [
           "log_loss",
           "random",
           400,
           10
          ],
          [
           "entropy",
           "random",
           250,
           10
          ],
          [
           "entropy",
           "random",
           300,
           2
          ],
          [
           "entropy",
           "random",
           300,
           10
          ],
          [
           "entropy",
           "random",
           350,
           2
          ],
          [
           "entropy",
           "random",
           350,
           10
          ],
          [
           "entropy",
           "random",
           400,
           2
          ],
          [
           "entropy",
           "random",
           400,
           10
          ],
          [
           "entropy",
           "random",
           450,
           2
          ],
          [
           "log_loss",
           "random",
           350,
           10
          ],
          [
           "entropy",
           "random",
           450,
           10
          ],
          [
           "entropy",
           "random",
           500,
           10
          ],
          [
           "entropy",
           "random",
           150,
           10
          ],
          [
           "log_loss",
           "random",
           500,
           10
          ],
          [
           "entropy",
           "random",
           10,
           3
          ],
          [
           "entropy",
           "random",
           250,
           6
          ],
          [
           "log_loss",
           "random",
           10,
           6
          ],
          [
           "entropy",
           "random",
           200,
           6
          ],
          [
           "log_loss",
           "random",
           15,
           6
          ],
          [
           "log_loss",
           "random",
           300,
           6
          ],
          [
           "log_loss",
           "random",
           20,
           6
          ],
          [
           "log_loss",
           "random",
           350,
           6
          ],
          [
           "entropy",
           "random",
           150,
           6
          ],
          [
           "log_loss",
           "random",
           50,
           6
          ],
          [
           "log_loss",
           "random",
           250,
           6
          ],
          [
           "log_loss",
           "random",
           100,
           6
          ],
          [
           "entropy",
           "random",
           100,
           6
          ],
          [
           "log_loss",
           "random",
           150,
           6
          ],
          [
           "log_loss",
           "random",
           200,
           6
          ],
          [
           "entropy",
           "random",
           20,
           6
          ],
          [
           "entropy",
           "random",
           15,
           6
          ],
          [
           "entropy",
           "random",
           50,
           6
          ],
          [
           "entropy",
           "random",
           350,
           6
          ],
          [
           "log_loss",
           "random",
           500,
           6
          ],
          [
           "entropy",
           "random",
           400,
           6
          ],
          [
           "entropy",
           "random",
           500,
           6
          ],
          [
           "entropy",
           "random",
           450,
           6
          ],
          [
           "log_loss",
           "random",
           450,
           6
          ],
          [
           "log_loss",
           "random",
           400,
           6
          ],
          [
           "entropy",
           "random",
           300,
           6
          ],
          [
           "entropy",
           "random",
           10,
           6
          ],
          [
           "log_loss",
           "random",
           50,
           3
          ],
          [
           "gini",
           "best",
           300,
           9
          ],
          [
           "gini",
           "random",
           100,
           5
          ],
          [
           "entropy",
           "random",
           400,
           3
          ],
          [
           "entropy",
           "random",
           300,
           3
          ],
          [
           "gini",
           "random",
           450,
           5
          ],
          [
           "gini",
           "random",
           300,
           5
          ],
          [
           "entropy",
           "random",
           100,
           3
          ],
          [
           "log_loss",
           "random",
           150,
           3
          ],
          [
           "gini",
           "random",
           50,
           5
          ],
          [
           "gini",
           "best",
           450,
           9
          ],
          [
           "log_loss",
           "random",
           100,
           3
          ],
          [
           "gini",
           "best",
           50,
           9
          ],
          [
           "gini",
           "best",
           400,
           9
          ],
          [
           "gini",
           "best",
           100,
           9
          ],
          [
           "gini",
           "best",
           200,
           9
          ],
          [
           "gini",
           "best",
           350,
           9
          ],
          [
           "gini",
           "random",
           200,
           5
          ],
          [
           "gini",
           "random",
           250,
           5
          ],
          [
           "entropy",
           "random",
           500,
           3
          ],
          [
           "entropy",
           "random",
           250,
           3
          ],
          [
           "gini",
           "best",
           150,
           9
          ],
          [
           "gini",
           "random",
           400,
           5
          ],
          [
           "log_loss",
           "random",
           200,
           3
          ],
          [
           "gini",
           "random",
           350,
           5
          ],
          [
           "gini",
           "best",
           250,
           9
          ],
          [
           "gini",
           "random",
           150,
           5
          ],
          [
           "entropy",
           "random",
           350,
           3
          ],
          [
           "entropy",
           "random",
           200,
           3
          ],
          [
           "log_loss",
           "random",
           20,
           3
          ],
          [
           "entropy",
           "random",
           450,
           3
          ],
          [
           "log_loss",
           "random",
           15,
           3
          ],
          [
           "entropy",
           "random",
           150,
           3
          ],
          [
           "entropy",
           "random",
           50,
           3
          ],
          [
           "gini",
           "random",
           15,
           5
          ],
          [
           "log_loss",
           "random",
           250,
           3
          ],
          [
           "log_loss",
           "random",
           300,
           3
          ],
          [
           "gini",
           "best",
           10,
           9
          ],
          [
           "gini",
           "random",
           20,
           5
          ],
          [
           "log_loss",
           "random",
           400,
           3
          ],
          [
           "entropy",
           "random",
           15,
           3
          ],
          [
           "gini",
           "random",
           500,
           5
          ],
          [
           "log_loss",
           "random",
           350,
           3
          ],
          [
           "gini",
           "best",
           500,
           9
          ],
          [
           "entropy",
           "random",
           20,
           3
          ],
          [
           "log_loss",
           "random",
           450,
           3
          ],
          [
           "log_loss",
           "random",
           500,
           3
          ],
          [
           "gini",
           "best",
           15,
           9
          ],
          [
           "gini",
           "best",
           20,
           9
          ],
          [
           "gini",
           "random",
           400,
           6
          ],
          [
           "gini",
           "random",
           150,
           2
          ],
          [
           "gini",
           "random",
           150,
           6
          ],
          [
           "gini",
           "random",
           500,
           2
          ],
          [
           "gini",
           "random",
           200,
           6
          ],
          [
           "gini",
           "random",
           400,
           2
          ],
          [
           "gini",
           "random",
           15,
           2
          ],
          [
           "gini",
           "random",
           250,
           2
          ],
          [
           "gini",
           "random",
           350,
           6
          ],
          [
           "gini",
           "random",
           250,
           6
          ],
          [
           "gini",
           "random",
           10,
           6
          ],
          [
           "gini",
           "random",
           350,
           2
          ],
          [
           "gini",
           "random",
           300,
           2
          ],
          [
           "gini",
           "random",
           300,
           6
          ],
          [
           "gini",
           "random",
           200,
           2
          ],
          [
           "gini",
           "random",
           450,
           2
          ],
          [
           "gini",
           "random",
           15,
           6
          ],
          [
           "gini",
           "random",
           20,
           6
          ],
          [
           "gini",
           "random",
           50,
           2
          ],
          [
           "gini",
           "random",
           450,
           6
          ],
          [
           "gini",
           "random",
           100,
           6
          ],
          [
           "gini",
           "random",
           20,
           2
          ],
          [
           "gini",
           "random",
           100,
           2
          ],
          [
           "gini",
           "random",
           500,
           6
          ],
          [
           "gini",
           "random",
           50,
           6
          ],
          [
           "gini",
           "best",
           150,
           10
          ],
          [
           "gini",
           "best",
           200,
           5
          ],
          [
           "gini",
           "best",
           15,
           5
          ],
          [
           "gini",
           "best",
           500,
           5
          ],
          [
           "gini",
           "best",
           10,
           10
          ],
          [
           "gini",
           "best",
           200,
           10
          ],
          [
           "gini",
           "best",
           15,
           10
          ],
          [
           "gini",
           "best",
           50,
           10
          ],
          [
           "gini",
           "best",
           350,
           5
          ],
          [
           "gini",
           "random",
           10,
           5
          ],
          [
           "gini",
           "best",
           10,
           5
          ],
          [
           "gini",
           "best",
           250,
           10
          ],
          [
           "gini",
           "best",
           50,
           5
          ],
          [
           "gini",
           "best",
           450,
           10
          ],
          [
           "gini",
           "best",
           300,
           10
          ],
          [
           "gini",
           "best",
           300,
           5
          ],
          [
           "gini",
           "best",
           250,
           5
          ],
          [
           "gini",
           "best",
           400,
           5
          ],
          [
           "gini",
           "best",
           350,
           10
          ],
          [
           "gini",
           "best",
           20,
           10
          ],
          [
           "gini",
           "best",
           100,
           5
          ],
          [
           "gini",
           "best",
           100,
           10
          ],
          [
           "gini",
           "best",
           500,
           10
          ],
          [
           "gini",
           "best",
           400,
           10
          ],
          [
           "gini",
           "best",
           450,
           5
          ],
          [
           "gini",
           "best",
           150,
           5
          ],
          [
           "gini",
           "best",
           20,
           5
          ],
          [
           "gini",
           "random",
           10,
           7
          ],
          [
           "gini",
           "random",
           250,
           7
          ],
          [
           "gini",
           "random",
           150,
           7
          ],
          [
           "gini",
           "random",
           300,
           7
          ],
          [
           "gini",
           "random",
           450,
           7
          ],
          [
           "gini",
           "random",
           20,
           7
          ],
          [
           "gini",
           "random",
           500,
           7
          ],
          [
           "gini",
           "random",
           400,
           7
          ],
          [
           "gini",
           "random",
           350,
           7
          ],
          [
           "gini",
           "random",
           100,
           7
          ],
          [
           "gini",
           "random",
           10,
           2
          ],
          [
           "gini",
           "random",
           15,
           7
          ],
          [
           "gini",
           "random",
           200,
           7
          ],
          [
           "gini",
           "random",
           50,
           7
          ],
          [
           "log_loss",
           "best",
           450,
           3
          ],
          [
           "gini",
           "best",
           250,
           7
          ],
          [
           "log_loss",
           "best",
           500,
           3
          ],
          [
           "log_loss",
           "best",
           300,
           3
          ],
          [
           "gini",
           "best",
           250,
           8
          ],
          [
           "log_loss",
           "best",
           200,
           3
          ],
          [
           "entropy",
           "best",
           450,
           3
          ],
          [
           "log_loss",
           "best",
           50,
           3
          ],
          [
           "gini",
           "best",
           20,
           8
          ],
          [
           "gini",
           "best",
           100,
           8
          ],
          [
           "gini",
           "best",
           20,
           7
          ],
          [
           "gini",
           "best",
           100,
           7
          ],
          [
           "log_loss",
           "best",
           150,
           3
          ],
          [
           "gini",
           "best",
           10,
           7
          ],
          [
           "gini",
           "best",
           150,
           8
          ],
          [
           "log_loss",
           "best",
           15,
           3
          ],
          [
           "gini",
           "best",
           15,
           7
          ],
          [
           "log_loss",
           "best",
           350,
           3
          ],
          [
           "log_loss",
           "best",
           250,
           3
          ],
          [
           "gini",
           "best",
           150,
           7
          ],
          [
           "log_loss",
           "best",
           10,
           3
          ],
          [
           "gini",
           "best",
           50,
           8
          ],
          [
           "log_loss",
           "best",
           100,
           3
          ],
          [
           "gini",
           "best",
           200,
           8
          ],
          [
           "log_loss",
           "best",
           5,
           5
          ],
          [
           "gini",
           "best",
           50,
           7
          ],
          [
           "log_loss",
           "best",
           5,
           4
          ],
          [
           "log_loss",
           "best",
           400,
           3
          ],
          [
           "log_loss",
           "best",
           5,
           3
          ],
          [
           "log_loss",
           "best",
           5,
           2
          ],
          [
           "log_loss",
           "best",
           20,
           3
          ],
          [
           "gini",
           "best",
           15,
           8
          ],
          [
           "gini",
           "best",
           10,
           8
          ],
          [
           "entropy",
           "best",
           500,
           3
          ],
          [
           "entropy",
           "best",
           400,
           3
          ],
          [
           "gini",
           "best",
           200,
           7
          ],
          [
           "entropy",
           "best",
           15,
           3
          ],
          [
           "entropy",
           "best",
           250,
           3
          ],
          [
           "entropy",
           "best",
           5,
           4
          ],
          [
           "entropy",
           "best",
           350,
           3
          ],
          [
           "entropy",
           "best",
           5,
           3
          ],
          [
           "gini",
           "best",
           450,
           8
          ],
          [
           "entropy",
           "best",
           100,
           3
          ],
          [
           "entropy",
           "best",
           50,
           3
          ],
          [
           "gini",
           "best",
           450,
           7
          ],
          [
           "gini",
           "best",
           400,
           7
          ],
          [
           "entropy",
           "best",
           5,
           5
          ],
          [
           "gini",
           "best",
           350,
           7
          ],
          [
           "entropy",
           "best",
           5,
           2
          ],
          [
           "gini",
           "best",
           350,
           8
          ],
          [
           "entropy",
           "best",
           200,
           3
          ],
          [
           "gini",
           "best",
           400,
           8
          ],
          [
           "entropy",
           "best",
           300,
           3
          ],
          [
           "gini",
           "best",
           500,
           7
          ],
          [
           "gini",
           "best",
           500,
           8
          ],
          [
           "entropy",
           "best",
           150,
           3
          ],
          [
           "gini",
           "best",
           300,
           7
          ],
          [
           "gini",
           "best",
           300,
           8
          ],
          [
           "entropy",
           "best",
           10,
           3
          ],
          [
           "entropy",
           "best",
           20,
           3
          ],
          [
           "entropy",
           "best",
           250,
           2
          ],
          [
           "log_loss",
           "best",
           200,
           2
          ],
          [
           "entropy",
           "best",
           20,
           2
          ],
          [
           "log_loss",
           "best",
           250,
           2
          ],
          [
           "log_loss",
           "best",
           350,
           2
          ],
          [
           "entropy",
           "best",
           50,
           2
          ],
          [
           "log_loss",
           "best",
           10,
           2
          ],
          [
           "entropy",
           "best",
           300,
           2
          ],
          [
           "log_loss",
           "best",
           400,
           2
          ],
          [
           "entropy",
           "best",
           400,
           2
          ],
          [
           "log_loss",
           "best",
           15,
           2
          ],
          [
           "entropy",
           "best",
           200,
           2
          ],
          [
           "log_loss",
           "best",
           500,
           2
          ],
          [
           "log_loss",
           "best",
           100,
           2
          ],
          [
           "entropy",
           "best",
           150,
           2
          ],
          [
           "log_loss",
           "best",
           20,
           2
          ],
          [
           "entropy",
           "best",
           10,
           2
          ],
          [
           "entropy",
           "best",
           450,
           2
          ],
          [
           "entropy",
           "best",
           500,
           2
          ],
          [
           "log_loss",
           "best",
           450,
           2
          ],
          [
           "log_loss",
           "best",
           300,
           2
          ],
          [
           "entropy",
           "best",
           100,
           2
          ],
          [
           "log_loss",
           "best",
           50,
           2
          ],
          [
           "entropy",
           "best",
           350,
           2
          ],
          [
           "entropy",
           "best",
           15,
           2
          ],
          [
           "log_loss",
           "best",
           150,
           2
          ],
          [
           "log_loss",
           "best",
           15,
           8
          ],
          [
           "log_loss",
           "best",
           5,
           9
          ],
          [
           "log_loss",
           "best",
           20,
           8
          ],
          [
           "log_loss",
           "best",
           50,
           8
          ],
          [
           "log_loss",
           "best",
           150,
           8
          ],
          [
           "log_loss",
           "best",
           250,
           8
          ],
          [
           "log_loss",
           "best",
           10,
           8
          ],
          [
           "entropy",
           "best",
           200,
           8
          ],
          [
           "entropy",
           "best",
           20,
           8
          ],
          [
           "log_loss",
           "best",
           200,
           8
          ],
          [
           "log_loss",
           "best",
           100,
           8
          ],
          [
           "entropy",
           "best",
           50,
           8
          ],
          [
           "entropy",
           "best",
           100,
           8
          ],
          [
           "log_loss",
           "best",
           5,
           7
          ],
          [
           "entropy",
           "best",
           150,
           8
          ],
          [
           "log_loss",
           "best",
           400,
           8
          ],
          [
           "entropy",
           "best",
           5,
           8
          ],
          [
           "log_loss",
           "best",
           5,
           8
          ],
          [
           "entropy",
           "best",
           450,
           8
          ],
          [
           "entropy",
           "best",
           5,
           7
          ],
          [
           "entropy",
           "best",
           10,
           8
          ],
          [
           "entropy",
           "best",
           5,
           6
          ],
          [
           "entropy",
           "best",
           300,
           8
          ],
          [
           "log_loss",
           "best",
           350,
           8
          ],
          [
           "log_loss",
           "best",
           450,
           8
          ],
          [
           "entropy",
           "best",
           350,
           8
          ],
          [
           "entropy",
           "best",
           15,
           8
          ],
          [
           "entropy",
           "best",
           400,
           8
          ],
          [
           "entropy",
           "best",
           5,
           9
          ],
          [
           "entropy",
           "best",
           500,
           8
          ],
          [
           "entropy",
           "best",
           250,
           8
          ],
          [
           "log_loss",
           "best",
           5,
           6
          ],
          [
           "log_loss",
           "best",
           500,
           8
          ],
          [
           "log_loss",
           "best",
           300,
           8
          ],
          [
           "log_loss",
           "best",
           100,
           9
          ],
          [
           "entropy",
           "best",
           100,
           7
          ],
          [
           "entropy",
           "best",
           150,
           7
          ],
          [
           "gini",
           "best",
           100,
           6
          ],
          [
           "entropy",
           "best",
           5,
           10
          ],
          [
           "log_loss",
           "best",
           50,
           7
          ],
          [
           "log_loss",
           "best",
           450,
           7
          ],
          [
           "gini",
           "best",
           5,
           3
          ],
          [
           "log_loss",
           "best",
           500,
           9
          ],
          [
           "entropy",
           "best",
           10,
           7
          ],
          [
           "gini",
           "best",
           450,
           6
          ],
          [
           "log_loss",
           "best",
           500,
           7
          ],
          [
           "entropy",
           "best",
           10,
           9
          ],
          [
           "log_loss",
           "best",
           50,
           9
          ],
          [
           "log_loss",
           "best",
           450,
           9
          ],
          [
           "entropy",
           "best",
           100,
           9
          ],
          [
           "entropy",
           "best",
           20,
           7
          ],
          [
           "log_loss",
           "best",
           400,
           9
          ],
          [
           "log_loss",
           "best",
           250,
           9
          ],
          [
           "log_loss",
           "best",
           300,
           7
          ],
          [
           "log_loss",
           "best",
           250,
           7
          ],
          [
           "log_loss",
           "best",
           300,
           9
          ],
          [
           "entropy",
           "best",
           20,
           9
          ],
          [
           "gini",
           "best",
           500,
           6
          ],
          [
           "gini",
           "best",
           15,
           6
          ],
          [
           "gini",
           "best",
           20,
           6
          ],
          [
           "entropy",
           "best",
           15,
           9
          ],
          [
           "log_loss",
           "best",
           200,
           9
          ],
          [
           "log_loss",
           "best",
           200,
           7
          ],
          [
           "entropy",
           "best",
           15,
           7
          ],
          [
           "log_loss",
           "best",
           350,
           7
          ],
          [
           "entropy",
           "best",
           50,
           7
          ],
          [
           "log_loss",
           "best",
           350,
           9
          ],
          [
           "entropy",
           "best",
           50,
           9
          ],
          [
           "log_loss",
           "best",
           150,
           9
          ],
          [
           "log_loss",
           "best",
           150,
           7
          ],
          [
           "gini",
           "best",
           50,
           6
          ],
          [
           "gini",
           "best",
           10,
           6
          ],
          [
           "log_loss",
           "best",
           400,
           7
          ],
          [
           "log_loss",
           "best",
           100,
           7
          ],
          [
           "gini",
           "best",
           5,
           2
          ],
          [
           "log_loss",
           "best",
           5,
           10
          ],
          [
           "entropy",
           "best",
           200,
           7
          ],
          [
           "entropy",
           "best",
           250,
           7
          ],
          [
           "log_loss",
           "best",
           10,
           7
          ],
          [
           "entropy",
           "best",
           350,
           7
          ],
          [
           "log_loss",
           "best",
           15,
           9
          ],
          [
           "entropy",
           "best",
           400,
           7
          ],
          [
           "gini",
           "best",
           250,
           6
          ],
          [
           "gini",
           "best",
           150,
           6
          ],
          [
           "log_loss",
           "best",
           15,
           7
          ],
          [
           "log_loss",
           "best",
           10,
           9
          ],
          [
           "entropy",
           "best",
           400,
           9
          ],
          [
           "entropy",
           "best",
           200,
           9
          ],
          [
           "entropy",
           "best",
           350,
           9
          ],
          [
           "gini",
           "best",
           400,
           6
          ],
          [
           "gini",
           "best",
           200,
           6
          ],
          [
           "entropy",
           "best",
           450,
           9
          ],
          [
           "entropy",
           "best",
           450,
           7
          ],
          [
           "gini",
           "best",
           300,
           6
          ],
          [
           "entropy",
           "best",
           150,
           9
          ],
          [
           "gini",
           "best",
           350,
           6
          ],
          [
           "entropy",
           "best",
           300,
           9
          ],
          [
           "log_loss",
           "best",
           20,
           9
          ],
          [
           "entropy",
           "best",
           300,
           7
          ],
          [
           "entropy",
           "best",
           500,
           7
          ],
          [
           "log_loss",
           "best",
           20,
           7
          ],
          [
           "entropy",
           "best",
           500,
           9
          ],
          [
           "entropy",
           "best",
           250,
           9
          ],
          [
           "log_loss",
           "best",
           250,
           5
          ],
          [
           "entropy",
           "best",
           50,
           5
          ],
          [
           "entropy",
           "best",
           300,
           5
          ],
          [
           "log_loss",
           "best",
           400,
           5
          ],
          [
           "entropy",
           "best",
           15,
           5
          ],
          [
           "entropy",
           "best",
           450,
           5
          ],
          [
           "entropy",
           "best",
           350,
           5
          ],
          [
           "entropy",
           "best",
           250,
           5
          ],
          [
           "log_loss",
           "best",
           200,
           5
          ],
          [
           "log_loss",
           "best",
           350,
           5
          ],
          [
           "log_loss",
           "best",
           300,
           5
          ],
          [
           "entropy",
           "best",
           500,
           5
          ],
          [
           "entropy",
           "best",
           20,
           5
          ],
          [
           "log_loss",
           "best",
           10,
           5
          ],
          [
           "log_loss",
           "best",
           15,
           5
          ],
          [
           "log_loss",
           "best",
           450,
           5
          ],
          [
           "log_loss",
           "best",
           500,
           5
          ],
          [
           "gini",
           "best",
           5,
           10
          ],
          [
           "entropy",
           "best",
           200,
           5
          ],
          [
           "entropy",
           "best",
           400,
           5
          ],
          [
           "gini",
           "best",
           5,
           5
          ],
          [
           "entropy",
           "best",
           100,
           5
          ],
          [
           "entropy",
           "best",
           10,
           5
          ],
          [
           "gini",
           "best",
           5,
           9
          ],
          [
           "gini",
           "best",
           5,
           4
          ],
          [
           "log_loss",
           "best",
           50,
           5
          ],
          [
           "entropy",
           "best",
           150,
           5
          ],
          [
           "log_loss",
           "best",
           20,
           5
          ],
          [
           "log_loss",
           "best",
           100,
           5
          ],
          [
           "log_loss",
           "best",
           150,
           5
          ],
          [
           "log_loss",
           "best",
           250,
           10
          ],
          [
           "entropy",
           "best",
           10,
           4
          ],
          [
           "entropy",
           "best",
           450,
           10
          ],
          [
           "log_loss",
           "best",
           50,
           10
          ],
          [
           "log_loss",
           "best",
           300,
           4
          ],
          [
           "entropy",
           "best",
           100,
           10
          ],
          [
           "entropy",
           "best",
           20,
           4
          ],
          [
           "log_loss",
           "best",
           20,
           10
          ],
          [
           "entropy",
           "best",
           250,
           10
          ],
          [
           "log_loss",
           "best",
           15,
           4
          ],
          [
           "log_loss",
           "best",
           400,
           4
          ],
          [
           "log_loss",
           "best",
           500,
           10
          ],
          [
           "entropy",
           "best",
           500,
           10
          ],
          [
           "entropy",
           "best",
           15,
           4
          ],
          [
           "log_loss",
           "best",
           300,
           10
          ],
          [
           "entropy",
           "best",
           150,
           4
          ],
          [
           "entropy",
           "best",
           150,
           10
          ],
          [
           "entropy",
           "best",
           350,
           10
          ],
          [
           "log_loss",
           "best",
           350,
           4
          ],
          [
           "entropy",
           "best",
           300,
           10
          ],
          [
           "log_loss",
           "best",
           350,
           10
          ],
          [
           "log_loss",
           "best",
           50,
           4
          ],
          [
           "entropy",
           "best",
           400,
           4
          ],
          [
           "entropy",
           "best",
           300,
           4
          ],
          [
           "entropy",
           "best",
           15,
           10
          ],
          [
           "entropy",
           "best",
           350,
           4
          ],
          [
           "entropy",
           "best",
           10,
           10
          ],
          [
           "entropy",
           "best",
           50,
           10
          ],
          [
           "log_loss",
           "best",
           450,
           10
          ],
          [
           "log_loss",
           "best",
           150,
           4
          ],
          [
           "log_loss",
           "best",
           150,
           10
          ],
          [
           "entropy",
           "best",
           200,
           10
          ],
          [
           "log_loss",
           "best",
           10,
           10
          ],
          [
           "entropy",
           "best",
           400,
           10
          ],
          [
           "log_loss",
           "best",
           200,
           4
          ],
          [
           "entropy",
           "best",
           100,
           4
          ],
          [
           "log_loss",
           "best",
           100,
           10
          ],
          [
           "log_loss",
           "best",
           450,
           4
          ],
          [
           "log_loss",
           "best",
           100,
           4
          ],
          [
           "gini",
           "best",
           5,
           8
          ],
          [
           "log_loss",
           "best",
           15,
           10
          ],
          [
           "entropy",
           "best",
           500,
           4
          ],
          [
           "entropy",
           "best",
           50,
           4
          ],
          [
           "log_loss",
           "best",
           200,
           10
          ],
          [
           "entropy",
           "best",
           450,
           4
          ],
          [
           "log_loss",
           "best",
           20,
           4
          ],
          [
           "log_loss",
           "best",
           500,
           4
          ],
          [
           "gini",
           "best",
           5,
           7
          ],
          [
           "log_loss",
           "best",
           400,
           10
          ],
          [
           "entropy",
           "best",
           20,
           10
          ],
          [
           "entropy",
           "best",
           250,
           4
          ],
          [
           "log_loss",
           "best",
           250,
           4
          ],
          [
           "log_loss",
           "best",
           10,
           4
          ],
          [
           "entropy",
           "best",
           200,
           4
          ],
          [
           "gini",
           "best",
           15,
           2
          ],
          [
           "gini",
           "best",
           5,
           6
          ],
          [
           "gini",
           "best",
           350,
           2
          ],
          [
           "gini",
           "best",
           350,
           4
          ],
          [
           "gini",
           "best",
           300,
           2
          ],
          [
           "gini",
           "best",
           10,
           4
          ],
          [
           "gini",
           "best",
           10,
           2
          ],
          [
           "gini",
           "best",
           300,
           4
          ],
          [
           "gini",
           "best",
           450,
           2
          ],
          [
           "gini",
           "best",
           400,
           2
          ],
          [
           "gini",
           "best",
           450,
           4
          ],
          [
           "gini",
           "best",
           150,
           4
          ],
          [
           "gini",
           "best",
           50,
           4
          ],
          [
           "gini",
           "best",
           50,
           2
          ],
          [
           "gini",
           "best",
           500,
           2
          ],
          [
           "gini",
           "best",
           400,
           4
          ],
          [
           "gini",
           "best",
           150,
           2
          ],
          [
           "gini",
           "best",
           200,
           2
          ],
          [
           "gini",
           "best",
           100,
           4
          ],
          [
           "gini",
           "best",
           200,
           4
          ],
          [
           "gini",
           "best",
           20,
           4
          ],
          [
           "gini",
           "best",
           500,
           4
          ],
          [
           "gini",
           "best",
           100,
           2
          ],
          [
           "gini",
           "best",
           15,
           4
          ],
          [
           "gini",
           "best",
           20,
           2
          ],
          [
           "gini",
           "best",
           250,
           4
          ],
          [
           "gini",
           "best",
           250,
           2
          ],
          [
           "log_loss",
           "best",
           350,
           6
          ],
          [
           "entropy",
           "best",
           400,
           6
          ],
          [
           "entropy",
           "best",
           10,
           6
          ],
          [
           "entropy",
           "best",
           100,
           6
          ],
          [
           "entropy",
           "best",
           200,
           6
          ],
          [
           "log_loss",
           "best",
           15,
           6
          ],
          [
           "log_loss",
           "best",
           150,
           6
          ],
          [
           "entropy",
           "best",
           500,
           6
          ],
          [
           "log_loss",
           "best",
           500,
           6
          ],
          [
           "entropy",
           "best",
           300,
           6
          ],
          [
           "entropy",
           "best",
           150,
           6
          ],
          [
           "log_loss",
           "best",
           450,
           6
          ],
          [
           "entropy",
           "best",
           15,
           6
          ],
          [
           "entropy",
           "best",
           50,
           6
          ],
          [
           "log_loss",
           "best",
           200,
           6
          ],
          [
           "log_loss",
           "best",
           300,
           6
          ],
          [
           "entropy",
           "best",
           350,
           6
          ],
          [
           "log_loss",
           "best",
           100,
           6
          ],
          [
           "log_loss",
           "best",
           10,
           6
          ],
          [
           "entropy",
           "best",
           20,
           6
          ],
          [
           "log_loss",
           "best",
           20,
           6
          ],
          [
           "log_loss",
           "best",
           250,
           6
          ],
          [
           "entropy",
           "best",
           250,
           6
          ],
          [
           "entropy",
           "best",
           450,
           6
          ],
          [
           "log_loss",
           "best",
           400,
           6
          ],
          [
           "log_loss",
           "best",
           50,
           6
          ],
          [
           "gini",
           "best",
           100,
           3
          ],
          [
           "gini",
           "best",
           450,
           3
          ],
          [
           "gini",
           "best",
           15,
           3
          ],
          [
           "gini",
           "best",
           50,
           3
          ],
          [
           "gini",
           "best",
           300,
           3
          ],
          [
           "gini",
           "best",
           500,
           3
          ],
          [
           "gini",
           "best",
           400,
           3
          ],
          [
           "gini",
           "best",
           200,
           3
          ],
          [
           "gini",
           "best",
           20,
           3
          ],
          [
           "gini",
           "best",
           350,
           3
          ],
          [
           "gini",
           "best",
           250,
           3
          ],
          [
           "gini",
           "best",
           150,
           3
          ],
          [
           "gini",
           "best",
           10,
           3
          ]
         ],
         "hovertemplate": "variable=mean_train_score<br>_index=%{x}<br>value=%{y}<br>param_criterion=%{customdata[0]}<br>param_splitter=%{customdata[1]}<br>param_max_depth=%{customdata[2]}<br>param_min_samples_split=%{customdata[3]}<extra></extra>",
         "legendgroup": "mean_train_score",
         "line": {
          "color": "#EF553B",
          "dash": "solid"
         },
         "marker": {
          "symbol": "circle"
         },
         "mode": "lines",
         "name": "mean_train_score",
         "showlegend": true,
         "type": "scattergl",
         "x": [
          0,
          1,
          2,
          3,
          4,
          5,
          6,
          7,
          8,
          9,
          10,
          11,
          12,
          13,
          14,
          15,
          16,
          17,
          18,
          19,
          20,
          21,
          22,
          23,
          24,
          25,
          26,
          27,
          28,
          29,
          30,
          31,
          32,
          33,
          34,
          35,
          36,
          37,
          38,
          39,
          40,
          41,
          42,
          43,
          44,
          45,
          46,
          47,
          48,
          49,
          50,
          51,
          52,
          53,
          54,
          55,
          56,
          57,
          58,
          59,
          60,
          61,
          62,
          63,
          64,
          65,
          66,
          67,
          68,
          69,
          70,
          71,
          72,
          73,
          74,
          75,
          76,
          77,
          78,
          79,
          80,
          81,
          82,
          83,
          84,
          85,
          86,
          87,
          88,
          89,
          90,
          91,
          92,
          93,
          94,
          95,
          96,
          97,
          98,
          99,
          100,
          101,
          102,
          103,
          104,
          105,
          106,
          107,
          108,
          109,
          110,
          111,
          112,
          113,
          114,
          115,
          116,
          117,
          118,
          119,
          120,
          121,
          122,
          123,
          124,
          125,
          126,
          127,
          128,
          129,
          130,
          131,
          132,
          133,
          134,
          135,
          136,
          137,
          138,
          139,
          140,
          141,
          142,
          143,
          144,
          145,
          146,
          147,
          148,
          149,
          150,
          151,
          152,
          153,
          154,
          155,
          156,
          157,
          158,
          159,
          160,
          161,
          162,
          163,
          164,
          165,
          166,
          167,
          168,
          169,
          170,
          171,
          172,
          173,
          174,
          175,
          176,
          177,
          178,
          179,
          180,
          181,
          182,
          183,
          184,
          185,
          186,
          187,
          188,
          189,
          190,
          191,
          192,
          193,
          194,
          195,
          196,
          197,
          198,
          199,
          200,
          201,
          202,
          203,
          204,
          205,
          206,
          207,
          208,
          209,
          210,
          211,
          212,
          213,
          214,
          215,
          216,
          217,
          218,
          219,
          220,
          221,
          222,
          223,
          224,
          225,
          226,
          227,
          228,
          229,
          230,
          231,
          232,
          233,
          234,
          235,
          236,
          237,
          238,
          239,
          240,
          241,
          242,
          243,
          244,
          245,
          246,
          247,
          248,
          249,
          250,
          251,
          252,
          253,
          254,
          255,
          256,
          257,
          258,
          259,
          260,
          261,
          262,
          263,
          264,
          265,
          266,
          267,
          268,
          269,
          270,
          271,
          272,
          273,
          274,
          275,
          276,
          277,
          278,
          279,
          280,
          281,
          282,
          283,
          284,
          285,
          286,
          287,
          288,
          289,
          290,
          291,
          292,
          293,
          294,
          295,
          296,
          297,
          298,
          299,
          300,
          301,
          302,
          303,
          304,
          305,
          306,
          307,
          308,
          309,
          310,
          311,
          312,
          313,
          314,
          315,
          316,
          317,
          318,
          319,
          320,
          321,
          322,
          323,
          324,
          325,
          326,
          327,
          328,
          329,
          330,
          331,
          332,
          333,
          334,
          335,
          336,
          337,
          338,
          339,
          340,
          341,
          342,
          343,
          344,
          345,
          346,
          347,
          348,
          349,
          350,
          351,
          352,
          353,
          354,
          355,
          356,
          357,
          358,
          359,
          360,
          361,
          362,
          363,
          364,
          365,
          366,
          367,
          368,
          369,
          370,
          371,
          372,
          373,
          374,
          375,
          376,
          377,
          378,
          379,
          380,
          381,
          382,
          383,
          384,
          385,
          386,
          387,
          388,
          389,
          390,
          391,
          392,
          393,
          394,
          395,
          396,
          397,
          398,
          399,
          400,
          401,
          402,
          403,
          404,
          405,
          406,
          407,
          408,
          409,
          410,
          411,
          412,
          413,
          414,
          415,
          416,
          417,
          418,
          419,
          420,
          421,
          422,
          423,
          424,
          425,
          426,
          427,
          428,
          429,
          430,
          431,
          432,
          433,
          434,
          435,
          436,
          437,
          438,
          439,
          440,
          441,
          442,
          443,
          444,
          445,
          446,
          447,
          448,
          449,
          450,
          451,
          452,
          453,
          454,
          455,
          456,
          457,
          458,
          459,
          460,
          461,
          462,
          463,
          464,
          465,
          466,
          467,
          468,
          469,
          470,
          471,
          472,
          473,
          474,
          475,
          476,
          477,
          478,
          479,
          480,
          481,
          482,
          483,
          484,
          485,
          486,
          487,
          488,
          489,
          490,
          491,
          492,
          493,
          494,
          495,
          496,
          497,
          498,
          499,
          500,
          501,
          502,
          503,
          504,
          505,
          506,
          507,
          508,
          509,
          510,
          511,
          512,
          513,
          514,
          515,
          516,
          517,
          518,
          519,
          520,
          521,
          522,
          523,
          524,
          525,
          526,
          527,
          528,
          529,
          530,
          531,
          532,
          533,
          534,
          535,
          536,
          537,
          538,
          539,
          540,
          541,
          542,
          543,
          544,
          545,
          546,
          547,
          548,
          549,
          550,
          551,
          552,
          553,
          554,
          555,
          556,
          557,
          558,
          559,
          560,
          561,
          562,
          563,
          564,
          565,
          566,
          567,
          568,
          569,
          570,
          571,
          572,
          573,
          574,
          575,
          576,
          577,
          578,
          579,
          580,
          581,
          582,
          583,
          584,
          585,
          586,
          587,
          588,
          589,
          590,
          591,
          592,
          593,
          594,
          595,
          596,
          597,
          598,
          599,
          600,
          601,
          602,
          603,
          604,
          605,
          606,
          607,
          608,
          609,
          610,
          611,
          612,
          613,
          614,
          615,
          616,
          617,
          618,
          619,
          620,
          621,
          622,
          623,
          624,
          625,
          626,
          627,
          628,
          629,
          630,
          631,
          632,
          633,
          634,
          635,
          636,
          637,
          638,
          639,
          640,
          641,
          642,
          643,
          644,
          645,
          646,
          647,
          648,
          649,
          650,
          651,
          652,
          653,
          654,
          655,
          656,
          657,
          658,
          659,
          660,
          661,
          662,
          663,
          664,
          665,
          666,
          667,
          668,
          669,
          670,
          671,
          672,
          673,
          674,
          675,
          676,
          677,
          678,
          679,
          680,
          681,
          682,
          683,
          684,
          685,
          686,
          687,
          688,
          689,
          690,
          691,
          692,
          693,
          694,
          695,
          696,
          697,
          698,
          699,
          700,
          701,
          702,
          703,
          704,
          705,
          706,
          707,
          708,
          709,
          710,
          711,
          712,
          713,
          714,
          715,
          716,
          717,
          718,
          719,
          720,
          721,
          722,
          723,
          724,
          725,
          726,
          727,
          728,
          729,
          730,
          731,
          732,
          733,
          734,
          735,
          736,
          737,
          738,
          739,
          740,
          741,
          742,
          743,
          744,
          745,
          746,
          747,
          748,
          749,
          750,
          751,
          752,
          753,
          754,
          755
         ],
         "xaxis": "x",
         "y": [
          0.8894389438943895,
          0.905940594059406,
          0.905940594059406,
          0.905940594059406,
          0.905940594059406,
          0.905940594059406,
          0.8894389438943895,
          0.905940594059406,
          0.905940594059406,
          0.905940594059406,
          0.905940594059406,
          0.905940594059406,
          0.905940594059406,
          0.905940594059406,
          0.905940594059406,
          0.8877887788778879,
          0.8877887788778879,
          0.8993399339933994,
          0.8993399339933994,
          0.8877887788778879,
          0.8877887788778879,
          0.8976897689768978,
          0.8976897689768978,
          0.8894389438943895,
          0.905940594059406,
          0.8993399339933994,
          0.905940594059406,
          0.9174917491749176,
          0.8993399339933994,
          0.9653465346534653,
          0.9554455445544554,
          0.9653465346534653,
          0.9653465346534653,
          0.8927392739273928,
          0.8927392739273928,
          0.9653465346534653,
          0.9554455445544554,
          0.9653465346534653,
          0.9653465346534653,
          0.9636963696369637,
          0.9554455445544554,
          0.9554455445544554,
          0.9653465346534653,
          0.9554455445544554,
          0.9653465346534653,
          0.9653465346534653,
          0.9554455445544554,
          0.9653465346534653,
          0.9653465346534653,
          0.9653465346534653,
          0.9554455445544554,
          0.9653465346534653,
          0.9653465346534653,
          0.9554455445544554,
          0.9653465346534653,
          0.9653465346534653,
          0.9554455445544554,
          0.9653465346534653,
          0.9554455445544554,
          0.9653465346534653,
          0.9653465346534653,
          0.9636963696369637,
          0.9042904290429044,
          0.9653465346534653,
          0.9125412541254126,
          0.9042904290429044,
          0.9653465346534653,
          0.9554455445544554,
          0.9653465346534653,
          0.9653465346534653,
          0.9554455445544554,
          0.9653465346534653,
          0.9554455445544554,
          0.8943894389438944,
          0.8943894389438944,
          0.8943894389438944,
          0.8943894389438944,
          0.8943894389438944,
          0.8943894389438944,
          0.8943894389438944,
          0.8943894389438944,
          0.8943894389438944,
          0.8943894389438944,
          0.8943894389438944,
          0.8943894389438944,
          0.8943894389438944,
          0.9257425742574258,
          0.9108910891089109,
          0.9108910891089109,
          0.9108910891089109,
          0.9108910891089109,
          0.9108910891089109,
          0.9026402640264027,
          0.9042904290429044,
          0.9026402640264027,
          0.9257425742574258,
          0.9026402640264027,
          0.9108910891089109,
          0.9257425742574258,
          0.9026402640264027,
          0.9108910891089109,
          0.9108910891089109,
          0.9257425742574258,
          0.9108910891089109,
          0.9257425742574258,
          0.9257425742574258,
          0.9108910891089109,
          0.9257425742574258,
          0.9108910891089109,
          0.9108910891089109,
          0.9257425742574258,
          0.9257425742574258,
          0.9108910891089109,
          0.9108910891089109,
          0.9257425742574258,
          0.9257425742574258,
          0.9108910891089109,
          0.9257425742574258,
          0.9257425742574258,
          0.9257425742574258,
          0.9108910891089109,
          0.9257425742574258,
          0.9257425742574258,
          0.9257425742574258,
          0.9108910891089109,
          0.9108910891089109,
          0.9108910891089109,
          0.9108910891089109,
          0.9257425742574258,
          0.9257425742574258,
          0.9108910891089109,
          0.9257425742574258,
          0.9108910891089109,
          0.9257425742574258,
          0.9108910891089109,
          0.9108910891089109,
          0.9257425742574258,
          0.9257425742574258,
          0.9042904290429044,
          0.9108910891089109,
          0.9108910891089109,
          0.9257425742574258,
          0.9207920792079208,
          0.9207920792079208,
          0.9537953795379538,
          0.9158415841584159,
          0.9207920792079208,
          0.9207920792079208,
          0.9207920792079208,
          0.9537953795379538,
          0.9537953795379538,
          0.9207920792079208,
          0.9207920792079208,
          0.9158415841584159,
          0.9537953795379538,
          0.9207920792079208,
          0.9207920792079208,
          0.9537953795379538,
          0.9158415841584159,
          0.9537953795379538,
          0.9207920792079208,
          0.9207920792079208,
          0.9158415841584159,
          0.9537953795379538,
          0.9537953795379538,
          0.9207920792079208,
          0.9158415841584159,
          0.9207920792079208,
          0.9537953795379538,
          0.9207920792079208,
          0.9537953795379538,
          0.9207920792079208,
          0.9537953795379538,
          0.9158415841584159,
          0.9158415841584159,
          0.9537953795379538,
          0.9158415841584159,
          0.9207920792079208,
          0.9207920792079208,
          0.9207920792079208,
          0.9537953795379538,
          0.9537953795379538,
          0.9207920792079208,
          0.9207920792079208,
          0.9537953795379538,
          0.9537953795379538,
          0.9207920792079208,
          0.9537953795379538,
          0.9158415841584159,
          0.9537953795379538,
          0.9537953795379538,
          0.9158415841584159,
          0.9537953795379538,
          0.9537953795379538,
          0.9537953795379538,
          0.9158415841584159,
          0.9537953795379538,
          0.9207920792079208,
          0.9207920792079208,
          0.9537953795379538,
          0.9537953795379538,
          0.9537953795379538,
          0.9158415841584159,
          0.9207920792079208,
          0.9207920792079208,
          0.9207920792079208,
          0.9158415841584159,
          0.9752475247524752,
          0.9752475247524752,
          0.9752475247524752,
          0.9752475247524752,
          0.9752475247524752,
          0.9752475247524752,
          0.9752475247524752,
          0.9752475247524752,
          0.9752475247524752,
          0.9752475247524752,
          0.9752475247524752,
          0.9752475247524752,
          0.9752475247524752,
          0.9917491749174917,
          0.9917491749174917,
          1,
          1,
          0.8927392739273928,
          1,
          0.8927392739273928,
          0.9240924092409241,
          1,
          0.8927392739273928,
          0.8927392739273928,
          1,
          1,
          1,
          0.9818481848184818,
          0.9240924092409241,
          0.8927392739273928,
          1,
          0.8927392739273928,
          1,
          0.8927392739273928,
          1,
          1,
          0.8927392739273928,
          1,
          0.8927392739273928,
          0.8927392739273928,
          1,
          0.8927392739273928,
          1,
          0.8927392739273928,
          0.8927392739273928,
          0.8927392739273928,
          1,
          1,
          0.8927392739273928,
          1,
          1,
          0.8927392739273928,
          1,
          1,
          0.8927392739273928,
          0.8927392739273928,
          1,
          0.8927392739273928,
          1,
          0.8927392739273928,
          1,
          0.8927392739273928,
          1,
          0.8927392739273928,
          0.8927392739273928,
          0.8927392739273928,
          0.8927392739273928,
          0.8927392739273928,
          0.9818481848184818,
          0.9356435643564356,
          0.9356435643564356,
          0.9356435643564356,
          0.9356435643564356,
          0.9356435643564356,
          0.9356435643564356,
          0.9356435643564356,
          0.9356435643564356,
          0.9356435643564356,
          0.9356435643564356,
          0.9356435643564356,
          0.9356435643564356,
          0.9356435643564356,
          0.9356435643564356,
          0.9356435643564356,
          0.9356435643564356,
          0.9356435643564356,
          0.9356435643564356,
          0.9356435643564356,
          0.9356435643564356,
          0.9356435643564356,
          0.9356435643564356,
          0.9356435643564356,
          0.9356435643564356,
          0.9356435643564356,
          0.9356435643564356,
          0.9851485148514851,
          0.9422442244224422,
          0.9438943894389439,
          0.9851485148514851,
          0.9851485148514851,
          0.9438943894389439,
          0.9438943894389439,
          0.9851485148514851,
          0.9851485148514851,
          0.9438943894389439,
          0.9422442244224422,
          0.9851485148514851,
          0.9422442244224422,
          0.9422442244224422,
          0.9422442244224422,
          0.9422442244224422,
          0.9422442244224422,
          0.9438943894389439,
          0.9438943894389439,
          0.9851485148514851,
          0.9851485148514851,
          0.9422442244224422,
          0.9438943894389439,
          0.9851485148514851,
          0.9438943894389439,
          0.9422442244224422,
          0.9438943894389439,
          0.9851485148514851,
          0.9851485148514851,
          0.9851485148514851,
          0.9851485148514851,
          0.9851485148514851,
          0.9851485148514851,
          0.9851485148514851,
          0.9438943894389439,
          0.9851485148514851,
          0.9851485148514851,
          0.9422442244224422,
          0.9438943894389439,
          0.9851485148514851,
          0.9851485148514851,
          0.9438943894389439,
          0.9851485148514851,
          0.9422442244224422,
          0.9851485148514851,
          0.9851485148514851,
          0.9851485148514851,
          0.9422442244224422,
          0.9422442244224422,
          0.9240924092409242,
          1,
          0.9240924092409242,
          1,
          0.9240924092409242,
          1,
          1,
          1,
          0.9240924092409242,
          0.9240924092409242,
          0.9240924092409242,
          1,
          1,
          0.9240924092409242,
          1,
          1,
          0.9240924092409242,
          0.9240924092409242,
          1,
          0.9240924092409242,
          0.9240924092409242,
          1,
          1,
          0.9240924092409242,
          0.9240924092409242,
          0.9356435643564356,
          0.9636963696369637,
          0.9636963696369637,
          0.9636963696369637,
          0.9356435643564356,
          0.9356435643564356,
          0.9356435643564356,
          0.9356435643564356,
          0.9636963696369637,
          0.9455445544554455,
          0.9636963696369637,
          0.9356435643564356,
          0.9636963696369637,
          0.9356435643564356,
          0.9356435643564356,
          0.9636963696369637,
          0.9636963696369637,
          0.9636963696369637,
          0.9356435643564356,
          0.9356435643564356,
          0.9636963696369637,
          0.9356435643564356,
          0.9356435643564356,
          0.9356435643564356,
          0.9636963696369637,
          0.9636963696369637,
          0.9636963696369637,
          0.9141914191419143,
          0.9141914191419143,
          0.9141914191419143,
          0.9141914191419143,
          0.9141914191419143,
          0.9141914191419143,
          0.9141914191419143,
          0.9141914191419143,
          0.9141914191419143,
          0.9141914191419143,
          0.9983498349834984,
          0.9141914191419143,
          0.9141914191419143,
          0.9141914191419143,
          0.995049504950495,
          0.9504950495049505,
          0.995049504950495,
          0.995049504950495,
          0.9455445544554455,
          0.995049504950495,
          0.995049504950495,
          0.995049504950495,
          0.9455445544554455,
          0.9455445544554455,
          0.9504950495049505,
          0.9504950495049505,
          0.995049504950495,
          0.9504950495049505,
          0.9455445544554455,
          0.995049504950495,
          0.9504950495049505,
          0.995049504950495,
          0.995049504950495,
          0.9504950495049505,
          0.995049504950495,
          0.9455445544554455,
          0.995049504950495,
          0.9455445544554455,
          0.9092409240924093,
          0.9504950495049505,
          0.9125412541254126,
          0.995049504950495,
          0.9141914191419142,
          0.9141914191419142,
          0.995049504950495,
          0.9455445544554455,
          0.9455445544554455,
          0.995049504950495,
          0.995049504950495,
          0.9504950495049505,
          0.995049504950495,
          0.995049504950495,
          0.9125412541254126,
          0.995049504950495,
          0.9141914191419142,
          0.9455445544554455,
          0.995049504950495,
          0.995049504950495,
          0.9504950495049505,
          0.9504950495049505,
          0.9092409240924093,
          0.9504950495049505,
          0.9141914191419142,
          0.9455445544554455,
          0.995049504950495,
          0.9455445544554455,
          0.995049504950495,
          0.9504950495049505,
          0.9455445544554455,
          0.995049504950495,
          0.9504950495049505,
          0.9455445544554455,
          0.995049504950495,
          0.995049504950495,
          1,
          1,
          1,
          1,
          1,
          1,
          1,
          1,
          1,
          1,
          1,
          1,
          1,
          1,
          1,
          1,
          1,
          1,
          1,
          1,
          1,
          1,
          1,
          1,
          1,
          1,
          0.9554455445544554,
          0.8993399339933994,
          0.9554455445544554,
          0.9554455445544554,
          0.9554455445544554,
          0.9554455445544554,
          0.9554455445544554,
          0.9554455445544554,
          0.9554455445544554,
          0.9554455445544554,
          0.9554455445544554,
          0.9554455445544554,
          0.9554455445544554,
          0.9075907590759075,
          0.9554455445544554,
          0.9554455445544554,
          0.900990099009901,
          0.900990099009901,
          0.9554455445544554,
          0.9075907590759075,
          0.9554455445544554,
          0.9075907590759075,
          0.9554455445544554,
          0.9554455445544554,
          0.9554455445544554,
          0.9554455445544554,
          0.9554455445544554,
          0.9554455445544554,
          0.8993399339933994,
          0.9554455445544554,
          0.9554455445544554,
          0.9075907590759075,
          0.9554455445544554,
          0.9554455445544554,
          0.9389438943894389,
          0.962046204620462,
          0.962046204620462,
          0.957095709570957,
          0.8943894389438944,
          0.962046204620462,
          0.962046204620462,
          0.9389438943894389,
          0.9389438943894389,
          0.962046204620462,
          0.957095709570957,
          0.962046204620462,
          0.9389438943894389,
          0.9389438943894389,
          0.9389438943894389,
          0.9389438943894389,
          0.962046204620462,
          0.9389438943894389,
          0.9389438943894389,
          0.962046204620462,
          0.962046204620462,
          0.9389438943894389,
          0.9389438943894389,
          0.957095709570957,
          0.957095709570957,
          0.957095709570957,
          0.9389438943894389,
          0.9389438943894389,
          0.962046204620462,
          0.962046204620462,
          0.962046204620462,
          0.962046204620462,
          0.9389438943894389,
          0.9389438943894389,
          0.9389438943894389,
          0.962046204620462,
          0.957095709570957,
          0.957095709570957,
          0.962046204620462,
          0.962046204620462,
          0.9405940594059405,
          0.8943894389438944,
          0.962046204620462,
          0.962046204620462,
          0.962046204620462,
          0.962046204620462,
          0.9389438943894389,
          0.962046204620462,
          0.957095709570957,
          0.957095709570957,
          0.962046204620462,
          0.9389438943894389,
          0.9389438943894389,
          0.9389438943894389,
          0.9389438943894389,
          0.957095709570957,
          0.957095709570957,
          0.9389438943894389,
          0.962046204620462,
          0.957095709570957,
          0.9389438943894389,
          0.957095709570957,
          0.9389438943894389,
          0.9389438943894389,
          0.962046204620462,
          0.962046204620462,
          0.962046204620462,
          0.9389438943894389,
          0.9389438943894389,
          0.9735973597359736,
          0.9735973597359736,
          0.9735973597359736,
          0.9735973597359736,
          0.9735973597359736,
          0.9735973597359736,
          0.9735973597359736,
          0.9735973597359736,
          0.9735973597359736,
          0.9735973597359736,
          0.9735973597359736,
          0.9735973597359736,
          0.9735973597359736,
          0.9735973597359736,
          0.9735973597359736,
          0.9735973597359736,
          0.9735973597359736,
          0.9224422442244223,
          0.9735973597359736,
          0.9735973597359736,
          0.933993399339934,
          0.9735973597359736,
          0.9735973597359736,
          0.9240924092409241,
          0.9356435643564356,
          0.9735973597359736,
          0.9735973597359736,
          0.9735973597359736,
          0.9735973597359736,
          0.9735973597359736,
          0.9290429042904291,
          0.9801980198019802,
          0.9290429042904291,
          0.9290429042904291,
          0.9801980198019802,
          0.9290429042904291,
          0.9801980198019802,
          0.9290429042904291,
          0.9290429042904291,
          0.9801980198019802,
          0.9801980198019802,
          0.9290429042904291,
          0.9290429042904291,
          0.9801980198019802,
          0.9290429042904291,
          0.9801980198019802,
          0.9290429042904291,
          0.9290429042904291,
          0.9801980198019802,
          0.9290429042904291,
          0.9290429042904291,
          0.9801980198019802,
          0.9801980198019802,
          0.9801980198019802,
          0.9290429042904291,
          0.9801980198019802,
          0.9290429042904291,
          0.9290429042904291,
          0.9290429042904291,
          0.9801980198019802,
          0.9290429042904291,
          0.9290429042904291,
          0.9290429042904291,
          0.9290429042904291,
          0.9801980198019802,
          0.9801980198019802,
          0.9290429042904291,
          0.9801980198019802,
          0.9801980198019802,
          0.9240924092409241,
          0.9290429042904291,
          0.9801980198019802,
          0.9801980198019802,
          0.9290429042904291,
          0.9801980198019802,
          0.9801980198019802,
          0.9801980198019802,
          0.9257425742574257,
          0.9290429042904291,
          0.9290429042904291,
          0.9801980198019802,
          0.9801980198019802,
          0.9801980198019802,
          0.9801980198019802,
          1,
          0.929042904290429,
          1,
          0.9735973597359736,
          1,
          0.9735973597359736,
          1,
          0.9735973597359736,
          1,
          1,
          0.9735973597359736,
          0.9735973597359736,
          0.9735973597359736,
          1,
          1,
          0.9735973597359736,
          1,
          1,
          0.9735973597359736,
          0.9735973597359736,
          0.9735973597359736,
          0.9735973597359736,
          1,
          0.9735973597359736,
          1,
          0.9735973597359736,
          1,
          0.9702970297029703,
          0.9702970297029703,
          0.9702970297029703,
          0.9702970297029703,
          0.9702970297029703,
          0.9702970297029703,
          0.9702970297029703,
          0.9702970297029703,
          0.9702970297029703,
          0.9702970297029703,
          0.9702970297029703,
          0.9702970297029703,
          0.9702970297029703,
          0.9702970297029703,
          0.9702970297029703,
          0.9702970297029703,
          0.9702970297029703,
          0.9702970297029703,
          0.9702970297029703,
          0.9702970297029703,
          0.9702970297029703,
          0.9702970297029703,
          0.9702970297029703,
          0.9702970297029703,
          0.9702970297029703,
          0.9702970297029703,
          0.9884488448844885,
          0.9884488448844885,
          0.9884488448844885,
          0.9884488448844885,
          0.9884488448844885,
          0.9884488448844885,
          0.9884488448844885,
          0.9884488448844885,
          0.9884488448844885,
          0.9884488448844885,
          0.9884488448844885,
          0.9884488448844885,
          0.9884488448844885
         ],
         "yaxis": "y"
        }
       ],
       "layout": {
        "legend": {
         "title": {
          "text": "variable"
         },
         "tracegroupgap": 0
        },
        "template": {
         "data": {
          "bar": [
           {
            "error_x": {
             "color": "#2a3f5f"
            },
            "error_y": {
             "color": "#2a3f5f"
            },
            "marker": {
             "line": {
              "color": "#E5ECF6",
              "width": 0.5
             },
             "pattern": {
              "fillmode": "overlay",
              "size": 10,
              "solidity": 0.2
             }
            },
            "type": "bar"
           }
          ],
          "barpolar": [
           {
            "marker": {
             "line": {
              "color": "#E5ECF6",
              "width": 0.5
             },
             "pattern": {
              "fillmode": "overlay",
              "size": 10,
              "solidity": 0.2
             }
            },
            "type": "barpolar"
           }
          ],
          "carpet": [
           {
            "aaxis": {
             "endlinecolor": "#2a3f5f",
             "gridcolor": "white",
             "linecolor": "white",
             "minorgridcolor": "white",
             "startlinecolor": "#2a3f5f"
            },
            "baxis": {
             "endlinecolor": "#2a3f5f",
             "gridcolor": "white",
             "linecolor": "white",
             "minorgridcolor": "white",
             "startlinecolor": "#2a3f5f"
            },
            "type": "carpet"
           }
          ],
          "choropleth": [
           {
            "colorbar": {
             "outlinewidth": 0,
             "ticks": ""
            },
            "type": "choropleth"
           }
          ],
          "contour": [
           {
            "colorbar": {
             "outlinewidth": 0,
             "ticks": ""
            },
            "colorscale": [
             [
              0,
              "#0d0887"
             ],
             [
              0.1111111111111111,
              "#46039f"
             ],
             [
              0.2222222222222222,
              "#7201a8"
             ],
             [
              0.3333333333333333,
              "#9c179e"
             ],
             [
              0.4444444444444444,
              "#bd3786"
             ],
             [
              0.5555555555555556,
              "#d8576b"
             ],
             [
              0.6666666666666666,
              "#ed7953"
             ],
             [
              0.7777777777777778,
              "#fb9f3a"
             ],
             [
              0.8888888888888888,
              "#fdca26"
             ],
             [
              1,
              "#f0f921"
             ]
            ],
            "type": "contour"
           }
          ],
          "contourcarpet": [
           {
            "colorbar": {
             "outlinewidth": 0,
             "ticks": ""
            },
            "type": "contourcarpet"
           }
          ],
          "heatmap": [
           {
            "colorbar": {
             "outlinewidth": 0,
             "ticks": ""
            },
            "colorscale": [
             [
              0,
              "#0d0887"
             ],
             [
              0.1111111111111111,
              "#46039f"
             ],
             [
              0.2222222222222222,
              "#7201a8"
             ],
             [
              0.3333333333333333,
              "#9c179e"
             ],
             [
              0.4444444444444444,
              "#bd3786"
             ],
             [
              0.5555555555555556,
              "#d8576b"
             ],
             [
              0.6666666666666666,
              "#ed7953"
             ],
             [
              0.7777777777777778,
              "#fb9f3a"
             ],
             [
              0.8888888888888888,
              "#fdca26"
             ],
             [
              1,
              "#f0f921"
             ]
            ],
            "type": "heatmap"
           }
          ],
          "heatmapgl": [
           {
            "colorbar": {
             "outlinewidth": 0,
             "ticks": ""
            },
            "colorscale": [
             [
              0,
              "#0d0887"
             ],
             [
              0.1111111111111111,
              "#46039f"
             ],
             [
              0.2222222222222222,
              "#7201a8"
             ],
             [
              0.3333333333333333,
              "#9c179e"
             ],
             [
              0.4444444444444444,
              "#bd3786"
             ],
             [
              0.5555555555555556,
              "#d8576b"
             ],
             [
              0.6666666666666666,
              "#ed7953"
             ],
             [
              0.7777777777777778,
              "#fb9f3a"
             ],
             [
              0.8888888888888888,
              "#fdca26"
             ],
             [
              1,
              "#f0f921"
             ]
            ],
            "type": "heatmapgl"
           }
          ],
          "histogram": [
           {
            "marker": {
             "pattern": {
              "fillmode": "overlay",
              "size": 10,
              "solidity": 0.2
             }
            },
            "type": "histogram"
           }
          ],
          "histogram2d": [
           {
            "colorbar": {
             "outlinewidth": 0,
             "ticks": ""
            },
            "colorscale": [
             [
              0,
              "#0d0887"
             ],
             [
              0.1111111111111111,
              "#46039f"
             ],
             [
              0.2222222222222222,
              "#7201a8"
             ],
             [
              0.3333333333333333,
              "#9c179e"
             ],
             [
              0.4444444444444444,
              "#bd3786"
             ],
             [
              0.5555555555555556,
              "#d8576b"
             ],
             [
              0.6666666666666666,
              "#ed7953"
             ],
             [
              0.7777777777777778,
              "#fb9f3a"
             ],
             [
              0.8888888888888888,
              "#fdca26"
             ],
             [
              1,
              "#f0f921"
             ]
            ],
            "type": "histogram2d"
           }
          ],
          "histogram2dcontour": [
           {
            "colorbar": {
             "outlinewidth": 0,
             "ticks": ""
            },
            "colorscale": [
             [
              0,
              "#0d0887"
             ],
             [
              0.1111111111111111,
              "#46039f"
             ],
             [
              0.2222222222222222,
              "#7201a8"
             ],
             [
              0.3333333333333333,
              "#9c179e"
             ],
             [
              0.4444444444444444,
              "#bd3786"
             ],
             [
              0.5555555555555556,
              "#d8576b"
             ],
             [
              0.6666666666666666,
              "#ed7953"
             ],
             [
              0.7777777777777778,
              "#fb9f3a"
             ],
             [
              0.8888888888888888,
              "#fdca26"
             ],
             [
              1,
              "#f0f921"
             ]
            ],
            "type": "histogram2dcontour"
           }
          ],
          "mesh3d": [
           {
            "colorbar": {
             "outlinewidth": 0,
             "ticks": ""
            },
            "type": "mesh3d"
           }
          ],
          "parcoords": [
           {
            "line": {
             "colorbar": {
              "outlinewidth": 0,
              "ticks": ""
             }
            },
            "type": "parcoords"
           }
          ],
          "pie": [
           {
            "automargin": true,
            "type": "pie"
           }
          ],
          "scatter": [
           {
            "fillpattern": {
             "fillmode": "overlay",
             "size": 10,
             "solidity": 0.2
            },
            "type": "scatter"
           }
          ],
          "scatter3d": [
           {
            "line": {
             "colorbar": {
              "outlinewidth": 0,
              "ticks": ""
             }
            },
            "marker": {
             "colorbar": {
              "outlinewidth": 0,
              "ticks": ""
             }
            },
            "type": "scatter3d"
           }
          ],
          "scattercarpet": [
           {
            "marker": {
             "colorbar": {
              "outlinewidth": 0,
              "ticks": ""
             }
            },
            "type": "scattercarpet"
           }
          ],
          "scattergeo": [
           {
            "marker": {
             "colorbar": {
              "outlinewidth": 0,
              "ticks": ""
             }
            },
            "type": "scattergeo"
           }
          ],
          "scattergl": [
           {
            "marker": {
             "colorbar": {
              "outlinewidth": 0,
              "ticks": ""
             }
            },
            "type": "scattergl"
           }
          ],
          "scattermapbox": [
           {
            "marker": {
             "colorbar": {
              "outlinewidth": 0,
              "ticks": ""
             }
            },
            "type": "scattermapbox"
           }
          ],
          "scatterpolar": [
           {
            "marker": {
             "colorbar": {
              "outlinewidth": 0,
              "ticks": ""
             }
            },
            "type": "scatterpolar"
           }
          ],
          "scatterpolargl": [
           {
            "marker": {
             "colorbar": {
              "outlinewidth": 0,
              "ticks": ""
             }
            },
            "type": "scatterpolargl"
           }
          ],
          "scatterternary": [
           {
            "marker": {
             "colorbar": {
              "outlinewidth": 0,
              "ticks": ""
             }
            },
            "type": "scatterternary"
           }
          ],
          "surface": [
           {
            "colorbar": {
             "outlinewidth": 0,
             "ticks": ""
            },
            "colorscale": [
             [
              0,
              "#0d0887"
             ],
             [
              0.1111111111111111,
              "#46039f"
             ],
             [
              0.2222222222222222,
              "#7201a8"
             ],
             [
              0.3333333333333333,
              "#9c179e"
             ],
             [
              0.4444444444444444,
              "#bd3786"
             ],
             [
              0.5555555555555556,
              "#d8576b"
             ],
             [
              0.6666666666666666,
              "#ed7953"
             ],
             [
              0.7777777777777778,
              "#fb9f3a"
             ],
             [
              0.8888888888888888,
              "#fdca26"
             ],
             [
              1,
              "#f0f921"
             ]
            ],
            "type": "surface"
           }
          ],
          "table": [
           {
            "cells": {
             "fill": {
              "color": "#EBF0F8"
             },
             "line": {
              "color": "white"
             }
            },
            "header": {
             "fill": {
              "color": "#C8D4E3"
             },
             "line": {
              "color": "white"
             }
            },
            "type": "table"
           }
          ]
         },
         "layout": {
          "annotationdefaults": {
           "arrowcolor": "#2a3f5f",
           "arrowhead": 0,
           "arrowwidth": 1
          },
          "autotypenumbers": "strict",
          "coloraxis": {
           "colorbar": {
            "outlinewidth": 0,
            "ticks": ""
           }
          },
          "colorscale": {
           "diverging": [
            [
             0,
             "#8e0152"
            ],
            [
             0.1,
             "#c51b7d"
            ],
            [
             0.2,
             "#de77ae"
            ],
            [
             0.3,
             "#f1b6da"
            ],
            [
             0.4,
             "#fde0ef"
            ],
            [
             0.5,
             "#f7f7f7"
            ],
            [
             0.6,
             "#e6f5d0"
            ],
            [
             0.7,
             "#b8e186"
            ],
            [
             0.8,
             "#7fbc41"
            ],
            [
             0.9,
             "#4d9221"
            ],
            [
             1,
             "#276419"
            ]
           ],
           "sequential": [
            [
             0,
             "#0d0887"
            ],
            [
             0.1111111111111111,
             "#46039f"
            ],
            [
             0.2222222222222222,
             "#7201a8"
            ],
            [
             0.3333333333333333,
             "#9c179e"
            ],
            [
             0.4444444444444444,
             "#bd3786"
            ],
            [
             0.5555555555555556,
             "#d8576b"
            ],
            [
             0.6666666666666666,
             "#ed7953"
            ],
            [
             0.7777777777777778,
             "#fb9f3a"
            ],
            [
             0.8888888888888888,
             "#fdca26"
            ],
            [
             1,
             "#f0f921"
            ]
           ],
           "sequentialminus": [
            [
             0,
             "#0d0887"
            ],
            [
             0.1111111111111111,
             "#46039f"
            ],
            [
             0.2222222222222222,
             "#7201a8"
            ],
            [
             0.3333333333333333,
             "#9c179e"
            ],
            [
             0.4444444444444444,
             "#bd3786"
            ],
            [
             0.5555555555555556,
             "#d8576b"
            ],
            [
             0.6666666666666666,
             "#ed7953"
            ],
            [
             0.7777777777777778,
             "#fb9f3a"
            ],
            [
             0.8888888888888888,
             "#fdca26"
            ],
            [
             1,
             "#f0f921"
            ]
           ]
          },
          "colorway": [
           "#636efa",
           "#EF553B",
           "#00cc96",
           "#ab63fa",
           "#FFA15A",
           "#19d3f3",
           "#FF6692",
           "#B6E880",
           "#FF97FF",
           "#FECB52"
          ],
          "font": {
           "color": "#2a3f5f"
          },
          "geo": {
           "bgcolor": "white",
           "lakecolor": "white",
           "landcolor": "#E5ECF6",
           "showlakes": true,
           "showland": true,
           "subunitcolor": "white"
          },
          "hoverlabel": {
           "align": "left"
          },
          "hovermode": "closest",
          "mapbox": {
           "style": "light"
          },
          "paper_bgcolor": "white",
          "plot_bgcolor": "#E5ECF6",
          "polar": {
           "angularaxis": {
            "gridcolor": "white",
            "linecolor": "white",
            "ticks": ""
           },
           "bgcolor": "#E5ECF6",
           "radialaxis": {
            "gridcolor": "white",
            "linecolor": "white",
            "ticks": ""
           }
          },
          "scene": {
           "xaxis": {
            "backgroundcolor": "#E5ECF6",
            "gridcolor": "white",
            "gridwidth": 2,
            "linecolor": "white",
            "showbackground": true,
            "ticks": "",
            "zerolinecolor": "white"
           },
           "yaxis": {
            "backgroundcolor": "#E5ECF6",
            "gridcolor": "white",
            "gridwidth": 2,
            "linecolor": "white",
            "showbackground": true,
            "ticks": "",
            "zerolinecolor": "white"
           },
           "zaxis": {
            "backgroundcolor": "#E5ECF6",
            "gridcolor": "white",
            "gridwidth": 2,
            "linecolor": "white",
            "showbackground": true,
            "ticks": "",
            "zerolinecolor": "white"
           }
          },
          "shapedefaults": {
           "line": {
            "color": "#2a3f5f"
           }
          },
          "ternary": {
           "aaxis": {
            "gridcolor": "white",
            "linecolor": "white",
            "ticks": ""
           },
           "baxis": {
            "gridcolor": "white",
            "linecolor": "white",
            "ticks": ""
           },
           "bgcolor": "#E5ECF6",
           "caxis": {
            "gridcolor": "white",
            "linecolor": "white",
            "ticks": ""
           }
          },
          "title": {
           "x": 0.05
          },
          "xaxis": {
           "automargin": true,
           "gridcolor": "white",
           "linecolor": "white",
           "ticks": "",
           "title": {
            "standoff": 15
           },
           "zerolinecolor": "white",
           "zerolinewidth": 2
          },
          "yaxis": {
           "automargin": true,
           "gridcolor": "white",
           "linecolor": "white",
           "ticks": "",
           "title": {
            "standoff": 15
           },
           "zerolinecolor": "white",
           "zerolinewidth": 2
          }
         }
        },
        "title": {
         "text": "Decision Tree Grid Search"
        },
        "xaxis": {
         "anchor": "y",
         "domain": [
          0,
          1
         ],
         "title": {
          "text": "_index"
         }
        },
        "yaxis": {
         "anchor": "x",
         "domain": [
          0,
          1
         ],
         "title": {
          "text": "value"
         }
        }
       }
      }
     },
     "metadata": {},
     "output_type": "display_data"
    }
   ],
   "source": [
    "px.line(grid_tree_results,\n",
    "       y=['mean_test_score','mean_train_score'],\n",
    "       title='Decision Tree Grid Search',\n",
    "       hover_data=['param_criterion', 'param_splitter', 'param_max_depth','param_min_samples_split'],)"
   ]
  },
  {
   "cell_type": "markdown",
   "metadata": {},
   "source": [
    "Implenting KneighborsClassifier\n"
   ]
  },
  {
   "cell_type": "code",
   "execution_count": 137,
   "metadata": {},
   "outputs": [],
   "source": [
    "clf2 = KNeighborsClassifier()\n",
    "params_knn = {\n",
    "    'n_neighbors': [3,5,7,9,10],\n",
    "    'weights': ['uniform', 'distance'],\n",
    "    'algorithm': ['auto', 'ball_tree', 'kd_tree', 'brute'],\n",
    "    'metric': ['euclidean', 'manhattan', 'chebyshev','minkowski'],\n",
    "}"
   ]
  },
  {
   "cell_type": "code",
   "execution_count": 138,
   "metadata": {},
   "outputs": [],
   "source": [
    "grid2 = GridSearchCV(\n",
    "    estimator=clf2,\n",
    "    param_grid=params_knn,\n",
    "    cv = 3,\n",
    "    n_jobs = -1,\n",
    "    verbose =3,\n",
    ")"
   ]
  },
  {
   "cell_type": "code",
   "execution_count": 139,
   "metadata": {},
   "outputs": [
    {
     "name": "stdout",
     "output_type": "stream",
     "text": [
      "Fitting 3 folds for each of 160 candidates, totalling 480 fits\n"
     ]
    },
    {
     "data": {
      "text/html": [
       "<style>#sk-container-id-25 {color: black;background-color: white;}#sk-container-id-25 pre{padding: 0;}#sk-container-id-25 div.sk-toggleable {background-color: white;}#sk-container-id-25 label.sk-toggleable__label {cursor: pointer;display: block;width: 100%;margin-bottom: 0;padding: 0.3em;box-sizing: border-box;text-align: center;}#sk-container-id-25 label.sk-toggleable__label-arrow:before {content: \"▸\";float: left;margin-right: 0.25em;color: #696969;}#sk-container-id-25 label.sk-toggleable__label-arrow:hover:before {color: black;}#sk-container-id-25 div.sk-estimator:hover label.sk-toggleable__label-arrow:before {color: black;}#sk-container-id-25 div.sk-toggleable__content {max-height: 0;max-width: 0;overflow: hidden;text-align: left;background-color: #f0f8ff;}#sk-container-id-25 div.sk-toggleable__content pre {margin: 0.2em;color: black;border-radius: 0.25em;background-color: #f0f8ff;}#sk-container-id-25 input.sk-toggleable__control:checked~div.sk-toggleable__content {max-height: 200px;max-width: 100%;overflow: auto;}#sk-container-id-25 input.sk-toggleable__control:checked~label.sk-toggleable__label-arrow:before {content: \"▾\";}#sk-container-id-25 div.sk-estimator input.sk-toggleable__control:checked~label.sk-toggleable__label {background-color: #d4ebff;}#sk-container-id-25 div.sk-label input.sk-toggleable__control:checked~label.sk-toggleable__label {background-color: #d4ebff;}#sk-container-id-25 input.sk-hidden--visually {border: 0;clip: rect(1px 1px 1px 1px);clip: rect(1px, 1px, 1px, 1px);height: 1px;margin: -1px;overflow: hidden;padding: 0;position: absolute;width: 1px;}#sk-container-id-25 div.sk-estimator {font-family: monospace;background-color: #f0f8ff;border: 1px dotted black;border-radius: 0.25em;box-sizing: border-box;margin-bottom: 0.5em;}#sk-container-id-25 div.sk-estimator:hover {background-color: #d4ebff;}#sk-container-id-25 div.sk-parallel-item::after {content: \"\";width: 100%;border-bottom: 1px solid gray;flex-grow: 1;}#sk-container-id-25 div.sk-label:hover label.sk-toggleable__label {background-color: #d4ebff;}#sk-container-id-25 div.sk-serial::before {content: \"\";position: absolute;border-left: 1px solid gray;box-sizing: border-box;top: 0;bottom: 0;left: 50%;z-index: 0;}#sk-container-id-25 div.sk-serial {display: flex;flex-direction: column;align-items: center;background-color: white;padding-right: 0.2em;padding-left: 0.2em;position: relative;}#sk-container-id-25 div.sk-item {position: relative;z-index: 1;}#sk-container-id-25 div.sk-parallel {display: flex;align-items: stretch;justify-content: center;background-color: white;position: relative;}#sk-container-id-25 div.sk-item::before, #sk-container-id-25 div.sk-parallel-item::before {content: \"\";position: absolute;border-left: 1px solid gray;box-sizing: border-box;top: 0;bottom: 0;left: 50%;z-index: -1;}#sk-container-id-25 div.sk-parallel-item {display: flex;flex-direction: column;z-index: 1;position: relative;background-color: white;}#sk-container-id-25 div.sk-parallel-item:first-child::after {align-self: flex-end;width: 50%;}#sk-container-id-25 div.sk-parallel-item:last-child::after {align-self: flex-start;width: 50%;}#sk-container-id-25 div.sk-parallel-item:only-child::after {width: 0;}#sk-container-id-25 div.sk-dashed-wrapped {border: 1px dashed gray;margin: 0 0.4em 0.5em 0.4em;box-sizing: border-box;padding-bottom: 0.4em;background-color: white;}#sk-container-id-25 div.sk-label label {font-family: monospace;font-weight: bold;display: inline-block;line-height: 1.2em;}#sk-container-id-25 div.sk-label-container {text-align: center;}#sk-container-id-25 div.sk-container {/* jupyter's `normalize.less` sets `[hidden] { display: none; }` but bootstrap.min.css set `[hidden] { display: none !important; }` so we also need the `!important` here to be able to override the default hidden behavior on the sphinx rendered scikit-learn.org. See: https://github.com/scikit-learn/scikit-learn/issues/21755 */display: inline-block !important;position: relative;}#sk-container-id-25 div.sk-text-repr-fallback {display: none;}</style><div id=\"sk-container-id-25\" class=\"sk-top-container\"><div class=\"sk-text-repr-fallback\"><pre>GridSearchCV(cv=3, estimator=KNeighborsClassifier(), n_jobs=-1,\n",
       "             param_grid={&#x27;algorithm&#x27;: [&#x27;auto&#x27;, &#x27;ball_tree&#x27;, &#x27;kd_tree&#x27;, &#x27;brute&#x27;],\n",
       "                         &#x27;metric&#x27;: [&#x27;euclidean&#x27;, &#x27;manhattan&#x27;, &#x27;chebyshev&#x27;,\n",
       "                                    &#x27;minkowski&#x27;],\n",
       "                         &#x27;n_neighbors&#x27;: [3, 5, 7, 9, 10],\n",
       "                         &#x27;weights&#x27;: [&#x27;uniform&#x27;, &#x27;distance&#x27;]},\n",
       "             verbose=3)</pre><b>In a Jupyter environment, please rerun this cell to show the HTML representation or trust the notebook. <br />On GitHub, the HTML representation is unable to render, please try loading this page with nbviewer.org.</b></div><div class=\"sk-container\" hidden><div class=\"sk-item sk-dashed-wrapped\"><div class=\"sk-label-container\"><div class=\"sk-label sk-toggleable\"><input class=\"sk-toggleable__control sk-hidden--visually\" id=\"sk-estimator-id-63\" type=\"checkbox\" ><label for=\"sk-estimator-id-63\" class=\"sk-toggleable__label sk-toggleable__label-arrow\">GridSearchCV</label><div class=\"sk-toggleable__content\"><pre>GridSearchCV(cv=3, estimator=KNeighborsClassifier(), n_jobs=-1,\n",
       "             param_grid={&#x27;algorithm&#x27;: [&#x27;auto&#x27;, &#x27;ball_tree&#x27;, &#x27;kd_tree&#x27;, &#x27;brute&#x27;],\n",
       "                         &#x27;metric&#x27;: [&#x27;euclidean&#x27;, &#x27;manhattan&#x27;, &#x27;chebyshev&#x27;,\n",
       "                                    &#x27;minkowski&#x27;],\n",
       "                         &#x27;n_neighbors&#x27;: [3, 5, 7, 9, 10],\n",
       "                         &#x27;weights&#x27;: [&#x27;uniform&#x27;, &#x27;distance&#x27;]},\n",
       "             verbose=3)</pre></div></div></div><div class=\"sk-parallel\"><div class=\"sk-parallel-item\"><div class=\"sk-item\"><div class=\"sk-label-container\"><div class=\"sk-label sk-toggleable\"><input class=\"sk-toggleable__control sk-hidden--visually\" id=\"sk-estimator-id-64\" type=\"checkbox\" ><label for=\"sk-estimator-id-64\" class=\"sk-toggleable__label sk-toggleable__label-arrow\">estimator: KNeighborsClassifier</label><div class=\"sk-toggleable__content\"><pre>KNeighborsClassifier()</pre></div></div></div><div class=\"sk-serial\"><div class=\"sk-item\"><div class=\"sk-estimator sk-toggleable\"><input class=\"sk-toggleable__control sk-hidden--visually\" id=\"sk-estimator-id-65\" type=\"checkbox\" ><label for=\"sk-estimator-id-65\" class=\"sk-toggleable__label sk-toggleable__label-arrow\">KNeighborsClassifier</label><div class=\"sk-toggleable__content\"><pre>KNeighborsClassifier()</pre></div></div></div></div></div></div></div></div></div></div>"
      ],
      "text/plain": [
       "GridSearchCV(cv=3, estimator=KNeighborsClassifier(), n_jobs=-1,\n",
       "             param_grid={'algorithm': ['auto', 'ball_tree', 'kd_tree', 'brute'],\n",
       "                         'metric': ['euclidean', 'manhattan', 'chebyshev',\n",
       "                                    'minkowski'],\n",
       "                         'n_neighbors': [3, 5, 7, 9, 10],\n",
       "                         'weights': ['uniform', 'distance']},\n",
       "             verbose=3)"
      ]
     },
     "execution_count": 139,
     "metadata": {},
     "output_type": "execute_result"
    }
   ],
   "source": [
    "grid2.fit(X,y)"
   ]
  },
  {
   "cell_type": "code",
   "execution_count": 140,
   "metadata": {},
   "outputs": [
    {
     "data": {
      "text/html": [
       "<div>\n",
       "<style scoped>\n",
       "    .dataframe tbody tr th:only-of-type {\n",
       "        vertical-align: middle;\n",
       "    }\n",
       "\n",
       "    .dataframe tbody tr th {\n",
       "        vertical-align: top;\n",
       "    }\n",
       "\n",
       "    .dataframe thead th {\n",
       "        text-align: right;\n",
       "    }\n",
       "</style>\n",
       "<table border=\"1\" class=\"dataframe\">\n",
       "  <thead>\n",
       "    <tr style=\"text-align: right;\">\n",
       "      <th></th>\n",
       "      <th>index</th>\n",
       "      <th>mean_fit_time</th>\n",
       "      <th>std_fit_time</th>\n",
       "      <th>mean_score_time</th>\n",
       "      <th>std_score_time</th>\n",
       "      <th>param_algorithm</th>\n",
       "      <th>param_metric</th>\n",
       "      <th>param_n_neighbors</th>\n",
       "      <th>param_weights</th>\n",
       "      <th>params</th>\n",
       "      <th>split0_test_score</th>\n",
       "      <th>split1_test_score</th>\n",
       "      <th>split2_test_score</th>\n",
       "      <th>mean_test_score</th>\n",
       "      <th>std_test_score</th>\n",
       "      <th>rank_test_score</th>\n",
       "    </tr>\n",
       "  </thead>\n",
       "  <tbody>\n",
       "    <tr>\n",
       "      <th>0</th>\n",
       "      <td>138</td>\n",
       "      <td>0.000668</td>\n",
       "      <td>4.720449e-04</td>\n",
       "      <td>0.037007</td>\n",
       "      <td>4.667943e-02</td>\n",
       "      <td>brute</td>\n",
       "      <td>manhattan</td>\n",
       "      <td>10</td>\n",
       "      <td>uniform</td>\n",
       "      <td>{'algorithm': 'brute', 'metric': 'manhattan', ...</td>\n",
       "      <td>0.841584</td>\n",
       "      <td>0.861386</td>\n",
       "      <td>0.782178</td>\n",
       "      <td>0.828383</td>\n",
       "      <td>0.033657</td>\n",
       "      <td>1</td>\n",
       "    </tr>\n",
       "    <tr>\n",
       "      <th>1</th>\n",
       "      <td>18</td>\n",
       "      <td>0.000999</td>\n",
       "      <td>0.000000e+00</td>\n",
       "      <td>0.004334</td>\n",
       "      <td>4.716514e-04</td>\n",
       "      <td>auto</td>\n",
       "      <td>manhattan</td>\n",
       "      <td>10</td>\n",
       "      <td>uniform</td>\n",
       "      <td>{'algorithm': 'auto', 'metric': 'manhattan', '...</td>\n",
       "      <td>0.841584</td>\n",
       "      <td>0.861386</td>\n",
       "      <td>0.782178</td>\n",
       "      <td>0.828383</td>\n",
       "      <td>0.033657</td>\n",
       "      <td>1</td>\n",
       "    </tr>\n",
       "    <tr>\n",
       "      <th>2</th>\n",
       "      <td>98</td>\n",
       "      <td>0.001002</td>\n",
       "      <td>1.367303e-06</td>\n",
       "      <td>0.004999</td>\n",
       "      <td>2.170642e-06</td>\n",
       "      <td>kd_tree</td>\n",
       "      <td>manhattan</td>\n",
       "      <td>10</td>\n",
       "      <td>uniform</td>\n",
       "      <td>{'algorithm': 'kd_tree', 'metric': 'manhattan'...</td>\n",
       "      <td>0.841584</td>\n",
       "      <td>0.861386</td>\n",
       "      <td>0.782178</td>\n",
       "      <td>0.828383</td>\n",
       "      <td>0.033657</td>\n",
       "      <td>1</td>\n",
       "    </tr>\n",
       "    <tr>\n",
       "      <th>3</th>\n",
       "      <td>58</td>\n",
       "      <td>0.001001</td>\n",
       "      <td>3.371748e-07</td>\n",
       "      <td>0.004335</td>\n",
       "      <td>1.247002e-03</td>\n",
       "      <td>ball_tree</td>\n",
       "      <td>manhattan</td>\n",
       "      <td>10</td>\n",
       "      <td>uniform</td>\n",
       "      <td>{'algorithm': 'ball_tree', 'metric': 'manhatta...</td>\n",
       "      <td>0.841584</td>\n",
       "      <td>0.861386</td>\n",
       "      <td>0.782178</td>\n",
       "      <td>0.828383</td>\n",
       "      <td>0.033657</td>\n",
       "      <td>1</td>\n",
       "    </tr>\n",
       "    <tr>\n",
       "      <th>4</th>\n",
       "      <td>114</td>\n",
       "      <td>0.001000</td>\n",
       "      <td>1.072147e-06</td>\n",
       "      <td>0.004335</td>\n",
       "      <td>4.702464e-04</td>\n",
       "      <td>kd_tree</td>\n",
       "      <td>minkowski</td>\n",
       "      <td>7</td>\n",
       "      <td>uniform</td>\n",
       "      <td>{'algorithm': 'kd_tree', 'metric': 'minkowski'...</td>\n",
       "      <td>0.851485</td>\n",
       "      <td>0.831683</td>\n",
       "      <td>0.762376</td>\n",
       "      <td>0.815182</td>\n",
       "      <td>0.038204</td>\n",
       "      <td>5</td>\n",
       "    </tr>\n",
       "    <tr>\n",
       "      <th>...</th>\n",
       "      <td>...</td>\n",
       "      <td>...</td>\n",
       "      <td>...</td>\n",
       "      <td>...</td>\n",
       "      <td>...</td>\n",
       "      <td>...</td>\n",
       "      <td>...</td>\n",
       "      <td>...</td>\n",
       "      <td>...</td>\n",
       "      <td>...</td>\n",
       "      <td>...</td>\n",
       "      <td>...</td>\n",
       "      <td>...</td>\n",
       "      <td>...</td>\n",
       "      <td>...</td>\n",
       "      <td>...</td>\n",
       "    </tr>\n",
       "    <tr>\n",
       "      <th>155</th>\n",
       "      <td>20</td>\n",
       "      <td>0.001667</td>\n",
       "      <td>4.711456e-04</td>\n",
       "      <td>0.003000</td>\n",
       "      <td>7.867412e-07</td>\n",
       "      <td>auto</td>\n",
       "      <td>chebyshev</td>\n",
       "      <td>3</td>\n",
       "      <td>uniform</td>\n",
       "      <td>{'algorithm': 'auto', 'metric': 'chebyshev', '...</td>\n",
       "      <td>0.722772</td>\n",
       "      <td>0.752475</td>\n",
       "      <td>0.673267</td>\n",
       "      <td>0.716172</td>\n",
       "      <td>0.032672</td>\n",
       "      <td>155</td>\n",
       "    </tr>\n",
       "    <tr>\n",
       "      <th>156</th>\n",
       "      <td>100</td>\n",
       "      <td>0.001334</td>\n",
       "      <td>4.695188e-04</td>\n",
       "      <td>0.006001</td>\n",
       "      <td>3.591259e-06</td>\n",
       "      <td>kd_tree</td>\n",
       "      <td>chebyshev</td>\n",
       "      <td>3</td>\n",
       "      <td>uniform</td>\n",
       "      <td>{'algorithm': 'kd_tree', 'metric': 'chebyshev'...</td>\n",
       "      <td>0.722772</td>\n",
       "      <td>0.752475</td>\n",
       "      <td>0.673267</td>\n",
       "      <td>0.716172</td>\n",
       "      <td>0.032672</td>\n",
       "      <td>155</td>\n",
       "    </tr>\n",
       "    <tr>\n",
       "      <th>157</th>\n",
       "      <td>140</td>\n",
       "      <td>0.000667</td>\n",
       "      <td>4.715390e-04</td>\n",
       "      <td>0.003000</td>\n",
       "      <td>3.371748e-07</td>\n",
       "      <td>brute</td>\n",
       "      <td>chebyshev</td>\n",
       "      <td>3</td>\n",
       "      <td>uniform</td>\n",
       "      <td>{'algorithm': 'brute', 'metric': 'chebyshev', ...</td>\n",
       "      <td>0.732673</td>\n",
       "      <td>0.732673</td>\n",
       "      <td>0.673267</td>\n",
       "      <td>0.712871</td>\n",
       "      <td>0.028004</td>\n",
       "      <td>158</td>\n",
       "    </tr>\n",
       "    <tr>\n",
       "      <th>158</th>\n",
       "      <td>61</td>\n",
       "      <td>0.000503</td>\n",
       "      <td>4.087146e-04</td>\n",
       "      <td>0.002668</td>\n",
       "      <td>4.730012e-04</td>\n",
       "      <td>ball_tree</td>\n",
       "      <td>chebyshev</td>\n",
       "      <td>3</td>\n",
       "      <td>distance</td>\n",
       "      <td>{'algorithm': 'ball_tree', 'metric': 'chebyshe...</td>\n",
       "      <td>0.722772</td>\n",
       "      <td>0.742574</td>\n",
       "      <td>0.673267</td>\n",
       "      <td>0.712871</td>\n",
       "      <td>0.029148</td>\n",
       "      <td>158</td>\n",
       "    </tr>\n",
       "    <tr>\n",
       "      <th>159</th>\n",
       "      <td>60</td>\n",
       "      <td>0.000667</td>\n",
       "      <td>4.714838e-04</td>\n",
       "      <td>0.005001</td>\n",
       "      <td>8.158543e-04</td>\n",
       "      <td>ball_tree</td>\n",
       "      <td>chebyshev</td>\n",
       "      <td>3</td>\n",
       "      <td>uniform</td>\n",
       "      <td>{'algorithm': 'ball_tree', 'metric': 'chebyshe...</td>\n",
       "      <td>0.722772</td>\n",
       "      <td>0.732673</td>\n",
       "      <td>0.663366</td>\n",
       "      <td>0.706271</td>\n",
       "      <td>0.030606</td>\n",
       "      <td>160</td>\n",
       "    </tr>\n",
       "  </tbody>\n",
       "</table>\n",
       "<p>160 rows × 16 columns</p>\n",
       "</div>"
      ],
      "text/plain": [
       "     index  mean_fit_time  std_fit_time  mean_score_time  std_score_time  \\\n",
       "0      138       0.000668  4.720449e-04         0.037007    4.667943e-02   \n",
       "1       18       0.000999  0.000000e+00         0.004334    4.716514e-04   \n",
       "2       98       0.001002  1.367303e-06         0.004999    2.170642e-06   \n",
       "3       58       0.001001  3.371748e-07         0.004335    1.247002e-03   \n",
       "4      114       0.001000  1.072147e-06         0.004335    4.702464e-04   \n",
       "..     ...            ...           ...              ...             ...   \n",
       "155     20       0.001667  4.711456e-04         0.003000    7.867412e-07   \n",
       "156    100       0.001334  4.695188e-04         0.006001    3.591259e-06   \n",
       "157    140       0.000667  4.715390e-04         0.003000    3.371748e-07   \n",
       "158     61       0.000503  4.087146e-04         0.002668    4.730012e-04   \n",
       "159     60       0.000667  4.714838e-04         0.005001    8.158543e-04   \n",
       "\n",
       "    param_algorithm param_metric param_n_neighbors param_weights  \\\n",
       "0             brute    manhattan                10       uniform   \n",
       "1              auto    manhattan                10       uniform   \n",
       "2           kd_tree    manhattan                10       uniform   \n",
       "3         ball_tree    manhattan                10       uniform   \n",
       "4           kd_tree    minkowski                 7       uniform   \n",
       "..              ...          ...               ...           ...   \n",
       "155            auto    chebyshev                 3       uniform   \n",
       "156         kd_tree    chebyshev                 3       uniform   \n",
       "157           brute    chebyshev                 3       uniform   \n",
       "158       ball_tree    chebyshev                 3      distance   \n",
       "159       ball_tree    chebyshev                 3       uniform   \n",
       "\n",
       "                                                params  split0_test_score  \\\n",
       "0    {'algorithm': 'brute', 'metric': 'manhattan', ...           0.841584   \n",
       "1    {'algorithm': 'auto', 'metric': 'manhattan', '...           0.841584   \n",
       "2    {'algorithm': 'kd_tree', 'metric': 'manhattan'...           0.841584   \n",
       "3    {'algorithm': 'ball_tree', 'metric': 'manhatta...           0.841584   \n",
       "4    {'algorithm': 'kd_tree', 'metric': 'minkowski'...           0.851485   \n",
       "..                                                 ...                ...   \n",
       "155  {'algorithm': 'auto', 'metric': 'chebyshev', '...           0.722772   \n",
       "156  {'algorithm': 'kd_tree', 'metric': 'chebyshev'...           0.722772   \n",
       "157  {'algorithm': 'brute', 'metric': 'chebyshev', ...           0.732673   \n",
       "158  {'algorithm': 'ball_tree', 'metric': 'chebyshe...           0.722772   \n",
       "159  {'algorithm': 'ball_tree', 'metric': 'chebyshe...           0.722772   \n",
       "\n",
       "     split1_test_score  split2_test_score  mean_test_score  std_test_score  \\\n",
       "0             0.861386           0.782178         0.828383        0.033657   \n",
       "1             0.861386           0.782178         0.828383        0.033657   \n",
       "2             0.861386           0.782178         0.828383        0.033657   \n",
       "3             0.861386           0.782178         0.828383        0.033657   \n",
       "4             0.831683           0.762376         0.815182        0.038204   \n",
       "..                 ...                ...              ...             ...   \n",
       "155           0.752475           0.673267         0.716172        0.032672   \n",
       "156           0.752475           0.673267         0.716172        0.032672   \n",
       "157           0.732673           0.673267         0.712871        0.028004   \n",
       "158           0.742574           0.673267         0.712871        0.029148   \n",
       "159           0.732673           0.663366         0.706271        0.030606   \n",
       "\n",
       "     rank_test_score  \n",
       "0                  1  \n",
       "1                  1  \n",
       "2                  1  \n",
       "3                  1  \n",
       "4                  5  \n",
       "..               ...  \n",
       "155              155  \n",
       "156              155  \n",
       "157              158  \n",
       "158              158  \n",
       "159              160  \n",
       "\n",
       "[160 rows x 16 columns]"
      ]
     },
     "execution_count": 140,
     "metadata": {},
     "output_type": "execute_result"
    }
   ],
   "source": [
    "grid_knn_results = pd.DataFrame(grid2.cv_results_)\n",
    "grid_knn_results.sort_values(by='rank_test_score', inplace=True)\n",
    "grid_knn_results.reset_index(inplace=True)\n",
    "grid_knn_results"
   ]
  },
  {
   "cell_type": "code",
   "execution_count": 141,
   "metadata": {},
   "outputs": [
    {
     "name": "stdout",
     "output_type": "stream",
     "text": [
      "['index', 'mean_fit_time', 'std_fit_time', 'mean_score_time', 'std_score_time', 'param_algorithm', 'param_metric', 'param_n_neighbors', 'param_weights', 'params', 'split0_test_score', 'split1_test_score', 'split2_test_score', 'mean_test_score', 'std_test_score', 'rank_test_score']\n"
     ]
    }
   ],
   "source": [
    "print(grid_knn_results.columns.tolist())"
   ]
  },
  {
   "cell_type": "code",
   "execution_count": 142,
   "metadata": {},
   "outputs": [
    {
     "data": {
      "application/vnd.plotly.v1+json": {
       "config": {
        "plotlyServerURL": "https://plot.ly"
       },
       "data": [
        {
         "customdata": [
          [
           10,
           "uniform",
           "brute",
           "manhattan"
          ],
          [
           10,
           "uniform",
           "auto",
           "manhattan"
          ],
          [
           10,
           "uniform",
           "kd_tree",
           "manhattan"
          ],
          [
           10,
           "uniform",
           "ball_tree",
           "manhattan"
          ],
          [
           7,
           "uniform",
           "kd_tree",
           "minkowski"
          ],
          [
           7,
           "distance",
           "brute",
           "euclidean"
          ],
          [
           7,
           "uniform",
           "brute",
           "euclidean"
          ],
          [
           7,
           "uniform",
           "brute",
           "minkowski"
          ],
          [
           7,
           "uniform",
           "auto",
           "minkowski"
          ],
          [
           7,
           "distance",
           "auto",
           "minkowski"
          ],
          [
           7,
           "distance",
           "kd_tree",
           "minkowski"
          ],
          [
           7,
           "uniform",
           "ball_tree",
           "minkowski"
          ],
          [
           7,
           "distance",
           "ball_tree",
           "minkowski"
          ],
          [
           7,
           "distance",
           "kd_tree",
           "euclidean"
          ],
          [
           7,
           "distance",
           "auto",
           "euclidean"
          ],
          [
           7,
           "uniform",
           "auto",
           "euclidean"
          ],
          [
           7,
           "uniform",
           "kd_tree",
           "euclidean"
          ],
          [
           7,
           "uniform",
           "ball_tree",
           "euclidean"
          ],
          [
           7,
           "distance",
           "ball_tree",
           "euclidean"
          ],
          [
           7,
           "distance",
           "brute",
           "minkowski"
          ],
          [
           10,
           "distance",
           "ball_tree",
           "manhattan"
          ],
          [
           10,
           "distance",
           "kd_tree",
           "manhattan"
          ],
          [
           10,
           "distance",
           "auto",
           "manhattan"
          ],
          [
           10,
           "distance",
           "brute",
           "manhattan"
          ],
          [
           5,
           "uniform",
           "auto",
           "minkowski"
          ],
          [
           5,
           "uniform",
           "ball_tree",
           "euclidean"
          ],
          [
           5,
           "uniform",
           "kd_tree",
           "euclidean"
          ],
          [
           5,
           "uniform",
           "brute",
           "minkowski"
          ],
          [
           5,
           "uniform",
           "kd_tree",
           "minkowski"
          ],
          [
           5,
           "uniform",
           "brute",
           "euclidean"
          ],
          [
           5,
           "uniform",
           "auto",
           "euclidean"
          ],
          [
           5,
           "uniform",
           "ball_tree",
           "minkowski"
          ],
          [
           9,
           "distance",
           "brute",
           "manhattan"
          ],
          [
           7,
           "distance",
           "ball_tree",
           "manhattan"
          ],
          [
           9,
           "distance",
           "ball_tree",
           "manhattan"
          ],
          [
           7,
           "distance",
           "kd_tree",
           "manhattan"
          ],
          [
           9,
           "distance",
           "kd_tree",
           "manhattan"
          ],
          [
           7,
           "distance",
           "auto",
           "manhattan"
          ],
          [
           9,
           "distance",
           "auto",
           "manhattan"
          ],
          [
           7,
           "distance",
           "brute",
           "manhattan"
          ],
          [
           9,
           "uniform",
           "kd_tree",
           "minkowski"
          ],
          [
           9,
           "uniform",
           "brute",
           "minkowski"
          ],
          [
           9,
           "uniform",
           "ball_tree",
           "minkowski"
          ],
          [
           9,
           "uniform",
           "kd_tree",
           "euclidean"
          ],
          [
           9,
           "uniform",
           "auto",
           "euclidean"
          ],
          [
           9,
           "uniform",
           "brute",
           "euclidean"
          ],
          [
           9,
           "uniform",
           "ball_tree",
           "euclidean"
          ],
          [
           9,
           "uniform",
           "auto",
           "minkowski"
          ],
          [
           7,
           "uniform",
           "ball_tree",
           "manhattan"
          ],
          [
           9,
           "uniform",
           "ball_tree",
           "manhattan"
          ],
          [
           5,
           "uniform",
           "kd_tree",
           "manhattan"
          ],
          [
           5,
           "uniform",
           "ball_tree",
           "manhattan"
          ],
          [
           5,
           "uniform",
           "brute",
           "manhattan"
          ],
          [
           5,
           "uniform",
           "auto",
           "manhattan"
          ],
          [
           7,
           "uniform",
           "auto",
           "manhattan"
          ],
          [
           9,
           "uniform",
           "brute",
           "manhattan"
          ],
          [
           7,
           "uniform",
           "brute",
           "manhattan"
          ],
          [
           9,
           "uniform",
           "auto",
           "manhattan"
          ],
          [
           9,
           "uniform",
           "kd_tree",
           "manhattan"
          ],
          [
           7,
           "uniform",
           "kd_tree",
           "manhattan"
          ],
          [
           5,
           "distance",
           "auto",
           "euclidean"
          ],
          [
           9,
           "distance",
           "auto",
           "euclidean"
          ],
          [
           9,
           "distance",
           "ball_tree",
           "minkowski"
          ],
          [
           5,
           "distance",
           "kd_tree",
           "minkowski"
          ],
          [
           9,
           "distance",
           "brute",
           "minkowski"
          ],
          [
           5,
           "distance",
           "ball_tree",
           "minkowski"
          ],
          [
           9,
           "distance",
           "kd_tree",
           "euclidean"
          ],
          [
           5,
           "distance",
           "ball_tree",
           "euclidean"
          ],
          [
           5,
           "distance",
           "kd_tree",
           "euclidean"
          ],
          [
           9,
           "distance",
           "kd_tree",
           "minkowski"
          ],
          [
           5,
           "distance",
           "brute",
           "euclidean"
          ],
          [
           5,
           "distance",
           "brute",
           "minkowski"
          ],
          [
           5,
           "distance",
           "auto",
           "minkowski"
          ],
          [
           9,
           "distance",
           "brute",
           "euclidean"
          ],
          [
           9,
           "distance",
           "auto",
           "minkowski"
          ],
          [
           9,
           "distance",
           "ball_tree",
           "euclidean"
          ],
          [
           5,
           "distance",
           "kd_tree",
           "manhattan"
          ],
          [
           5,
           "distance",
           "brute",
           "manhattan"
          ],
          [
           5,
           "distance",
           "auto",
           "manhattan"
          ],
          [
           5,
           "distance",
           "ball_tree",
           "manhattan"
          ],
          [
           10,
           "uniform",
           "kd_tree",
           "minkowski"
          ],
          [
           10,
           "uniform",
           "kd_tree",
           "euclidean"
          ],
          [
           3,
           "uniform",
           "auto",
           "euclidean"
          ],
          [
           3,
           "uniform",
           "kd_tree",
           "euclidean"
          ],
          [
           3,
           "distance",
           "auto",
           "euclidean"
          ],
          [
           10,
           "uniform",
           "auto",
           "euclidean"
          ],
          [
           3,
           "distance",
           "brute",
           "minkowski"
          ],
          [
           3,
           "uniform",
           "brute",
           "minkowski"
          ],
          [
           3,
           "uniform",
           "auto",
           "minkowski"
          ],
          [
           3,
           "distance",
           "auto",
           "minkowski"
          ],
          [
           10,
           "uniform",
           "auto",
           "minkowski"
          ],
          [
           3,
           "uniform",
           "ball_tree",
           "euclidean"
          ],
          [
           3,
           "distance",
           "ball_tree",
           "euclidean"
          ],
          [
           3,
           "distance",
           "kd_tree",
           "euclidean"
          ],
          [
           10,
           "uniform",
           "ball_tree",
           "euclidean"
          ],
          [
           3,
           "distance",
           "kd_tree",
           "minkowski"
          ],
          [
           10,
           "uniform",
           "brute",
           "euclidean"
          ],
          [
           3,
           "distance",
           "brute",
           "euclidean"
          ],
          [
           3,
           "uniform",
           "brute",
           "euclidean"
          ],
          [
           3,
           "uniform",
           "ball_tree",
           "minkowski"
          ],
          [
           3,
           "distance",
           "ball_tree",
           "minkowski"
          ],
          [
           10,
           "uniform",
           "ball_tree",
           "minkowski"
          ],
          [
           10,
           "uniform",
           "brute",
           "minkowski"
          ],
          [
           3,
           "uniform",
           "kd_tree",
           "minkowski"
          ],
          [
           10,
           "distance",
           "kd_tree",
           "minkowski"
          ],
          [
           10,
           "distance",
           "brute",
           "euclidean"
          ],
          [
           10,
           "distance",
           "ball_tree",
           "minkowski"
          ],
          [
           10,
           "distance",
           "ball_tree",
           "euclidean"
          ],
          [
           10,
           "distance",
           "auto",
           "euclidean"
          ],
          [
           10,
           "distance",
           "auto",
           "minkowski"
          ],
          [
           10,
           "distance",
           "kd_tree",
           "euclidean"
          ],
          [
           10,
           "distance",
           "brute",
           "minkowski"
          ],
          [
           3,
           "uniform",
           "auto",
           "manhattan"
          ],
          [
           3,
           "uniform",
           "kd_tree",
           "manhattan"
          ],
          [
           3,
           "uniform",
           "ball_tree",
           "manhattan"
          ],
          [
           3,
           "uniform",
           "brute",
           "manhattan"
          ],
          [
           3,
           "distance",
           "ball_tree",
           "manhattan"
          ],
          [
           3,
           "distance",
           "brute",
           "manhattan"
          ],
          [
           3,
           "distance",
           "auto",
           "manhattan"
          ],
          [
           3,
           "distance",
           "kd_tree",
           "manhattan"
          ],
          [
           10,
           "distance",
           "kd_tree",
           "chebyshev"
          ],
          [
           7,
           "uniform",
           "brute",
           "chebyshev"
          ],
          [
           10,
           "distance",
           "auto",
           "chebyshev"
          ],
          [
           10,
           "uniform",
           "ball_tree",
           "chebyshev"
          ],
          [
           10,
           "uniform",
           "brute",
           "chebyshev"
          ],
          [
           10,
           "uniform",
           "auto",
           "chebyshev"
          ],
          [
           10,
           "distance",
           "brute",
           "chebyshev"
          ],
          [
           5,
           "distance",
           "auto",
           "chebyshev"
          ],
          [
           10,
           "uniform",
           "kd_tree",
           "chebyshev"
          ],
          [
           7,
           "distance",
           "brute",
           "chebyshev"
          ],
          [
           5,
           "distance",
           "kd_tree",
           "chebyshev"
          ],
          [
           10,
           "distance",
           "ball_tree",
           "chebyshev"
          ],
          [
           9,
           "distance",
           "kd_tree",
           "chebyshev"
          ],
          [
           5,
           "uniform",
           "kd_tree",
           "chebyshev"
          ],
          [
           9,
           "uniform",
           "kd_tree",
           "chebyshev"
          ],
          [
           5,
           "uniform",
           "auto",
           "chebyshev"
          ],
          [
           9,
           "distance",
           "auto",
           "chebyshev"
          ],
          [
           9,
           "uniform",
           "auto",
           "chebyshev"
          ],
          [
           3,
           "distance",
           "kd_tree",
           "chebyshev"
          ],
          [
           3,
           "distance",
           "auto",
           "chebyshev"
          ],
          [
           7,
           "distance",
           "kd_tree",
           "chebyshev"
          ],
          [
           7,
           "uniform",
           "auto",
           "chebyshev"
          ],
          [
           9,
           "distance",
           "ball_tree",
           "chebyshev"
          ],
          [
           9,
           "distance",
           "brute",
           "chebyshev"
          ],
          [
           9,
           "uniform",
           "brute",
           "chebyshev"
          ],
          [
           9,
           "uniform",
           "ball_tree",
           "chebyshev"
          ],
          [
           5,
           "distance",
           "brute",
           "chebyshev"
          ],
          [
           7,
           "distance",
           "auto",
           "chebyshev"
          ],
          [
           7,
           "uniform",
           "kd_tree",
           "chebyshev"
          ],
          [
           5,
           "distance",
           "ball_tree",
           "chebyshev"
          ],
          [
           7,
           "distance",
           "ball_tree",
           "chebyshev"
          ],
          [
           3,
           "distance",
           "brute",
           "chebyshev"
          ],
          [
           7,
           "uniform",
           "ball_tree",
           "chebyshev"
          ],
          [
           5,
           "uniform",
           "ball_tree",
           "chebyshev"
          ],
          [
           5,
           "uniform",
           "brute",
           "chebyshev"
          ],
          [
           3,
           "uniform",
           "auto",
           "chebyshev"
          ],
          [
           3,
           "uniform",
           "kd_tree",
           "chebyshev"
          ],
          [
           3,
           "uniform",
           "brute",
           "chebyshev"
          ],
          [
           3,
           "distance",
           "ball_tree",
           "chebyshev"
          ],
          [
           3,
           "uniform",
           "ball_tree",
           "chebyshev"
          ]
         ],
         "hovertemplate": "_index=%{x}<br>mean_test_score=%{y}<br>param_n_neighbors=%{customdata[0]}<br>param_weights=%{customdata[1]}<br>param_algorithm=%{customdata[2]}<br>param_metric=%{customdata[3]}<extra></extra>",
         "legendgroup": "",
         "line": {
          "color": "#636efa",
          "dash": "solid"
         },
         "marker": {
          "symbol": "circle"
         },
         "mode": "lines",
         "name": "",
         "orientation": "v",
         "showlegend": false,
         "type": "scatter",
         "x": [
          0,
          1,
          2,
          3,
          4,
          5,
          6,
          7,
          8,
          9,
          10,
          11,
          12,
          13,
          14,
          15,
          16,
          17,
          18,
          19,
          20,
          21,
          22,
          23,
          24,
          25,
          26,
          27,
          28,
          29,
          30,
          31,
          32,
          33,
          34,
          35,
          36,
          37,
          38,
          39,
          40,
          41,
          42,
          43,
          44,
          45,
          46,
          47,
          48,
          49,
          50,
          51,
          52,
          53,
          54,
          55,
          56,
          57,
          58,
          59,
          60,
          61,
          62,
          63,
          64,
          65,
          66,
          67,
          68,
          69,
          70,
          71,
          72,
          73,
          74,
          75,
          76,
          77,
          78,
          79,
          80,
          81,
          82,
          83,
          84,
          85,
          86,
          87,
          88,
          89,
          90,
          91,
          92,
          93,
          94,
          95,
          96,
          97,
          98,
          99,
          100,
          101,
          102,
          103,
          104,
          105,
          106,
          107,
          108,
          109,
          110,
          111,
          112,
          113,
          114,
          115,
          116,
          117,
          118,
          119,
          120,
          121,
          122,
          123,
          124,
          125,
          126,
          127,
          128,
          129,
          130,
          131,
          132,
          133,
          134,
          135,
          136,
          137,
          138,
          139,
          140,
          141,
          142,
          143,
          144,
          145,
          146,
          147,
          148,
          149,
          150,
          151,
          152,
          153,
          154,
          155,
          156,
          157,
          158,
          159
         ],
         "xaxis": "x",
         "y": [
          0.8283828382838284,
          0.8283828382838284,
          0.8283828382838284,
          0.8283828382838284,
          0.8151815181518152,
          0.8151815181518152,
          0.8151815181518152,
          0.8151815181518152,
          0.8151815181518152,
          0.8151815181518152,
          0.8151815181518152,
          0.8151815181518152,
          0.8151815181518152,
          0.8151815181518152,
          0.8151815181518152,
          0.8151815181518152,
          0.8151815181518152,
          0.8151815181518152,
          0.8151815181518152,
          0.8151815181518152,
          0.811881188118812,
          0.811881188118812,
          0.811881188118812,
          0.811881188118812,
          0.8118811881188118,
          0.8118811881188118,
          0.8118811881188118,
          0.8118811881188118,
          0.8118811881188118,
          0.8118811881188118,
          0.8118811881188118,
          0.8118811881188118,
          0.8085808580858087,
          0.8085808580858087,
          0.8085808580858087,
          0.8085808580858087,
          0.8085808580858087,
          0.8085808580858087,
          0.8085808580858087,
          0.8085808580858087,
          0.8085808580858086,
          0.8085808580858086,
          0.8085808580858086,
          0.8085808580858086,
          0.8085808580858086,
          0.8085808580858086,
          0.8085808580858086,
          0.8085808580858086,
          0.8052805280528054,
          0.8052805280528054,
          0.8052805280528054,
          0.8052805280528054,
          0.8052805280528054,
          0.8052805280528054,
          0.8052805280528054,
          0.8052805280528054,
          0.8052805280528054,
          0.8052805280528054,
          0.8052805280528054,
          0.8052805280528054,
          0.8052805280528053,
          0.8052805280528053,
          0.8052805280528053,
          0.8052805280528053,
          0.8052805280528053,
          0.8052805280528053,
          0.8052805280528053,
          0.8052805280528053,
          0.8052805280528053,
          0.8052805280528053,
          0.8052805280528053,
          0.8052805280528053,
          0.8052805280528053,
          0.8052805280528053,
          0.8052805280528053,
          0.8052805280528053,
          0.8019801980198021,
          0.8019801980198021,
          0.8019801980198021,
          0.8019801980198021,
          0.7986798679867988,
          0.7986798679867988,
          0.7986798679867988,
          0.7986798679867988,
          0.7986798679867988,
          0.7986798679867988,
          0.7986798679867988,
          0.7986798679867988,
          0.7986798679867988,
          0.7986798679867988,
          0.7986798679867988,
          0.7986798679867988,
          0.7986798679867988,
          0.7986798679867988,
          0.7986798679867988,
          0.7986798679867988,
          0.7986798679867988,
          0.7986798679867988,
          0.7986798679867988,
          0.7986798679867988,
          0.7986798679867988,
          0.7986798679867988,
          0.7986798679867988,
          0.7986798679867988,
          0.7986798679867987,
          0.7986798679867987,
          0.7986798679867987,
          0.7986798679867987,
          0.7986798679867987,
          0.7986798679867987,
          0.7986798679867987,
          0.7986798679867987,
          0.7887788778877889,
          0.7887788778877889,
          0.7887788778877889,
          0.7887788778877889,
          0.7854785478547855,
          0.7854785478547855,
          0.7854785478547855,
          0.7854785478547855,
          0.7326732673267328,
          0.7326732673267328,
          0.7326732673267328,
          0.7326732673267328,
          0.7293729372937294,
          0.7293729372937294,
          0.7293729372937294,
          0.7293729372937294,
          0.7293729372937294,
          0.7293729372937294,
          0.7293729372937294,
          0.7293729372937294,
          0.7260726072607261,
          0.7260726072607261,
          0.7260726072607261,
          0.7260726072607261,
          0.7260726072607261,
          0.7260726072607261,
          0.7227722772277229,
          0.7227722772277229,
          0.7227722772277229,
          0.7227722772277229,
          0.7227722772277229,
          0.7227722772277229,
          0.7227722772277229,
          0.7227722772277229,
          0.7227722772277229,
          0.7227722772277229,
          0.7227722772277229,
          0.7227722772277229,
          0.7194719471947195,
          0.7194719471947195,
          0.7194719471947195,
          0.7194719471947195,
          0.7161716171617162,
          0.7161716171617162,
          0.7161716171617162,
          0.712871287128713,
          0.712871287128713,
          0.7062706270627063
         ],
         "yaxis": "y"
        }
       ],
       "layout": {
        "legend": {
         "tracegroupgap": 0
        },
        "template": {
         "data": {
          "bar": [
           {
            "error_x": {
             "color": "#2a3f5f"
            },
            "error_y": {
             "color": "#2a3f5f"
            },
            "marker": {
             "line": {
              "color": "#E5ECF6",
              "width": 0.5
             },
             "pattern": {
              "fillmode": "overlay",
              "size": 10,
              "solidity": 0.2
             }
            },
            "type": "bar"
           }
          ],
          "barpolar": [
           {
            "marker": {
             "line": {
              "color": "#E5ECF6",
              "width": 0.5
             },
             "pattern": {
              "fillmode": "overlay",
              "size": 10,
              "solidity": 0.2
             }
            },
            "type": "barpolar"
           }
          ],
          "carpet": [
           {
            "aaxis": {
             "endlinecolor": "#2a3f5f",
             "gridcolor": "white",
             "linecolor": "white",
             "minorgridcolor": "white",
             "startlinecolor": "#2a3f5f"
            },
            "baxis": {
             "endlinecolor": "#2a3f5f",
             "gridcolor": "white",
             "linecolor": "white",
             "minorgridcolor": "white",
             "startlinecolor": "#2a3f5f"
            },
            "type": "carpet"
           }
          ],
          "choropleth": [
           {
            "colorbar": {
             "outlinewidth": 0,
             "ticks": ""
            },
            "type": "choropleth"
           }
          ],
          "contour": [
           {
            "colorbar": {
             "outlinewidth": 0,
             "ticks": ""
            },
            "colorscale": [
             [
              0,
              "#0d0887"
             ],
             [
              0.1111111111111111,
              "#46039f"
             ],
             [
              0.2222222222222222,
              "#7201a8"
             ],
             [
              0.3333333333333333,
              "#9c179e"
             ],
             [
              0.4444444444444444,
              "#bd3786"
             ],
             [
              0.5555555555555556,
              "#d8576b"
             ],
             [
              0.6666666666666666,
              "#ed7953"
             ],
             [
              0.7777777777777778,
              "#fb9f3a"
             ],
             [
              0.8888888888888888,
              "#fdca26"
             ],
             [
              1,
              "#f0f921"
             ]
            ],
            "type": "contour"
           }
          ],
          "contourcarpet": [
           {
            "colorbar": {
             "outlinewidth": 0,
             "ticks": ""
            },
            "type": "contourcarpet"
           }
          ],
          "heatmap": [
           {
            "colorbar": {
             "outlinewidth": 0,
             "ticks": ""
            },
            "colorscale": [
             [
              0,
              "#0d0887"
             ],
             [
              0.1111111111111111,
              "#46039f"
             ],
             [
              0.2222222222222222,
              "#7201a8"
             ],
             [
              0.3333333333333333,
              "#9c179e"
             ],
             [
              0.4444444444444444,
              "#bd3786"
             ],
             [
              0.5555555555555556,
              "#d8576b"
             ],
             [
              0.6666666666666666,
              "#ed7953"
             ],
             [
              0.7777777777777778,
              "#fb9f3a"
             ],
             [
              0.8888888888888888,
              "#fdca26"
             ],
             [
              1,
              "#f0f921"
             ]
            ],
            "type": "heatmap"
           }
          ],
          "heatmapgl": [
           {
            "colorbar": {
             "outlinewidth": 0,
             "ticks": ""
            },
            "colorscale": [
             [
              0,
              "#0d0887"
             ],
             [
              0.1111111111111111,
              "#46039f"
             ],
             [
              0.2222222222222222,
              "#7201a8"
             ],
             [
              0.3333333333333333,
              "#9c179e"
             ],
             [
              0.4444444444444444,
              "#bd3786"
             ],
             [
              0.5555555555555556,
              "#d8576b"
             ],
             [
              0.6666666666666666,
              "#ed7953"
             ],
             [
              0.7777777777777778,
              "#fb9f3a"
             ],
             [
              0.8888888888888888,
              "#fdca26"
             ],
             [
              1,
              "#f0f921"
             ]
            ],
            "type": "heatmapgl"
           }
          ],
          "histogram": [
           {
            "marker": {
             "pattern": {
              "fillmode": "overlay",
              "size": 10,
              "solidity": 0.2
             }
            },
            "type": "histogram"
           }
          ],
          "histogram2d": [
           {
            "colorbar": {
             "outlinewidth": 0,
             "ticks": ""
            },
            "colorscale": [
             [
              0,
              "#0d0887"
             ],
             [
              0.1111111111111111,
              "#46039f"
             ],
             [
              0.2222222222222222,
              "#7201a8"
             ],
             [
              0.3333333333333333,
              "#9c179e"
             ],
             [
              0.4444444444444444,
              "#bd3786"
             ],
             [
              0.5555555555555556,
              "#d8576b"
             ],
             [
              0.6666666666666666,
              "#ed7953"
             ],
             [
              0.7777777777777778,
              "#fb9f3a"
             ],
             [
              0.8888888888888888,
              "#fdca26"
             ],
             [
              1,
              "#f0f921"
             ]
            ],
            "type": "histogram2d"
           }
          ],
          "histogram2dcontour": [
           {
            "colorbar": {
             "outlinewidth": 0,
             "ticks": ""
            },
            "colorscale": [
             [
              0,
              "#0d0887"
             ],
             [
              0.1111111111111111,
              "#46039f"
             ],
             [
              0.2222222222222222,
              "#7201a8"
             ],
             [
              0.3333333333333333,
              "#9c179e"
             ],
             [
              0.4444444444444444,
              "#bd3786"
             ],
             [
              0.5555555555555556,
              "#d8576b"
             ],
             [
              0.6666666666666666,
              "#ed7953"
             ],
             [
              0.7777777777777778,
              "#fb9f3a"
             ],
             [
              0.8888888888888888,
              "#fdca26"
             ],
             [
              1,
              "#f0f921"
             ]
            ],
            "type": "histogram2dcontour"
           }
          ],
          "mesh3d": [
           {
            "colorbar": {
             "outlinewidth": 0,
             "ticks": ""
            },
            "type": "mesh3d"
           }
          ],
          "parcoords": [
           {
            "line": {
             "colorbar": {
              "outlinewidth": 0,
              "ticks": ""
             }
            },
            "type": "parcoords"
           }
          ],
          "pie": [
           {
            "automargin": true,
            "type": "pie"
           }
          ],
          "scatter": [
           {
            "fillpattern": {
             "fillmode": "overlay",
             "size": 10,
             "solidity": 0.2
            },
            "type": "scatter"
           }
          ],
          "scatter3d": [
           {
            "line": {
             "colorbar": {
              "outlinewidth": 0,
              "ticks": ""
             }
            },
            "marker": {
             "colorbar": {
              "outlinewidth": 0,
              "ticks": ""
             }
            },
            "type": "scatter3d"
           }
          ],
          "scattercarpet": [
           {
            "marker": {
             "colorbar": {
              "outlinewidth": 0,
              "ticks": ""
             }
            },
            "type": "scattercarpet"
           }
          ],
          "scattergeo": [
           {
            "marker": {
             "colorbar": {
              "outlinewidth": 0,
              "ticks": ""
             }
            },
            "type": "scattergeo"
           }
          ],
          "scattergl": [
           {
            "marker": {
             "colorbar": {
              "outlinewidth": 0,
              "ticks": ""
             }
            },
            "type": "scattergl"
           }
          ],
          "scattermapbox": [
           {
            "marker": {
             "colorbar": {
              "outlinewidth": 0,
              "ticks": ""
             }
            },
            "type": "scattermapbox"
           }
          ],
          "scatterpolar": [
           {
            "marker": {
             "colorbar": {
              "outlinewidth": 0,
              "ticks": ""
             }
            },
            "type": "scatterpolar"
           }
          ],
          "scatterpolargl": [
           {
            "marker": {
             "colorbar": {
              "outlinewidth": 0,
              "ticks": ""
             }
            },
            "type": "scatterpolargl"
           }
          ],
          "scatterternary": [
           {
            "marker": {
             "colorbar": {
              "outlinewidth": 0,
              "ticks": ""
             }
            },
            "type": "scatterternary"
           }
          ],
          "surface": [
           {
            "colorbar": {
             "outlinewidth": 0,
             "ticks": ""
            },
            "colorscale": [
             [
              0,
              "#0d0887"
             ],
             [
              0.1111111111111111,
              "#46039f"
             ],
             [
              0.2222222222222222,
              "#7201a8"
             ],
             [
              0.3333333333333333,
              "#9c179e"
             ],
             [
              0.4444444444444444,
              "#bd3786"
             ],
             [
              0.5555555555555556,
              "#d8576b"
             ],
             [
              0.6666666666666666,
              "#ed7953"
             ],
             [
              0.7777777777777778,
              "#fb9f3a"
             ],
             [
              0.8888888888888888,
              "#fdca26"
             ],
             [
              1,
              "#f0f921"
             ]
            ],
            "type": "surface"
           }
          ],
          "table": [
           {
            "cells": {
             "fill": {
              "color": "#EBF0F8"
             },
             "line": {
              "color": "white"
             }
            },
            "header": {
             "fill": {
              "color": "#C8D4E3"
             },
             "line": {
              "color": "white"
             }
            },
            "type": "table"
           }
          ]
         },
         "layout": {
          "annotationdefaults": {
           "arrowcolor": "#2a3f5f",
           "arrowhead": 0,
           "arrowwidth": 1
          },
          "autotypenumbers": "strict",
          "coloraxis": {
           "colorbar": {
            "outlinewidth": 0,
            "ticks": ""
           }
          },
          "colorscale": {
           "diverging": [
            [
             0,
             "#8e0152"
            ],
            [
             0.1,
             "#c51b7d"
            ],
            [
             0.2,
             "#de77ae"
            ],
            [
             0.3,
             "#f1b6da"
            ],
            [
             0.4,
             "#fde0ef"
            ],
            [
             0.5,
             "#f7f7f7"
            ],
            [
             0.6,
             "#e6f5d0"
            ],
            [
             0.7,
             "#b8e186"
            ],
            [
             0.8,
             "#7fbc41"
            ],
            [
             0.9,
             "#4d9221"
            ],
            [
             1,
             "#276419"
            ]
           ],
           "sequential": [
            [
             0,
             "#0d0887"
            ],
            [
             0.1111111111111111,
             "#46039f"
            ],
            [
             0.2222222222222222,
             "#7201a8"
            ],
            [
             0.3333333333333333,
             "#9c179e"
            ],
            [
             0.4444444444444444,
             "#bd3786"
            ],
            [
             0.5555555555555556,
             "#d8576b"
            ],
            [
             0.6666666666666666,
             "#ed7953"
            ],
            [
             0.7777777777777778,
             "#fb9f3a"
            ],
            [
             0.8888888888888888,
             "#fdca26"
            ],
            [
             1,
             "#f0f921"
            ]
           ],
           "sequentialminus": [
            [
             0,
             "#0d0887"
            ],
            [
             0.1111111111111111,
             "#46039f"
            ],
            [
             0.2222222222222222,
             "#7201a8"
            ],
            [
             0.3333333333333333,
             "#9c179e"
            ],
            [
             0.4444444444444444,
             "#bd3786"
            ],
            [
             0.5555555555555556,
             "#d8576b"
            ],
            [
             0.6666666666666666,
             "#ed7953"
            ],
            [
             0.7777777777777778,
             "#fb9f3a"
            ],
            [
             0.8888888888888888,
             "#fdca26"
            ],
            [
             1,
             "#f0f921"
            ]
           ]
          },
          "colorway": [
           "#636efa",
           "#EF553B",
           "#00cc96",
           "#ab63fa",
           "#FFA15A",
           "#19d3f3",
           "#FF6692",
           "#B6E880",
           "#FF97FF",
           "#FECB52"
          ],
          "font": {
           "color": "#2a3f5f"
          },
          "geo": {
           "bgcolor": "white",
           "lakecolor": "white",
           "landcolor": "#E5ECF6",
           "showlakes": true,
           "showland": true,
           "subunitcolor": "white"
          },
          "hoverlabel": {
           "align": "left"
          },
          "hovermode": "closest",
          "mapbox": {
           "style": "light"
          },
          "paper_bgcolor": "white",
          "plot_bgcolor": "#E5ECF6",
          "polar": {
           "angularaxis": {
            "gridcolor": "white",
            "linecolor": "white",
            "ticks": ""
           },
           "bgcolor": "#E5ECF6",
           "radialaxis": {
            "gridcolor": "white",
            "linecolor": "white",
            "ticks": ""
           }
          },
          "scene": {
           "xaxis": {
            "backgroundcolor": "#E5ECF6",
            "gridcolor": "white",
            "gridwidth": 2,
            "linecolor": "white",
            "showbackground": true,
            "ticks": "",
            "zerolinecolor": "white"
           },
           "yaxis": {
            "backgroundcolor": "#E5ECF6",
            "gridcolor": "white",
            "gridwidth": 2,
            "linecolor": "white",
            "showbackground": true,
            "ticks": "",
            "zerolinecolor": "white"
           },
           "zaxis": {
            "backgroundcolor": "#E5ECF6",
            "gridcolor": "white",
            "gridwidth": 2,
            "linecolor": "white",
            "showbackground": true,
            "ticks": "",
            "zerolinecolor": "white"
           }
          },
          "shapedefaults": {
           "line": {
            "color": "#2a3f5f"
           }
          },
          "ternary": {
           "aaxis": {
            "gridcolor": "white",
            "linecolor": "white",
            "ticks": ""
           },
           "baxis": {
            "gridcolor": "white",
            "linecolor": "white",
            "ticks": ""
           },
           "bgcolor": "#E5ECF6",
           "caxis": {
            "gridcolor": "white",
            "linecolor": "white",
            "ticks": ""
           }
          },
          "title": {
           "x": 0.05
          },
          "xaxis": {
           "automargin": true,
           "gridcolor": "white",
           "linecolor": "white",
           "ticks": "",
           "title": {
            "standoff": 15
           },
           "zerolinecolor": "white",
           "zerolinewidth": 2
          },
          "yaxis": {
           "automargin": true,
           "gridcolor": "white",
           "linecolor": "white",
           "ticks": "",
           "title": {
            "standoff": 15
           },
           "zerolinecolor": "white",
           "zerolinewidth": 2
          }
         }
        },
        "title": {
         "text": "KNN Grid Search"
        },
        "xaxis": {
         "anchor": "y",
         "domain": [
          0,
          1
         ],
         "title": {
          "text": "_index"
         }
        },
        "yaxis": {
         "anchor": "x",
         "domain": [
          0,
          1
         ],
         "title": {
          "text": "mean_test_score"
         }
        }
       }
      }
     },
     "metadata": {},
     "output_type": "display_data"
    }
   ],
   "source": [
    "px.line(grid_knn_results,\n",
    "        y='mean_test_score',\n",
    "        title = 'KNN Grid Search',\n",
    "        hover_data=['param_n_neighbors', 'param_weights', 'param_algorithm', 'param_metric'],\n",
    "        )"
   ]
  },
  {
   "cell_type": "code",
   "execution_count": null,
   "metadata": {},
   "outputs": [],
   "source": []
  }
 ],
 "metadata": {
  "kernelspec": {
   "display_name": "Python 3.9.13 ('base')",
   "language": "python",
   "name": "python3"
  },
  "language_info": {
   "codemirror_mode": {
    "name": "ipython",
    "version": 3
   },
   "file_extension": ".py",
   "mimetype": "text/x-python",
   "name": "python",
   "nbconvert_exporter": "python",
   "pygments_lexer": "ipython3",
   "version": "3.9.13"
  },
  "orig_nbformat": 4,
  "vscode": {
   "interpreter": {
    "hash": "203ec5af3e26acf3e3c83a4183d4b4efe59642f60e2721ccf6236536a59ece46"
   }
  }
 },
 "nbformat": 4,
 "nbformat_minor": 2
}
